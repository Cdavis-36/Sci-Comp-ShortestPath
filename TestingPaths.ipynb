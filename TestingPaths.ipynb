{
 "cells": [
  {
   "cell_type": "code",
   "execution_count": 1,
   "id": "c42c3530-d183-49a1-8936-a59aa7031df7",
   "metadata": {},
   "outputs": [],
   "source": [
    "using Revise\n",
    "includet(\"../Sci-Comp-ShortestPath/WeightedGraphs.jl\")\n",
    "using .WeightedGraphs"
   ]
  },
  {
   "cell_type": "code",
   "execution_count": 2,
   "id": "05d77c30-96f0-41c9-bcee-dd3bd1826631",
   "metadata": {},
   "outputs": [],
   "source": [
    "using Graphs, Plots, GraphRecipes"
   ]
  },
  {
   "cell_type": "code",
   "execution_count": 125,
   "id": "b7d0f1da-d673-44ad-9ac5-f454c2131101",
   "metadata": {},
   "outputs": [
    {
     "data": {
      "text/plain": [
       "Vertex[]Main.WeightedGraphs.Edge[]"
      ]
     },
     "execution_count": 125,
     "metadata": {},
     "output_type": "execute_result"
    }
   ],
   "source": [
    "v1 = Vertex(:A)\n",
    "v2 = Vertex(:B)\n",
    "v3 = Vertex(:C)\n",
    "v4 = Vertex(:D)\n",
    "v5 = Vertex(:E)\n",
    "v6 = Vertex(:F)\n",
    "e1 = WeightedGraphs.Edge(:A,:B,3)\n",
    "e2 = WeightedGraphs.Edge(:B,:C,5)\n",
    "e3 = WeightedGraphs.Edge(:C,:A,7)\n",
    "e4 = WeightedGraphs.Edge(:C,:D,7)\n",
    "e5 = WeightedGraphs.Edge(:D,:E,7)\n",
    "e6 = WeightedGraphs.Edge(:E,:F,7)\n",
    "e7 = WeightedGraphs.Edge(:F,:A,5)\n",
    "g = WeightedGraph()\n",
    "g2 = WeightedGraph()"
   ]
  },
  {
   "cell_type": "code",
   "execution_count": 4,
   "id": "64ef69d7-e214-4c31-a6ab-d14bb8435f68",
   "metadata": {},
   "outputs": [],
   "source": [
    "addVertices!(g,v1,v2,v3)\n",
    "#addVertex!(g,v2)\n",
    "#addVertex!(g,v3)"
   ]
  },
  {
   "cell_type": "code",
   "execution_count": 5,
   "id": "02820158-4c89-45ca-8ef9-6f5579c4feb1",
   "metadata": {},
   "outputs": [],
   "source": [
    "addEdges!(g,e1,e2,e3)\n",
    "#addEdge!(g,e2)\n",
    "#addEdge!(g,e3)"
   ]
  },
  {
   "cell_type": "code",
   "execution_count": 6,
   "id": "b4e07cf5-3078-44ec-be69-d5bfbae16e6c",
   "metadata": {},
   "outputs": [],
   "source": [
    "addVertices!(g2,v1,v2,v3,v4,v5,v6)"
   ]
  },
  {
   "cell_type": "code",
   "execution_count": 7,
   "id": "ec37ea88-b893-40c6-b701-b89a3e54a031",
   "metadata": {},
   "outputs": [],
   "source": [
    "addEdges!(g2,e1,e2,e3,e4,e5,e6,e7)"
   ]
  },
  {
   "cell_type": "code",
   "execution_count": 8,
   "id": "6ecd56fd-dc01-4a60-b85d-f207c1d42d36",
   "metadata": {},
   "outputs": [
    {
     "data": {
      "image/svg+xml": [
       "<?xml version=\"1.0\" encoding=\"utf-8\"?>\n",
       "<svg xmlns=\"http://www.w3.org/2000/svg\" xmlns:xlink=\"http://www.w3.org/1999/xlink\" width=\"600\" height=\"400\" viewBox=\"0 0 2400 1600\">\n",
       "<defs>\n",
       "  <clipPath id=\"clip610\">\n",
       "    <rect x=\"0\" y=\"0\" width=\"2400\" height=\"1600\"/>\n",
       "  </clipPath>\n",
       "</defs>\n",
       "<path clip-path=\"url(#clip610)\" d=\"\n",
       "M0 1600 L2400 1600 L2400 0 L0 0  Z\n",
       "  \" fill=\"#ffffff\" fill-rule=\"evenodd\" fill-opacity=\"1\"/>\n",
       "<defs>\n",
       "  <clipPath id=\"clip611\">\n",
       "    <rect x=\"480\" y=\"0\" width=\"1681\" height=\"1600\"/>\n",
       "  </clipPath>\n",
       "</defs>\n",
       "<path clip-path=\"url(#clip610)\" d=\"\n",
       "M447.244 1552.76 L1952.76 1552.76 L1952.76 47.2441 L447.244 47.2441  Z\n",
       "  \" fill=\"#ffffff\" fill-rule=\"evenodd\" fill-opacity=\"1\"/>\n",
       "<defs>\n",
       "  <clipPath id=\"clip612\">\n",
       "    <rect x=\"447\" y=\"47\" width=\"1507\" height=\"1507\"/>\n",
       "  </clipPath>\n",
       "</defs>\n",
       "<polyline clip-path=\"url(#clip612)\" style=\"stroke:#000000; stroke-linecap:round; stroke-linejoin:round; stroke-width:4; stroke-opacity:1; fill:none\" points=\"\n",
       "  1737.68,776.292 1714.32,768.771 1690.96,761.24 1667.61,753.69 1644.27,746.109 1620.95,738.49 1597.66,730.82 1574.39,723.092 1551.16,715.294 1527.97,707.417 \n",
       "  1504.81,699.451 1481.71,691.386 1458.66,683.212 1435.66,674.919 1412.72,666.498 1389.86,657.938 1367.06,649.229 1344.34,640.363 1321.7,631.328 1299.14,622.115 \n",
       "  1276.67,612.714 1254.3,603.115 1232.03,593.308 1209.86,583.283 1187.8,573.031 1165.85,562.542 1144.02,551.815 1122.3,540.861 1100.68,529.69 1079.16,518.31 \n",
       "  1057.73,506.733 1036.39,494.967 1015.14,483.024 993.973,470.912 972.878,458.641 951.854,446.223 930.896,433.666 909.999,420.98 889.16,408.175 868.372,395.262 \n",
       "  847.632,382.249 826.934,369.148 806.274,355.967 785.647,342.717 765.049,329.408 744.474,316.049 723.918,302.651 703.377,289.223 682.845,275.775 662.317,262.317 \n",
       "  \n",
       "  \"/>\n",
       "<polyline clip-path=\"url(#clip612)\" style=\"stroke:#000000; stroke-linecap:round; stroke-linejoin:round; stroke-width:4; stroke-opacity:1; fill:none\" points=\"\n",
       "  1737.68,776.292 1717.93,790.646 1698.17,804.992 1678.4,819.317 1658.62,833.614 1638.82,847.873 1618.99,862.082 1599.12,876.234 1579.23,890.319 1559.29,904.326 \n",
       "  1539.3,918.246 1519.26,932.069 1499.17,945.786 1479.01,959.388 1458.78,972.863 1438.49,986.204 1418.11,999.399 1397.65,1012.44 1377.1,1025.32 1356.46,1038.02 \n",
       "  1335.72,1050.54 1314.88,1062.87 1293.93,1074.99 1272.86,1086.9 1251.68,1098.59 1230.37,1110.04 1208.93,1121.27 1187.38,1132.27 1165.71,1143.06 1143.93,1153.65 \n",
       "  1122.05,1164.05 1100.07,1174.26 1078,1184.29 1055.83,1194.17 1033.59,1203.89 1011.26,1213.46 988.869,1222.9 966.406,1232.21 943.88,1241.41 921.298,1250.5 \n",
       "  898.663,1259.49 875.981,1268.4 853.258,1277.23 830.499,1285.99 807.709,1294.69 784.892,1303.35 762.055,1311.97 739.202,1320.55 716.339,1329.12 693.471,1337.68 \n",
       "  \n",
       "  \"/>\n",
       "<polyline clip-path=\"url(#clip612)\" style=\"stroke:#000000; stroke-linecap:round; stroke-linejoin:round; stroke-width:4; stroke-opacity:1; fill:none\" points=\"\n",
       "  662.317,262.317 659.664,284.359 657.022,306.4 654.402,328.44 651.815,350.48 649.272,372.518 646.783,394.555 644.361,416.59 642.015,438.623 639.756,460.653 \n",
       "  637.597,482.68 635.547,504.704 633.618,526.724 631.82,548.741 630.165,570.754 628.663,592.762 627.326,614.765 626.164,636.764 625.188,658.757 624.41,680.744 \n",
       "  623.84,702.725 623.49,724.7 623.37,746.668 623.49,768.629 623.864,790.583 624.499,812.529 625.398,834.468 626.548,856.399 627.94,878.323 629.562,900.241 \n",
       "  631.404,922.152 633.453,944.058 635.7,965.957 638.134,987.851 640.743,1009.74 643.516,1031.62 646.443,1053.5 649.512,1075.38 652.713,1097.25 656.034,1119.12 \n",
       "  659.466,1140.99 662.995,1162.85 666.613,1184.71 670.307,1206.57 674.067,1228.42 677.882,1250.28 681.741,1272.13 685.632,1293.98 689.546,1315.83 693.471,1337.68 \n",
       "  \n",
       "  \"/>\n",
       "<path clip-path=\"url(#clip612)\" d=\"\n",
       "M1154.23 603.949 L1199.4 603.949 L1199.4 531.684 L1154.23 531.684 L1154.23 603.949 L1154.23 603.949  Z\n",
       "  \" fill=\"#ffffff\" fill-rule=\"evenodd\" fill-opacity=\"1\"/>\n",
       "<polyline clip-path=\"url(#clip612)\" style=\"stroke:#000000; stroke-linecap:round; stroke-linejoin:round; stroke-width:0; stroke-opacity:0; fill:none\" points=\"\n",
       "  1154.23,603.949 1199.4,603.949 1199.4,531.684 1154.23,531.684 1154.23,603.949 \n",
       "  \"/>\n",
       "<path clip-path=\"url(#clip612)\" d=\"\n",
       "M1218.45 1140.48 L1263.62 1140.48 L1263.62 1068.21 L1218.45 1068.21 L1218.45 1140.48 L1218.45 1140.48  Z\n",
       "  \" fill=\"#ffffff\" fill-rule=\"evenodd\" fill-opacity=\"1\"/>\n",
       "<polyline clip-path=\"url(#clip612)\" style=\"stroke:#000000; stroke-linecap:round; stroke-linejoin:round; stroke-width:0; stroke-opacity:0; fill:none\" points=\"\n",
       "  1218.45,1140.48 1263.62,1140.48 1263.62,1068.21 1218.45,1068.21 1218.45,1140.48 \n",
       "  \"/>\n",
       "<path clip-path=\"url(#clip612)\" d=\"\n",
       "M601.565 837.689 L646.731 837.689 L646.731 765.425 L601.565 765.425 L601.565 837.689 L601.565 837.689  Z\n",
       "  \" fill=\"#ffffff\" fill-rule=\"evenodd\" fill-opacity=\"1\"/>\n",
       "<polyline clip-path=\"url(#clip612)\" style=\"stroke:#000000; stroke-linecap:round; stroke-linejoin:round; stroke-width:0; stroke-opacity:0; fill:none\" points=\"\n",
       "  601.565,837.689 646.731,837.689 646.731,765.425 601.565,765.425 601.565,837.689 \n",
       "  \"/>\n",
       "<path clip-path=\"url(#clip612)\" d=\"\n",
       "M1776.83 776.292 L1757.25 742.393 L1718.11 742.393 L1698.54 776.292 L1718.11 810.191 L1757.25 810.191 L1776.83 776.292 L1776.83 776.292  Z\n",
       "  \" fill=\"#009af9\" fill-rule=\"evenodd\" fill-opacity=\"1\"/>\n",
       "<polyline clip-path=\"url(#clip612)\" style=\"stroke:#000000; stroke-linecap:round; stroke-linejoin:round; stroke-width:4; stroke-opacity:1; fill:none\" points=\"\n",
       "  1776.83,776.292 1757.25,742.393 1718.11,742.393 1698.54,776.292 1718.11,810.191 1757.25,810.191 1776.83,776.292 \n",
       "  \"/>\n",
       "<path clip-path=\"url(#clip612)\" d=\"\n",
       "M701.461 262.317 L681.889 228.418 L642.746 228.418 L623.174 262.317 L642.746 296.216 L681.889 296.216 L701.461 262.317 L701.461 262.317  Z\n",
       "  \" fill=\"#009af9\" fill-rule=\"evenodd\" fill-opacity=\"1\"/>\n",
       "<polyline clip-path=\"url(#clip612)\" style=\"stroke:#000000; stroke-linecap:round; stroke-linejoin:round; stroke-width:4; stroke-opacity:1; fill:none\" points=\"\n",
       "  701.461,262.317 681.889,228.418 642.746,228.418 623.174,262.317 642.746,296.216 681.889,296.216 701.461,262.317 \n",
       "  \"/>\n",
       "<path clip-path=\"url(#clip612)\" d=\"\n",
       "M732.614 1337.68 L713.042 1303.78 L673.899 1303.78 L654.327 1337.68 L673.899 1371.58 L713.042 1371.58 L732.614 1337.68 L732.614 1337.68  Z\n",
       "  \" fill=\"#009af9\" fill-rule=\"evenodd\" fill-opacity=\"1\"/>\n",
       "<polyline clip-path=\"url(#clip612)\" style=\"stroke:#000000; stroke-linecap:round; stroke-linejoin:round; stroke-width:4; stroke-opacity:1; fill:none\" points=\"\n",
       "  732.614,1337.68 713.042,1303.78 673.899,1303.78 654.327,1337.68 673.899,1371.58 713.042,1371.58 732.614,1337.68 \n",
       "  \"/>\n",
       "<path clip-path=\"url(#clip612)\" d=\"M1737.68 776.692 L1737.34 776.492 L1737.34 776.092 L1737.68 775.892 L1738.03 776.092 L1738.03 776.492 Z\" fill=\"#009af9\" fill-rule=\"evenodd\" fill-opacity=\"1\" stroke=\"#000000\" stroke-opacity=\"1\" stroke-width=\"3.2\"/>\n",
       "<path clip-path=\"url(#clip612)\" d=\"M662.317 262.717 L661.971 262.517 L661.971 262.117 L662.317 261.917 L662.664 262.117 L662.664 262.517 Z\" fill=\"#009af9\" fill-rule=\"evenodd\" fill-opacity=\"1\" stroke=\"#000000\" stroke-opacity=\"1\" stroke-width=\"3.2\"/>\n",
       "<path clip-path=\"url(#clip612)\" d=\"M693.471 1338.08 L693.124 1337.88 L693.124 1337.48 L693.471 1337.28 L693.817 1337.48 L693.817 1337.88 Z\" fill=\"#009af9\" fill-rule=\"evenodd\" fill-opacity=\"1\" stroke=\"#000000\" stroke-opacity=\"1\" stroke-width=\"3.2\"/>\n",
       "<path clip-path=\"url(#clip610)\" d=\"M1180.53 566.632 Q1183.47 567.259 1185.11 569.244 Q1186.77 571.229 1186.77 574.146 Q1186.77 578.622 1183.69 581.073 Q1180.61 583.524 1174.94 583.524 Q1173.04 583.524 1171.01 583.139 Q1169.01 582.774 1166.86 582.025 L1166.86 578.075 Q1168.56 579.068 1170.59 579.574 Q1172.61 580.081 1174.82 580.081 Q1178.67 580.081 1180.67 578.561 Q1182.7 577.042 1182.7 574.146 Q1182.7 571.472 1180.81 569.974 Q1178.95 568.454 1175.61 568.454 L1172.08 568.454 L1172.08 565.092 L1175.77 565.092 Q1178.79 565.092 1180.39 563.897 Q1181.99 562.682 1181.99 560.413 Q1181.99 558.084 1180.33 556.849 Q1178.69 555.593 1175.61 555.593 Q1173.93 555.593 1172 555.957 Q1170.08 556.322 1167.77 557.092 L1167.77 553.446 Q1170.1 552.798 1172.12 552.474 Q1174.17 552.15 1175.97 552.15 Q1180.63 552.15 1183.35 554.276 Q1186.06 556.383 1186.06 559.988 Q1186.06 562.5 1184.62 564.242 Q1183.18 565.963 1180.53 566.632 Z\" fill=\"#000000\" fill-rule=\"evenodd\" fill-opacity=\"1\" /><path clip-path=\"url(#clip610)\" d=\"M1231.32 1089.23 L1250.76 1089.23 L1250.76 1090.97 L1239.78 1119.47 L1235.51 1119.47 L1245.84 1092.67 L1231.32 1092.67 L1231.32 1089.23 Z\" fill=\"#000000\" fill-rule=\"evenodd\" fill-opacity=\"1\" /><path clip-path=\"url(#clip610)\" d=\"M615.641 786.437 L631.703 786.437 L631.703 789.88 L619.388 789.88 L619.388 797.293 Q620.28 796.99 621.171 796.848 Q622.062 796.686 622.953 796.686 Q628.017 796.686 630.974 799.461 Q633.931 802.236 633.931 806.975 Q633.931 811.856 630.893 814.571 Q627.855 817.264 622.325 817.264 Q620.421 817.264 618.436 816.94 Q616.472 816.616 614.365 815.968 L614.365 811.856 Q616.188 812.849 618.133 813.335 Q620.077 813.821 622.244 813.821 Q625.748 813.821 627.794 811.978 Q629.84 810.135 629.84 806.975 Q629.84 803.815 627.794 801.972 Q625.748 800.129 622.244 800.129 Q620.604 800.129 618.963 800.494 Q617.343 800.858 615.641 801.628 L615.641 786.437 Z\" fill=\"#000000\" fill-rule=\"evenodd\" fill-opacity=\"1\" /><path clip-path=\"url(#clip610)\" d=\"M1737.68 765.202 L1732.13 780.251 L1743.25 780.251 L1737.68 765.202 M1735.37 761.172 L1740.01 761.172 L1751.54 791.412 L1747.28 791.412 L1744.53 783.654 L1730.9 783.654 L1728.14 791.412 L1723.83 791.412 L1735.37 761.172 Z\" fill=\"#000000\" fill-rule=\"evenodd\" fill-opacity=\"1\" /><path clip-path=\"url(#clip610)\" d=\"M655.684 262.996 L655.684 274.075 L662.246 274.075 Q665.548 274.075 667.128 272.718 Q668.728 271.341 668.728 268.525 Q668.728 265.69 667.128 264.353 Q665.548 262.996 662.246 262.996 L655.684 262.996 M655.684 250.559 L655.684 259.674 L661.74 259.674 Q664.738 259.674 666.196 258.56 Q667.675 257.426 667.675 255.117 Q667.675 252.828 666.196 251.694 Q664.738 250.559 661.74 250.559 L655.684 250.559 M651.592 247.197 L662.044 247.197 Q666.723 247.197 669.254 249.142 Q671.786 251.086 671.786 254.671 Q671.786 257.446 670.49 259.087 Q669.194 260.727 666.682 261.132 Q669.7 261.78 671.361 263.846 Q673.042 265.892 673.042 268.971 Q673.042 273.022 670.287 275.229 Q667.533 277.437 662.449 277.437 L651.592 277.437 L651.592 247.197 Z\" fill=\"#000000\" fill-rule=\"evenodd\" fill-opacity=\"1\" /><path clip-path=\"url(#clip610)\" d=\"M705.664 1324.89 L705.664 1329.21 Q703.598 1327.28 701.248 1326.33 Q698.919 1325.38 696.286 1325.38 Q691.101 1325.38 688.346 1328.56 Q685.591 1331.72 685.591 1337.71 Q685.591 1343.69 688.346 1346.87 Q691.101 1350.03 696.286 1350.03 Q698.919 1350.03 701.248 1349.08 Q703.598 1348.12 705.664 1346.2 L705.664 1350.47 Q703.517 1351.93 701.106 1352.66 Q698.716 1353.39 696.043 1353.39 Q689.177 1353.39 685.227 1349.2 Q681.277 1344.98 681.277 1337.71 Q681.277 1330.42 685.227 1326.23 Q689.177 1322.02 696.043 1322.02 Q698.757 1322.02 701.147 1322.75 Q703.557 1323.45 705.664 1324.89 Z\" fill=\"#000000\" fill-rule=\"evenodd\" fill-opacity=\"1\" /></svg>\n"
      ]
     },
     "execution_count": 8,
     "metadata": {},
     "output_type": "execute_result"
    }
   ],
   "source": [
    "graphplot(g.graph, names=[\"A\",\"B\",\"C\"], edgelabel = Dict((1,2)=>3,(2,3)=>5,(1,3) => 7))"
   ]
  },
  {
   "cell_type": "code",
   "execution_count": 9,
   "id": "539a3dab-f59f-447f-bdbe-0ebc9acaa65d",
   "metadata": {},
   "outputs": [
    {
     "data": {
      "text/plain": [
       "Vertex[A, B, C]Main.WeightedGraphs.Edge[(:A, :B, 3), (:B, :C, 5), (:C, :A, 7)]"
      ]
     },
     "execution_count": 9,
     "metadata": {},
     "output_type": "execute_result"
    }
   ],
   "source": [
    "g"
   ]
  },
  {
   "cell_type": "code",
   "execution_count": 10,
   "id": "0fa0033b-32ac-4bc2-a0b3-3f9a7947e75d",
   "metadata": {},
   "outputs": [
    {
     "data": {
      "text/plain": [
       "3-element Vector{Vertex}:\n",
       " A\n",
       " B\n",
       " C"
      ]
     },
     "execution_count": 10,
     "metadata": {},
     "output_type": "execute_result"
    }
   ],
   "source": [
    "p = [Vertex(:A), Vertex(:B), Vertex(:C)]"
   ]
  },
  {
   "cell_type": "code",
   "execution_count": 11,
   "id": "9d9a3ae6-1792-4d6d-baa0-33cef4cca06f",
   "metadata": {},
   "outputs": [
    {
     "ename": "LoadError",
     "evalue": "UndefVarError: UnweightedEdges not defined",
     "output_type": "error",
     "traceback": [
      "UndefVarError: UnweightedEdges not defined",
      "",
      "Stacktrace:",
      " [1] top-level scope",
      "   @ In[11]:1",
      " [2] eval",
      "   @ .\\boot.jl:368 [inlined]",
      " [3] include_string(mapexpr::typeof(REPL.softscope), mod::Module, code::String, filename::String)",
      "   @ Base .\\loading.jl:1428"
     ]
    }
   ],
   "source": [
    "u = UnweightedEdges(g)"
   ]
  },
  {
   "cell_type": "code",
   "execution_count": 12,
   "id": "de1ed541-d86a-4b57-985a-140a241fe1a8",
   "metadata": {},
   "outputs": [
    {
     "ename": "LoadError",
     "evalue": "UndefVarError: u not defined",
     "output_type": "error",
     "traceback": [
      "UndefVarError: u not defined",
      "",
      "Stacktrace:",
      " [1] top-level scope",
      "   @ :0",
      " [2] eval",
      "   @ .\\boot.jl:368 [inlined]",
      " [3] include_string(mapexpr::typeof(REPL.softscope), mod::Module, code::String, filename::String)",
      "   @ Base .\\loading.jl:1428"
     ]
    }
   ],
   "source": [
    "u"
   ]
  },
  {
   "cell_type": "code",
   "execution_count": 13,
   "id": "e1dcd070-9574-4047-a518-69579721dcbb",
   "metadata": {},
   "outputs": [
    {
     "ename": "LoadError",
     "evalue": "UndefVarError: u not defined",
     "output_type": "error",
     "traceback": [
      "UndefVarError: u not defined",
      "",
      "Stacktrace:",
      " [1] top-level scope",
      "   @ .\\In[13]:2",
      " [2] eval",
      "   @ .\\boot.jl:368 [inlined]",
      " [3] include_string(mapexpr::typeof(REPL.softscope), mod::Module, code::String, filename::String)",
      "   @ Base .\\loading.jl:1428"
     ]
    }
   ],
   "source": [
    "for i in 2:length(p)\n",
    "    if (p[i-1],p[i]) in u\n",
    "      return true\n",
    "    else return false\n",
    "    end\n",
    "end"
   ]
  },
  {
   "cell_type": "code",
   "execution_count": 14,
   "id": "2fc18b24-bf04-494c-ae2a-d82afd7a90c6",
   "metadata": {},
   "outputs": [
    {
     "ename": "LoadError",
     "evalue": "UndefVarError: u not defined",
     "output_type": "error",
     "traceback": [
      "UndefVarError: u not defined",
      "",
      "Stacktrace:",
      " [1] macro expansion",
      "   @ .\\show.jl:1047 [inlined]",
      " [2] top-level scope",
      "   @ .\\In[14]:2",
      " [3] eval",
      "   @ .\\boot.jl:368 [inlined]",
      " [4] include_string(mapexpr::typeof(REPL.softscope), mod::Module, code::String, filename::String)",
      "   @ Base .\\loading.jl:1428"
     ]
    }
   ],
   "source": [
    "for i in 2:length(p)\n",
    "  @show if (p[i-1],p[i]) in u\n",
    "    end\n",
    "end"
   ]
  },
  {
   "cell_type": "code",
   "execution_count": 15,
   "id": "1d95e35a-537a-4e53-a80c-6c594e4232f2",
   "metadata": {},
   "outputs": [
    {
     "ename": "LoadError",
     "evalue": "UndefVarError: u not defined",
     "output_type": "error",
     "traceback": [
      "UndefVarError: u not defined",
      "",
      "Stacktrace:",
      " [1] top-level scope",
      "   @ .\\In[15]:3",
      " [2] eval",
      "   @ .\\boot.jl:368 [inlined]",
      " [3] include_string(mapexpr::typeof(REPL.softscope), mod::Module, code::String, filename::String)",
      "   @ Base .\\loading.jl:1428"
     ]
    }
   ],
   "source": [
    "x=0\n",
    "for i in 2:length(p)\n",
    "  if (p[i-1],p[i]) in u\n",
    "    x=x+1\n",
    "    end\n",
    "end\n",
    "x"
   ]
  },
  {
   "cell_type": "code",
   "execution_count": 16,
   "id": "b04b87f6-d529-459f-9332-887b3cf7f89d",
   "metadata": {},
   "outputs": [
    {
     "data": {
      "text/plain": [
       "true"
      ]
     },
     "execution_count": 16,
     "metadata": {},
     "output_type": "execute_result"
    }
   ],
   "source": [
    "arePathVerticesOnGraph(p,g)"
   ]
  },
  {
   "cell_type": "code",
   "execution_count": 17,
   "id": "750c6d93-c6cb-4fa2-9147-847d27cbfc31",
   "metadata": {},
   "outputs": [
    {
     "data": {
      "text/plain": [
       "true"
      ]
     },
     "execution_count": 17,
     "metadata": {},
     "output_type": "execute_result"
    }
   ],
   "source": [
    "doPathVerticesHaveEdgesOnGraph(p,g)"
   ]
  },
  {
   "cell_type": "code",
   "execution_count": 18,
   "id": "9d2a490e-52f3-41c5-bf30-1708b371deb8",
   "metadata": {},
   "outputs": [
    {
     "data": {
      "text/plain": [
       "Vertex[A, B, C]"
      ]
     },
     "execution_count": 18,
     "metadata": {},
     "output_type": "execute_result"
    }
   ],
   "source": [
    "d1 = Path(p,g)"
   ]
  },
  {
   "cell_type": "code",
   "execution_count": 19,
   "id": "713f4f3d-59d1-489b-a641-0a488dc03e99",
   "metadata": {},
   "outputs": [
    {
     "data": {
      "text/plain": [
       "8"
      ]
     },
     "execution_count": 19,
     "metadata": {},
     "output_type": "execute_result"
    }
   ],
   "source": [
    "distance(d1)"
   ]
  },
  {
   "cell_type": "code",
   "execution_count": 20,
   "id": "3329f481-de65-4e96-a5a0-4c6c58814416",
   "metadata": {},
   "outputs": [
    {
     "data": {
      "image/svg+xml": [
       "<?xml version=\"1.0\" encoding=\"utf-8\"?>\n",
       "<svg xmlns=\"http://www.w3.org/2000/svg\" xmlns:xlink=\"http://www.w3.org/1999/xlink\" width=\"600\" height=\"400\" viewBox=\"0 0 2400 1600\">\n",
       "<defs>\n",
       "  <clipPath id=\"clip640\">\n",
       "    <rect x=\"0\" y=\"0\" width=\"2400\" height=\"1600\"/>\n",
       "  </clipPath>\n",
       "</defs>\n",
       "<path clip-path=\"url(#clip640)\" d=\"\n",
       "M0 1600 L2400 1600 L2400 0 L0 0  Z\n",
       "  \" fill=\"#ffffff\" fill-rule=\"evenodd\" fill-opacity=\"1\"/>\n",
       "<defs>\n",
       "  <clipPath id=\"clip641\">\n",
       "    <rect x=\"480\" y=\"0\" width=\"1681\" height=\"1600\"/>\n",
       "  </clipPath>\n",
       "</defs>\n",
       "<path clip-path=\"url(#clip640)\" d=\"\n",
       "M447.244 1552.76 L1952.76 1552.76 L1952.76 47.2441 L447.244 47.2441  Z\n",
       "  \" fill=\"#ffffff\" fill-rule=\"evenodd\" fill-opacity=\"1\"/>\n",
       "<defs>\n",
       "  <clipPath id=\"clip642\">\n",
       "    <rect x=\"447\" y=\"47\" width=\"1507\" height=\"1507\"/>\n",
       "  </clipPath>\n",
       "</defs>\n",
       "<polyline clip-path=\"url(#clip642)\" style=\"stroke:#000000; stroke-linecap:round; stroke-linejoin:round; stroke-width:4; stroke-opacity:1; fill:none\" points=\"\n",
       "  1001.55,501.336 662.317,871.591 \n",
       "  \"/>\n",
       "<polyline clip-path=\"url(#clip642)\" style=\"stroke:#000000; stroke-linecap:round; stroke-linejoin:round; stroke-width:4; stroke-opacity:1; fill:none\" points=\"\n",
       "  1001.55,501.336 1029.11,1177.63 \n",
       "  \"/>\n",
       "<polyline clip-path=\"url(#clip642)\" style=\"stroke:#000000; stroke-linecap:round; stroke-linejoin:round; stroke-width:4; stroke-opacity:1; fill:none\" points=\"\n",
       "  1001.55,501.336 1427.49,262.317 \n",
       "  \"/>\n",
       "<polyline clip-path=\"url(#clip642)\" style=\"stroke:#000000; stroke-linecap:round; stroke-linejoin:round; stroke-width:4; stroke-opacity:1; fill:none\" points=\"\n",
       "  662.317,871.591 1029.11,1177.63 \n",
       "  \"/>\n",
       "<polyline clip-path=\"url(#clip642)\" style=\"stroke:#000000; stroke-linecap:round; stroke-linejoin:round; stroke-width:4; stroke-opacity:1; fill:none\" points=\"\n",
       "  1029.11,1177.63 1471.31,1337.68 \n",
       "  \"/>\n",
       "<polyline clip-path=\"url(#clip642)\" style=\"stroke:#000000; stroke-linecap:round; stroke-linejoin:round; stroke-width:4; stroke-opacity:1; fill:none\" points=\"\n",
       "  1471.31,1337.68 1737.68,773.778 \n",
       "  \"/>\n",
       "<polyline clip-path=\"url(#clip642)\" style=\"stroke:#000000; stroke-linecap:round; stroke-linejoin:round; stroke-width:4; stroke-opacity:1; fill:none\" points=\"\n",
       "  1737.68,773.778 1427.49,262.317 \n",
       "  \"/>\n",
       "<path clip-path=\"url(#clip642)\" d=\"\n",
       "M809.351 722.596 L854.517 722.596 L854.517 650.331 L809.351 650.331 L809.351 722.596 L809.351 722.596  Z\n",
       "  \" fill=\"#ffffff\" fill-rule=\"evenodd\" fill-opacity=\"1\"/>\n",
       "<polyline clip-path=\"url(#clip642)\" style=\"stroke:#000000; stroke-linecap:round; stroke-linejoin:round; stroke-width:0; stroke-opacity:0; fill:none\" points=\"\n",
       "  809.351,722.596 854.517,722.596 854.517,650.331 809.351,650.331 809.351,722.596 \n",
       "  \"/>\n",
       "<path clip-path=\"url(#clip642)\" d=\"\n",
       "M992.747 875.614 L1037.91 875.614 L1037.91 803.35 L992.747 803.35 L992.747 875.614 L992.747 875.614  Z\n",
       "  \" fill=\"#ffffff\" fill-rule=\"evenodd\" fill-opacity=\"1\"/>\n",
       "<polyline clip-path=\"url(#clip642)\" style=\"stroke:#000000; stroke-linecap:round; stroke-linejoin:round; stroke-width:0; stroke-opacity:0; fill:none\" points=\"\n",
       "  992.747,875.614 1037.91,875.614 1037.91,803.35 992.747,803.35 992.747,875.614 \n",
       "  \"/>\n",
       "<path clip-path=\"url(#clip642)\" d=\"\n",
       "M823.13 1060.74 L868.295 1060.74 L868.295 988.477 L823.13 988.477 L823.13 1060.74 L823.13 1060.74  Z\n",
       "  \" fill=\"#ffffff\" fill-rule=\"evenodd\" fill-opacity=\"1\"/>\n",
       "<polyline clip-path=\"url(#clip642)\" style=\"stroke:#000000; stroke-linecap:round; stroke-linejoin:round; stroke-width:0; stroke-opacity:0; fill:none\" points=\"\n",
       "  823.13,1060.74 868.295,1060.74 868.295,988.477 823.13,988.477 823.13,1060.74 \n",
       "  \"/>\n",
       "<path clip-path=\"url(#clip642)\" d=\"\n",
       "M1227.62 1293.79 L1272.79 1293.79 L1272.79 1221.52 L1227.62 1221.52 L1227.62 1293.79 L1227.62 1293.79  Z\n",
       "  \" fill=\"#ffffff\" fill-rule=\"evenodd\" fill-opacity=\"1\"/>\n",
       "<polyline clip-path=\"url(#clip642)\" style=\"stroke:#000000; stroke-linecap:round; stroke-linejoin:round; stroke-width:0; stroke-opacity:0; fill:none\" points=\"\n",
       "  1227.62,1293.79 1272.79,1293.79 1272.79,1221.52 1227.62,1221.52 1227.62,1293.79 \n",
       "  \"/>\n",
       "<path clip-path=\"url(#clip642)\" d=\"\n",
       "M1581.91 1091.86 L1627.08 1091.86 L1627.08 1019.6 L1581.91 1019.6 L1581.91 1091.86 L1581.91 1091.86  Z\n",
       "  \" fill=\"#ffffff\" fill-rule=\"evenodd\" fill-opacity=\"1\"/>\n",
       "<polyline clip-path=\"url(#clip642)\" style=\"stroke:#000000; stroke-linecap:round; stroke-linejoin:round; stroke-width:0; stroke-opacity:0; fill:none\" points=\"\n",
       "  1581.91,1091.86 1627.08,1091.86 1627.08,1019.6 1581.91,1019.6 1581.91,1091.86 \n",
       "  \"/>\n",
       "<path clip-path=\"url(#clip642)\" d=\"\n",
       "M1560 554.18 L1605.17 554.18 L1605.17 481.915 L1560 481.915 L1560 554.18 L1560 554.18  Z\n",
       "  \" fill=\"#ffffff\" fill-rule=\"evenodd\" fill-opacity=\"1\"/>\n",
       "<polyline clip-path=\"url(#clip642)\" style=\"stroke:#000000; stroke-linecap:round; stroke-linejoin:round; stroke-width:0; stroke-opacity:0; fill:none\" points=\"\n",
       "  1560,554.18 1605.17,554.18 1605.17,481.915 1560,481.915 1560,554.18 \n",
       "  \"/>\n",
       "<path clip-path=\"url(#clip642)\" d=\"\n",
       "M1025.64 501.336 L1013.6 480.475 L989.507 480.475 L977.463 501.336 L989.507 522.197 L1013.6 522.197 L1025.64 501.336 L1025.64 501.336  Z\n",
       "  \" fill=\"#009af9\" fill-rule=\"evenodd\" fill-opacity=\"1\"/>\n",
       "<polyline clip-path=\"url(#clip642)\" style=\"stroke:#000000; stroke-linecap:round; stroke-linejoin:round; stroke-width:4; stroke-opacity:1; fill:none\" points=\"\n",
       "  1025.64,501.336 1013.6,480.475 989.507,480.475 977.463,501.336 989.507,522.197 1013.6,522.197 1025.64,501.336 \n",
       "  \"/>\n",
       "<path clip-path=\"url(#clip642)\" d=\"\n",
       "M686.405 871.591 L674.361 850.73 L650.273 850.73 L638.229 871.591 L650.273 892.452 L674.361 892.452 L686.405 871.591 L686.405 871.591  Z\n",
       "  \" fill=\"#009af9\" fill-rule=\"evenodd\" fill-opacity=\"1\"/>\n",
       "<polyline clip-path=\"url(#clip642)\" style=\"stroke:#000000; stroke-linecap:round; stroke-linejoin:round; stroke-width:4; stroke-opacity:1; fill:none\" points=\"\n",
       "  686.405,871.591 674.361,850.73 650.273,850.73 638.229,871.591 650.273,892.452 674.361,892.452 686.405,871.591 \n",
       "  \"/>\n",
       "<path clip-path=\"url(#clip642)\" d=\"\n",
       "M1053.2 1177.63 L1041.15 1156.77 L1017.06 1156.77 L1005.02 1177.63 L1017.06 1198.49 L1041.15 1198.49 L1053.2 1177.63 L1053.2 1177.63  Z\n",
       "  \" fill=\"#009af9\" fill-rule=\"evenodd\" fill-opacity=\"1\"/>\n",
       "<polyline clip-path=\"url(#clip642)\" style=\"stroke:#000000; stroke-linecap:round; stroke-linejoin:round; stroke-width:4; stroke-opacity:1; fill:none\" points=\"\n",
       "  1053.2,1177.63 1041.15,1156.77 1017.06,1156.77 1005.02,1177.63 1017.06,1198.49 1041.15,1198.49 1053.2,1177.63 \n",
       "  \"/>\n",
       "<path clip-path=\"url(#clip642)\" d=\"\n",
       "M1495.4 1337.68 L1483.35 1316.82 L1459.26 1316.82 L1447.22 1337.68 L1459.26 1358.54 L1483.35 1358.54 L1495.4 1337.68 L1495.4 1337.68  Z\n",
       "  \" fill=\"#009af9\" fill-rule=\"evenodd\" fill-opacity=\"1\"/>\n",
       "<polyline clip-path=\"url(#clip642)\" style=\"stroke:#000000; stroke-linecap:round; stroke-linejoin:round; stroke-width:4; stroke-opacity:1; fill:none\" points=\"\n",
       "  1495.4,1337.68 1483.35,1316.82 1459.26,1316.82 1447.22,1337.68 1459.26,1358.54 1483.35,1358.54 1495.4,1337.68 \n",
       "  \"/>\n",
       "<path clip-path=\"url(#clip642)\" d=\"\n",
       "M1761.77 773.778 L1749.73 752.917 L1725.64 752.917 L1713.59 773.778 L1725.64 794.639 L1749.73 794.639 L1761.77 773.778 L1761.77 773.778  Z\n",
       "  \" fill=\"#009af9\" fill-rule=\"evenodd\" fill-opacity=\"1\"/>\n",
       "<polyline clip-path=\"url(#clip642)\" style=\"stroke:#000000; stroke-linecap:round; stroke-linejoin:round; stroke-width:4; stroke-opacity:1; fill:none\" points=\"\n",
       "  1761.77,773.778 1749.73,752.917 1725.64,752.917 1713.59,773.778 1725.64,794.639 1749.73,794.639 1761.77,773.778 \n",
       "  \"/>\n",
       "<path clip-path=\"url(#clip642)\" d=\"\n",
       "M1451.58 262.317 L1439.53 241.456 L1415.45 241.456 L1403.4 262.317 L1415.45 283.178 L1439.53 283.178 L1451.58 262.317 L1451.58 262.317  Z\n",
       "  \" fill=\"#009af9\" fill-rule=\"evenodd\" fill-opacity=\"1\"/>\n",
       "<polyline clip-path=\"url(#clip642)\" style=\"stroke:#000000; stroke-linecap:round; stroke-linejoin:round; stroke-width:4; stroke-opacity:1; fill:none\" points=\"\n",
       "  1451.58,262.317 1439.53,241.456 1415.45,241.456 1403.4,262.317 1415.45,283.178 1439.53,283.178 1451.58,262.317 \n",
       "  \"/>\n",
       "<path clip-path=\"url(#clip642)\" d=\"M1001.55 501.736 L1001.2 501.536 L1001.2 501.136 L1001.55 500.936 L1001.9 501.136 L1001.9 501.536 Z\" fill=\"#009af9\" fill-rule=\"evenodd\" fill-opacity=\"1\" stroke=\"#000000\" stroke-opacity=\"1\" stroke-width=\"3.2\"/>\n",
       "<path clip-path=\"url(#clip642)\" d=\"M662.317 871.991 L661.971 871.791 L661.971 871.391 L662.317 871.191 L662.664 871.391 L662.664 871.791 Z\" fill=\"#009af9\" fill-rule=\"evenodd\" fill-opacity=\"1\" stroke=\"#000000\" stroke-opacity=\"1\" stroke-width=\"3.2\"/>\n",
       "<path clip-path=\"url(#clip642)\" d=\"M1029.11 1178.03 L1028.76 1177.83 L1028.76 1177.43 L1029.11 1177.23 L1029.45 1177.43 L1029.45 1177.83 Z\" fill=\"#009af9\" fill-rule=\"evenodd\" fill-opacity=\"1\" stroke=\"#000000\" stroke-opacity=\"1\" stroke-width=\"3.2\"/>\n",
       "<path clip-path=\"url(#clip642)\" d=\"M1471.31 1338.08 L1470.96 1337.88 L1470.96 1337.48 L1471.31 1337.28 L1471.65 1337.48 L1471.65 1337.88 Z\" fill=\"#009af9\" fill-rule=\"evenodd\" fill-opacity=\"1\" stroke=\"#000000\" stroke-opacity=\"1\" stroke-width=\"3.2\"/>\n",
       "<path clip-path=\"url(#clip642)\" d=\"M1737.68 774.178 L1737.34 773.978 L1737.34 773.578 L1737.68 773.378 L1738.03 773.578 L1738.03 773.978 Z\" fill=\"#009af9\" fill-rule=\"evenodd\" fill-opacity=\"1\" stroke=\"#000000\" stroke-opacity=\"1\" stroke-width=\"3.2\"/>\n",
       "<path clip-path=\"url(#clip642)\" d=\"M1427.49 262.717 L1427.14 262.517 L1427.14 262.117 L1427.49 261.917 L1427.84 262.117 L1427.84 262.517 Z\" fill=\"#009af9\" fill-rule=\"evenodd\" fill-opacity=\"1\" stroke=\"#000000\" stroke-opacity=\"1\" stroke-width=\"3.2\"/>\n",
       "<path clip-path=\"url(#clip640)\" d=\"M835.651 685.279 Q838.588 685.907 840.228 687.891 Q841.889 689.876 841.889 692.793 Q841.889 697.269 838.811 699.72 Q835.732 702.171 830.061 702.171 Q828.157 702.171 826.131 701.786 Q824.126 701.421 821.979 700.672 L821.979 696.722 Q823.68 697.715 825.706 698.221 Q827.731 698.728 829.939 698.728 Q833.787 698.728 835.793 697.209 Q837.818 695.689 837.818 692.793 Q837.818 690.119 835.934 688.621 Q834.071 687.102 830.729 687.102 L827.205 687.102 L827.205 683.739 L830.891 683.739 Q833.909 683.739 835.509 682.544 Q837.109 681.329 837.109 679.06 Q837.109 676.731 835.448 675.496 Q833.808 674.24 830.729 674.24 Q829.048 674.24 827.124 674.604 Q825.199 674.969 822.89 675.739 L822.89 672.093 Q825.22 671.445 827.245 671.121 Q829.291 670.797 831.094 670.797 Q835.752 670.797 838.466 672.923 Q841.18 675.03 841.18 678.635 Q841.18 681.147 839.742 682.889 Q838.304 684.61 835.651 685.279 Z\" fill=\"#000000\" fill-rule=\"evenodd\" fill-opacity=\"1\" /><path clip-path=\"url(#clip640)\" d=\"M1005.61 824.362 L1025.05 824.362 L1025.05 826.104 L1014.07 854.602 L1009.8 854.602 L1020.13 827.805 L1005.61 827.805 L1005.61 824.362 Z\" fill=\"#000000\" fill-rule=\"evenodd\" fill-opacity=\"1\" /><path clip-path=\"url(#clip640)\" d=\"M837.205 1009.49 L853.267 1009.49 L853.267 1012.93 L840.952 1012.93 L840.952 1020.35 Q841.844 1020.04 842.735 1019.9 Q843.626 1019.74 844.517 1019.74 Q849.581 1019.74 852.538 1022.51 Q855.495 1025.29 855.495 1030.03 Q855.495 1034.91 852.457 1037.62 Q849.419 1040.32 843.889 1040.32 Q841.985 1040.32 840.001 1039.99 Q838.036 1039.67 835.929 1039.02 L835.929 1034.91 Q837.752 1035.9 839.697 1036.39 Q841.641 1036.87 843.808 1036.87 Q847.312 1036.87 849.358 1035.03 Q851.404 1033.19 851.404 1030.03 Q851.404 1026.87 849.358 1025.02 Q847.312 1023.18 843.808 1023.18 Q842.168 1023.18 840.527 1023.55 Q838.907 1023.91 837.205 1024.68 L837.205 1009.49 Z\" fill=\"#000000\" fill-rule=\"evenodd\" fill-opacity=\"1\" /><path clip-path=\"url(#clip640)\" d=\"M1240.49 1242.54 L1259.93 1242.54 L1259.93 1244.28 L1248.95 1272.78 L1244.68 1272.78 L1255.01 1245.98 L1240.49 1245.98 L1240.49 1242.54 Z\" fill=\"#000000\" fill-rule=\"evenodd\" fill-opacity=\"1\" /><path clip-path=\"url(#clip640)\" d=\"M1594.77 1040.61 L1614.22 1040.61 L1614.22 1042.35 L1603.24 1070.85 L1598.97 1070.85 L1609.3 1044.05 L1594.77 1044.05 L1594.77 1040.61 Z\" fill=\"#000000\" fill-rule=\"evenodd\" fill-opacity=\"1\" /><path clip-path=\"url(#clip640)\" d=\"M1572.86 502.928 L1592.31 502.928 L1592.31 504.67 L1581.33 533.168 L1577.06 533.168 L1587.39 506.371 L1572.86 506.371 L1572.86 502.928 Z\" fill=\"#000000\" fill-rule=\"evenodd\" fill-opacity=\"1\" /><path clip-path=\"url(#clip640)\" d=\"M1001.55 490.247 L996.001 505.296 L1007.12 505.296 L1001.55 490.247 M999.242 486.216 L1003.88 486.216 L1015.41 516.456 L1011.15 516.456 L1008.4 508.698 L994.766 508.698 L992.011 516.456 L987.697 516.456 L999.242 486.216 Z\" fill=\"#000000\" fill-rule=\"evenodd\" fill-opacity=\"1\" /><path clip-path=\"url(#clip640)\" d=\"M655.684 872.27 L655.684 883.349 L662.246 883.349 Q665.548 883.349 667.128 881.992 Q668.728 880.614 668.728 877.799 Q668.728 874.963 667.128 873.627 Q665.548 872.27 662.246 872.27 L655.684 872.27 M655.684 859.833 L655.684 868.948 L661.74 868.948 Q664.738 868.948 666.196 867.834 Q667.675 866.7 667.675 864.391 Q667.675 862.102 666.196 860.968 Q664.738 859.833 661.74 859.833 L655.684 859.833 M651.592 856.471 L662.044 856.471 Q666.723 856.471 669.254 858.415 Q671.786 860.36 671.786 863.945 Q671.786 866.72 670.49 868.36 Q669.194 870.001 666.682 870.406 Q669.7 871.054 671.361 873.12 Q673.042 875.166 673.042 878.245 Q673.042 882.296 670.287 884.503 Q667.533 886.711 662.449 886.711 L651.592 886.711 L651.592 856.471 Z\" fill=\"#000000\" fill-rule=\"evenodd\" fill-opacity=\"1\" /><path clip-path=\"url(#clip640)\" d=\"M1041.3 1164.84 L1041.3 1169.15 Q1039.23 1167.23 1036.89 1166.28 Q1034.56 1165.32 1031.92 1165.32 Q1026.74 1165.32 1023.98 1168.5 Q1021.23 1171.66 1021.23 1177.66 Q1021.23 1183.63 1023.98 1186.81 Q1026.74 1189.97 1031.92 1189.97 Q1034.56 1189.97 1036.89 1189.02 Q1039.23 1188.07 1041.3 1186.14 L1041.3 1190.42 Q1039.15 1191.88 1036.74 1192.61 Q1034.35 1193.34 1031.68 1193.34 Q1024.81 1193.34 1020.86 1189.14 Q1016.91 1184.93 1016.91 1177.66 Q1016.91 1170.37 1020.86 1166.17 Q1024.81 1161.96 1031.68 1161.96 Q1034.39 1161.96 1036.78 1162.69 Q1039.19 1163.4 1041.3 1164.84 Z\" fill=\"#000000\" fill-rule=\"evenodd\" fill-opacity=\"1\" /><path clip-path=\"url(#clip640)\" d=\"M1462.69 1325.93 L1462.69 1349.44 L1467.63 1349.44 Q1473.89 1349.44 1476.79 1346.6 Q1479.7 1343.77 1479.7 1337.65 Q1479.7 1331.58 1476.79 1328.76 Q1473.89 1325.93 1467.63 1325.93 L1462.69 1325.93 M1458.6 1322.56 L1467 1322.56 Q1475.79 1322.56 1479.91 1326.23 Q1484.02 1329.87 1484.02 1337.65 Q1484.02 1345.47 1479.88 1349.14 Q1475.75 1352.8 1467 1352.8 L1458.6 1352.8 L1458.6 1322.56 Z\" fill=\"#000000\" fill-rule=\"evenodd\" fill-opacity=\"1\" /><path clip-path=\"url(#clip640)\" d=\"M1727.94 758.658 L1747.06 758.658 L1747.06 762.102 L1732.03 762.102 L1732.03 771.054 L1746.43 771.054 L1746.43 774.497 L1732.03 774.497 L1732.03 785.455 L1747.43 785.455 L1747.43 788.898 L1727.94 788.898 L1727.94 758.658 Z\" fill=\"#000000\" fill-rule=\"evenodd\" fill-opacity=\"1\" /><path clip-path=\"url(#clip640)\" d=\"M1418.8 247.197 L1436.18 247.197 L1436.18 250.64 L1422.89 250.64 L1422.89 259.552 L1434.88 259.552 L1434.88 262.996 L1422.89 262.996 L1422.89 277.437 L1418.8 277.437 L1418.8 247.197 Z\" fill=\"#000000\" fill-rule=\"evenodd\" fill-opacity=\"1\" /></svg>\n"
      ]
     },
     "execution_count": 20,
     "metadata": {},
     "output_type": "execute_result"
    }
   ],
   "source": [
    "graphplot(g2.graph, names=[\"A\",\"B\",\"C\",\"D\",\"E\",\"F\"], edgelabel = Dict((1,2)=>3,(2,3)=>5,(1,3) => 7,(3,4) => 7,(4,5) => 7,(5,6) => 7,(6,1) => 5),curves=false)"
   ]
  },
  {
   "cell_type": "code",
   "execution_count": 21,
   "id": "118a6728-ef1c-4ee6-bb2f-7a4f6f76796d",
   "metadata": {},
   "outputs": [
    {
     "data": {
      "text/plain": [
       "3-element Vector{Main.WeightedGraphs.Edge}:\n",
       " (:A, :B, 3)\n",
       " (:B, :C, 5)\n",
       " (:C, :A, 7)"
      ]
     },
     "execution_count": 21,
     "metadata": {},
     "output_type": "execute_result"
    }
   ],
   "source": [
    "g.edges"
   ]
  },
  {
   "cell_type": "code",
   "execution_count": 22,
   "id": "9be14e6e-5149-4efd-b653-574282fe12e8",
   "metadata": {},
   "outputs": [
    {
     "data": {
      "text/plain": [
       "7-element Vector{Main.WeightedGraphs.Edge}:\n",
       " (:A, :B, 3)\n",
       " (:B, :C, 5)\n",
       " (:C, :A, 7)\n",
       " (:C, :D, 7)\n",
       " (:D, :E, 7)\n",
       " (:E, :F, 7)\n",
       " (:F, :A, 5)"
      ]
     },
     "execution_count": 22,
     "metadata": {},
     "output_type": "execute_result"
    }
   ],
   "source": [
    "g2.edges"
   ]
  },
  {
   "cell_type": "code",
   "execution_count": 23,
   "id": "2092fbf3-3078-4c11-905d-f2fdcb0b5a51",
   "metadata": {},
   "outputs": [
    {
     "data": {
      "text/plain": [
       "6-element Vector{Vertex}:\n",
       " A\n",
       " B\n",
       " C\n",
       " D\n",
       " C\n",
       " A"
      ]
     },
     "execution_count": 23,
     "metadata": {},
     "output_type": "execute_result"
    }
   ],
   "source": [
    "p2 = [Vertex(:A), Vertex(:B), Vertex(:C), Vertex(:D), Vertex(:C), Vertex(:A)]"
   ]
  },
  {
   "cell_type": "code",
   "execution_count": 24,
   "id": "6176907b-d502-437d-aff1-44820c9aeb28",
   "metadata": {},
   "outputs": [
    {
     "data": {
      "text/plain": [
       "Vertex[A, B, C, D, C, A]"
      ]
     },
     "execution_count": 24,
     "metadata": {},
     "output_type": "execute_result"
    }
   ],
   "source": [
    "d2 = Path(p2,g2)"
   ]
  },
  {
   "cell_type": "code",
   "execution_count": 25,
   "id": "4c1c22d4-097c-49f0-b3b6-9a88b33bcb8b",
   "metadata": {},
   "outputs": [
    {
     "data": {
      "text/plain": [
       "29"
      ]
     },
     "execution_count": 25,
     "metadata": {},
     "output_type": "execute_result"
    }
   ],
   "source": [
    "distance(d2)"
   ]
  },
  {
   "cell_type": "code",
   "execution_count": 26,
   "id": "7ce4cc96-0c01-4dc9-8bf5-7553eeee85bf",
   "metadata": {},
   "outputs": [
    {
     "data": {
      "text/plain": [
       "4-element Vector{Vertex}:\n",
       " A\n",
       " D\n",
       " E\n",
       " F"
      ]
     },
     "execution_count": 26,
     "metadata": {},
     "output_type": "execute_result"
    }
   ],
   "source": [
    "p3 = [v1,v4,v5,v6]"
   ]
  },
  {
   "cell_type": "code",
   "execution_count": 27,
   "id": "8436352e-6ec1-432f-aef1-9be9e1c37f5f",
   "metadata": {},
   "outputs": [
    {
     "ename": "LoadError",
     "evalue": "ArgumentError: Two of the vertices in the path do not share an edge on the graph",
     "output_type": "error",
     "traceback": [
      "ArgumentError: Two of the vertices in the path do not share an edge on the graph",
      "",
      "Stacktrace:",
      " [1] Path(p::Vector{Vertex}, g::WeightedGraph)",
      "   @ Main.WeightedGraphs C:\\Users\\Camer\\Documents\\My-Repositories\\Sci-Comp-ShortestPath\\WeightedGraphs.jl:137",
      " [2] top-level scope",
      "   @ In[27]:1",
      " [3] eval",
      "   @ .\\boot.jl:368 [inlined]",
      " [4] include_string(mapexpr::typeof(REPL.softscope), mod::Module, code::String, filename::String)",
      "   @ Base .\\loading.jl:1428"
     ]
    }
   ],
   "source": [
    "d3 = Path(p3,g2)"
   ]
  },
  {
   "cell_type": "code",
   "execution_count": 28,
   "id": "f9da6fb0-39a9-497d-919f-3a0bdbcef463",
   "metadata": {},
   "outputs": [
    {
     "ename": "LoadError",
     "evalue": "ArgumentError: Two of the vertices in the path do not share an edge on the graph",
     "output_type": "error",
     "traceback": [
      "ArgumentError: Two of the vertices in the path do not share an edge on the graph",
      "",
      "Stacktrace:",
      " [1] Path(p::Vector{Vertex}, g::WeightedGraph)",
      "   @ Main.WeightedGraphs C:\\Users\\Camer\\Documents\\My-Repositories\\Sci-Comp-ShortestPath\\WeightedGraphs.jl:137",
      " [2] top-level scope",
      "   @ In[28]:1",
      " [3] eval",
      "   @ .\\boot.jl:368 [inlined]",
      " [4] include_string(mapexpr::typeof(REPL.softscope), mod::Module, code::String, filename::String)",
      "   @ Base .\\loading.jl:1428"
     ]
    }
   ],
   "source": [
    "distance(Path(p3,g2))"
   ]
  },
  {
   "cell_type": "code",
   "execution_count": 29,
   "id": "6cf093ab-4b6a-4237-8d3e-e6720b24fced",
   "metadata": {},
   "outputs": [
    {
     "data": {
      "text/plain": [
       "5-element Vector{Vertex}:\n",
       " B\n",
       " A\n",
       " C\n",
       " A\n",
       " B"
      ]
     },
     "execution_count": 29,
     "metadata": {},
     "output_type": "execute_result"
    }
   ],
   "source": [
    "p4 = [v2,v1,v3,v1,v2]"
   ]
  },
  {
   "cell_type": "code",
   "execution_count": 30,
   "id": "fe0724a7-fc77-4e1a-8b4d-2ce6c8f25185",
   "metadata": {},
   "outputs": [
    {
     "data": {
      "text/plain": [
       "Vertex[B, A, C, A, B]"
      ]
     },
     "execution_count": 30,
     "metadata": {},
     "output_type": "execute_result"
    }
   ],
   "source": [
    "d4 = Path(p4,g)"
   ]
  },
  {
   "cell_type": "code",
   "execution_count": 31,
   "id": "60c7b332-823c-4f6d-8e36-e03a25e8e610",
   "metadata": {},
   "outputs": [
    {
     "data": {
      "text/plain": [
       "20"
      ]
     },
     "execution_count": 31,
     "metadata": {},
     "output_type": "execute_result"
    }
   ],
   "source": [
    "distance(d4)"
   ]
  },
  {
   "cell_type": "code",
   "execution_count": 32,
   "id": "a37800e6-eb28-4b97-8126-22efb4645b36",
   "metadata": {},
   "outputs": [
    {
     "data": {
      "text/plain": [
       "Vertex[A, B, C]Main.WeightedGraphs.Edge[(:A, :B, 3), (:B, :C, 5), (:C, :A, 7)]"
      ]
     },
     "execution_count": 32,
     "metadata": {},
     "output_type": "execute_result"
    }
   ],
   "source": [
    "g"
   ]
  },
  {
   "cell_type": "code",
   "execution_count": 33,
   "id": "904b9958-324b-45c6-95b4-e5a97f9da2d4",
   "metadata": {},
   "outputs": [
    {
     "data": {
      "text/plain": [
       "Path"
      ]
     },
     "execution_count": 33,
     "metadata": {},
     "output_type": "execute_result"
    }
   ],
   "source": [
    "typeof(d1)"
   ]
  },
  {
   "cell_type": "code",
   "execution_count": 34,
   "id": "309c54db-7741-4b5a-adca-661f159cbc17",
   "metadata": {},
   "outputs": [
    {
     "data": {
      "text/plain": [
       "true"
      ]
     },
     "execution_count": 34,
     "metadata": {},
     "output_type": "execute_result"
    }
   ],
   "source": [
    "typeof(d1) == Path"
   ]
  },
  {
   "cell_type": "code",
   "execution_count": 35,
   "id": "070e0961-424a-4362-af9c-43e46ea3b931",
   "metadata": {},
   "outputs": [
    {
     "ename": "LoadError",
     "evalue": "ArgumentError: Two of the vertices in the path do not share an edge on the graph",
     "output_type": "error",
     "traceback": [
      "ArgumentError: Two of the vertices in the path do not share an edge on the graph",
      "",
      "Stacktrace:",
      " [1] Path(p::Vector{Vertex}, g::WeightedGraph)",
      "   @ Main.WeightedGraphs C:\\Users\\Camer\\Documents\\My-Repositories\\Sci-Comp-ShortestPath\\WeightedGraphs.jl:137",
      " [2] top-level scope",
      "   @ In[35]:1",
      " [3] eval",
      "   @ .\\boot.jl:368 [inlined]",
      " [4] include_string(mapexpr::typeof(REPL.softscope), mod::Module, code::String, filename::String)",
      "   @ Base .\\loading.jl:1428"
     ]
    }
   ],
   "source": [
    "typeof(Path(p3,g2))"
   ]
  },
  {
   "cell_type": "code",
   "execution_count": 36,
   "id": "88b486f3-4492-443f-bc93-87951f1b77aa",
   "metadata": {},
   "outputs": [
    {
     "data": {
      "text/plain": [
       "Vertex[]Main.WeightedGraphs.Edge[]"
      ]
     },
     "execution_count": 36,
     "metadata": {},
     "output_type": "execute_result"
    }
   ],
   "source": [
    "E1 = WeightedGraphs.Edge(:A,:B,9)\n",
    "E2 = WeightedGraphs.Edge(:A,:C,12)\n",
    "E3 = WeightedGraphs.Edge(:A,:D,15)\n",
    "E4 = WeightedGraphs.Edge(:A,:E,8)\n",
    "E5 = WeightedGraphs.Edge(:A,:F,20)\n",
    "E6 = WeightedGraphs.Edge(:B,:C,24)\n",
    "E7 = WeightedGraphs.Edge(:B,:D,2)\n",
    "E8 = WeightedGraphs.Edge(:B,:E,4)\n",
    "E9 = WeightedGraphs.Edge(:B,:F,10)\n",
    "E10 = WeightedGraphs.Edge(:C,:D,15)\n",
    "E11 = WeightedGraphs.Edge(:C,:E,12)\n",
    "E12 = WeightedGraphs.Edge(:C,:F,7)\n",
    "E13 = WeightedGraphs.Edge(:D,:E,16)\n",
    "E14 = WeightedGraphs.Edge(:D,:F,18)\n",
    "E15 = WeightedGraphs.Edge(:E,:F,22)\n",
    "g3 = WeightedGraph()"
   ]
  },
  {
   "cell_type": "code",
   "execution_count": 37,
   "id": "ae5c1da0-85d6-4791-b027-9df8c447c788",
   "metadata": {},
   "outputs": [
    {
     "data": {
      "text/plain": [
       "Vertex[A, B, C, D, E, F]Main.WeightedGraphs.Edge[(:A, :B, 9), (:A, :C, 12), (:A, :D, 15), (:A, :E, 8), (:A, :F, 20), (:B, :C, 24), (:B, :D, 2), (:B, :E, 4), (:B, :F, 10), (:C, :D, 15), (:C, :E, 12), (:C, :F, 7), (:D, :E, 16), (:D, :F, 18), (:E, :F, 22)]"
      ]
     },
     "execution_count": 37,
     "metadata": {},
     "output_type": "execute_result"
    }
   ],
   "source": [
    "addVertices!(g3,v1,v2,v3,v4,v5,v6)\n",
    "addEdges!(g3,E1,E2,E3,E4,E5,E6,E7,E8,E9,E10,E11,E12,E13,E14,E15)\n",
    "g3"
   ]
  },
  {
   "cell_type": "code",
   "execution_count": 38,
   "id": "fee9abdf-818d-4afe-a65a-0cc340b7292b",
   "metadata": {},
   "outputs": [
    {
     "data": {
      "text/plain": [
       "\"A\""
      ]
     },
     "execution_count": 38,
     "metadata": {},
     "output_type": "execute_result"
    }
   ],
   "source": [
    "string(g3.vertices[1])"
   ]
  },
  {
   "cell_type": "code",
   "execution_count": 39,
   "id": "d53cb89f-e6f2-41bd-80bf-67ab81c3d3f1",
   "metadata": {},
   "outputs": [
    {
     "data": {
      "text/plain": [
       "6-element Vector{Any}:\n",
       " \"A\"\n",
       " \"B\"\n",
       " \"C\"\n",
       " \"D\"\n",
       " \"E\"\n",
       " \"F\""
      ]
     },
     "execution_count": 39,
     "metadata": {},
     "output_type": "execute_result"
    }
   ],
   "source": [
    "names = []\n",
    "for i in 1:length(g3.vertices)\n",
    "  push!(names,string(g3.vertices[i]))\n",
    "end\n",
    "names"
   ]
  },
  {
   "cell_type": "code",
   "execution_count": 40,
   "id": "5abfbc2d-28dc-470c-ad2d-c74b2faed4da",
   "metadata": {},
   "outputs": [
    {
     "data": {
      "text/plain": [
       "Dict{Any, Any} with 1 entry:\n",
       "  (1, 2) => 3"
      ]
     },
     "execution_count": 40,
     "metadata": {},
     "output_type": "execute_result"
    }
   ],
   "source": [
    "edgelabel2=Dict()\n",
    "push!(edgelabel2,(1,2)=>3)"
   ]
  },
  {
   "cell_type": "code",
   "execution_count": 41,
   "id": "c633d280-1593-4a42-879f-47230439424c",
   "metadata": {},
   "outputs": [
    {
     "data": {
      "text/plain": [
       "9"
      ]
     },
     "execution_count": 41,
     "metadata": {},
     "output_type": "execute_result"
    }
   ],
   "source": [
    "g3.edges[1].weight"
   ]
  },
  {
   "cell_type": "code",
   "execution_count": 42,
   "id": "70439747-e4ed-48cf-8eb0-f71ef09e31e3",
   "metadata": {},
   "outputs": [
    {
     "data": {
      "text/plain": [
       "true"
      ]
     },
     "execution_count": 42,
     "metadata": {},
     "output_type": "execute_result"
    }
   ],
   "source": [
    "g3.edges[1].start == Symbol(g3.vertices[1])"
   ]
  },
  {
   "cell_type": "code",
   "execution_count": 43,
   "id": "4589e6fa-942f-4dd7-bd37-783c71a485a5",
   "metadata": {},
   "outputs": [
    {
     "data": {
      "text/plain": [
       "Dict{Any, Any} with 15 entries:\n",
       "  (4, 5) => 16\n",
       "  (1, 2) => 9\n",
       "  (2, 5) => 4\n",
       "  (1, 3) => 12\n",
       "  (1, 4) => 15\n",
       "  (4, 6) => 18\n",
       "  (2, 6) => 10\n",
       "  (3, 4) => 15\n",
       "  (5, 6) => 22\n",
       "  (1, 5) => 8\n",
       "  (1, 6) => 20\n",
       "  (3, 5) => 12\n",
       "  (2, 3) => 24\n",
       "  (2, 4) => 2\n",
       "  (3, 6) => 7"
      ]
     },
     "execution_count": 43,
     "metadata": {},
     "output_type": "execute_result"
    }
   ],
   "source": [
    "edgelabel=Dict()\n",
    "for i in 1:length(g3.edges)\n",
    "    for s in 1:length(g3.vertices)\n",
    "        for f in 1:length(g3.vertices)\n",
    "            if g3.edges[i].start == Symbol(g3.vertices[s]) && g3.edges[i].finish == Symbol(g3.vertices[f])\n",
    "                push!(edgelabel,(s,f) => g3.edges[i].weight)\n",
    "            end\n",
    "        end\n",
    "    end\n",
    "end\n",
    "edgelabel"
   ]
  },
  {
   "cell_type": "code",
   "execution_count": 44,
   "id": "2d02c55c-8b7a-4eaa-b3f4-48f3a7c6e28f",
   "metadata": {},
   "outputs": [
    {
     "data": {
      "text/plain": [
       "{6, 15} undirected simple Int64 graph"
      ]
     },
     "execution_count": 44,
     "metadata": {},
     "output_type": "execute_result"
    }
   ],
   "source": [
    "g3.graph"
   ]
  },
  {
   "cell_type": "code",
   "execution_count": 45,
   "id": "0c5fbd08-7a60-4318-b793-815f4f434aae",
   "metadata": {},
   "outputs": [
    {
     "data": {
      "image/svg+xml": [
       "<?xml version=\"1.0\" encoding=\"utf-8\"?>\n",
       "<svg xmlns=\"http://www.w3.org/2000/svg\" xmlns:xlink=\"http://www.w3.org/1999/xlink\" width=\"600\" height=\"400\" viewBox=\"0 0 2400 1600\">\n",
       "<defs>\n",
       "  <clipPath id=\"clip670\">\n",
       "    <rect x=\"0\" y=\"0\" width=\"2400\" height=\"1600\"/>\n",
       "  </clipPath>\n",
       "</defs>\n",
       "<path clip-path=\"url(#clip670)\" d=\"\n",
       "M0 1600 L2400 1600 L2400 0 L0 0  Z\n",
       "  \" fill=\"#ffffff\" fill-rule=\"evenodd\" fill-opacity=\"1\"/>\n",
       "<defs>\n",
       "  <clipPath id=\"clip671\">\n",
       "    <rect x=\"480\" y=\"0\" width=\"1681\" height=\"1600\"/>\n",
       "  </clipPath>\n",
       "</defs>\n",
       "<path clip-path=\"url(#clip670)\" d=\"\n",
       "M447.244 1552.76 L1952.76 1552.76 L1952.76 47.2441 L447.244 47.2441  Z\n",
       "  \" fill=\"#ffffff\" fill-rule=\"evenodd\" fill-opacity=\"1\"/>\n",
       "<defs>\n",
       "  <clipPath id=\"clip672\">\n",
       "    <rect x=\"447\" y=\"47\" width=\"1507\" height=\"1507\"/>\n",
       "  </clipPath>\n",
       "</defs>\n",
       "<polyline clip-path=\"url(#clip672)\" style=\"stroke:#000000; stroke-linecap:round; stroke-linejoin:round; stroke-width:4; stroke-opacity:1; fill:none\" points=\"\n",
       "  1389.56,1337.68 662.317,526.053 \n",
       "  \"/>\n",
       "<polyline clip-path=\"url(#clip672)\" style=\"stroke:#000000; stroke-linecap:round; stroke-linejoin:round; stroke-width:4; stroke-opacity:1; fill:none\" points=\"\n",
       "  1389.56,1337.68 1737.68,763.927 \n",
       "  \"/>\n",
       "<polyline clip-path=\"url(#clip672)\" style=\"stroke:#000000; stroke-linecap:round; stroke-linejoin:round; stroke-width:4; stroke-opacity:1; fill:none\" points=\"\n",
       "  1389.56,1337.68 1288.2,262.317 \n",
       "  \"/>\n",
       "<polyline clip-path=\"url(#clip672)\" style=\"stroke:#000000; stroke-linecap:round; stroke-linejoin:round; stroke-width:4; stroke-opacity:1; fill:none\" points=\"\n",
       "  1389.56,1337.68 724.949,1190.65 \n",
       "  \"/>\n",
       "<polyline clip-path=\"url(#clip672)\" style=\"stroke:#000000; stroke-linecap:round; stroke-linejoin:round; stroke-width:4; stroke-opacity:1; fill:none\" points=\"\n",
       "  1389.56,1337.68 1160.56,816.135 \n",
       "  \"/>\n",
       "<polyline clip-path=\"url(#clip672)\" style=\"stroke:#000000; stroke-linecap:round; stroke-linejoin:round; stroke-width:4; stroke-opacity:1; fill:none\" points=\"\n",
       "  662.317,526.053 1737.68,763.927 \n",
       "  \"/>\n",
       "<polyline clip-path=\"url(#clip672)\" style=\"stroke:#000000; stroke-linecap:round; stroke-linejoin:round; stroke-width:4; stroke-opacity:1; fill:none\" points=\"\n",
       "  662.317,526.053 1288.2,262.317 \n",
       "  \"/>\n",
       "<polyline clip-path=\"url(#clip672)\" style=\"stroke:#000000; stroke-linecap:round; stroke-linejoin:round; stroke-width:4; stroke-opacity:1; fill:none\" points=\"\n",
       "  662.317,526.053 724.949,1190.65 \n",
       "  \"/>\n",
       "<polyline clip-path=\"url(#clip672)\" style=\"stroke:#000000; stroke-linecap:round; stroke-linejoin:round; stroke-width:4; stroke-opacity:1; fill:none\" points=\"\n",
       "  662.317,526.053 1160.56,816.135 \n",
       "  \"/>\n",
       "<polyline clip-path=\"url(#clip672)\" style=\"stroke:#000000; stroke-linecap:round; stroke-linejoin:round; stroke-width:4; stroke-opacity:1; fill:none\" points=\"\n",
       "  1737.68,763.927 1288.2,262.317 \n",
       "  \"/>\n",
       "<polyline clip-path=\"url(#clip672)\" style=\"stroke:#000000; stroke-linecap:round; stroke-linejoin:round; stroke-width:4; stroke-opacity:1; fill:none\" points=\"\n",
       "  1737.68,763.927 724.949,1190.65 \n",
       "  \"/>\n",
       "<polyline clip-path=\"url(#clip672)\" style=\"stroke:#000000; stroke-linecap:round; stroke-linejoin:round; stroke-width:4; stroke-opacity:1; fill:none\" points=\"\n",
       "  1737.68,763.927 1160.56,816.135 \n",
       "  \"/>\n",
       "<polyline clip-path=\"url(#clip672)\" style=\"stroke:#000000; stroke-linecap:round; stroke-linejoin:round; stroke-width:4; stroke-opacity:1; fill:none\" points=\"\n",
       "  1288.2,262.317 724.949,1190.65 \n",
       "  \"/>\n",
       "<polyline clip-path=\"url(#clip672)\" style=\"stroke:#000000; stroke-linecap:round; stroke-linejoin:round; stroke-width:4; stroke-opacity:1; fill:none\" points=\"\n",
       "  1288.2,262.317 1160.56,816.135 \n",
       "  \"/>\n",
       "<polyline clip-path=\"url(#clip672)\" style=\"stroke:#000000; stroke-linecap:round; stroke-linejoin:round; stroke-width:4; stroke-opacity:1; fill:none\" points=\"\n",
       "  724.949,1190.65 1160.56,816.135 \n",
       "  \"/>\n",
       "<path clip-path=\"url(#clip672)\" d=\"\n",
       "M1003.36 968 L1048.52 968 L1048.52 895.736 L1003.36 895.736 L1003.36 968 L1003.36 968  Z\n",
       "  \" fill=\"#ffffff\" fill-rule=\"evenodd\" fill-opacity=\"1\"/>\n",
       "<polyline clip-path=\"url(#clip672)\" style=\"stroke:#000000; stroke-linecap:round; stroke-linejoin:round; stroke-width:0; stroke-opacity:0; fill:none\" points=\"\n",
       "  1003.36,968 1048.52,968 1048.52,895.736 1003.36,895.736 1003.36,968 \n",
       "  \"/>\n",
       "<path clip-path=\"url(#clip672)\" d=\"\n",
       "M1524.3 1086.94 L1602.94 1086.94 L1602.94 1014.67 L1524.3 1014.67 L1524.3 1086.94 L1524.3 1086.94  Z\n",
       "  \" fill=\"#ffffff\" fill-rule=\"evenodd\" fill-opacity=\"1\"/>\n",
       "<polyline clip-path=\"url(#clip672)\" style=\"stroke:#000000; stroke-linecap:round; stroke-linejoin:round; stroke-width:0; stroke-opacity:0; fill:none\" points=\"\n",
       "  1524.3,1086.94 1602.94,1086.94 1602.94,1014.67 1524.3,1014.67 1524.3,1086.94 \n",
       "  \"/>\n",
       "<path clip-path=\"url(#clip672)\" d=\"\n",
       "M1299.56 836.132 L1378.2 836.132 L1378.2 763.868 L1299.56 763.868 L1299.56 836.132 L1299.56 836.132  Z\n",
       "  \" fill=\"#ffffff\" fill-rule=\"evenodd\" fill-opacity=\"1\"/>\n",
       "<polyline clip-path=\"url(#clip672)\" style=\"stroke:#000000; stroke-linecap:round; stroke-linejoin:round; stroke-width:0; stroke-opacity:0; fill:none\" points=\"\n",
       "  1299.56,836.132 1378.2,836.132 1378.2,763.868 1299.56,763.868 1299.56,836.132 \n",
       "  \"/>\n",
       "<path clip-path=\"url(#clip672)\" d=\"\n",
       "M1034.67 1300.3 L1079.84 1300.3 L1079.84 1228.04 L1034.67 1228.04 L1034.67 1300.3 L1034.67 1300.3  Z\n",
       "  \" fill=\"#ffffff\" fill-rule=\"evenodd\" fill-opacity=\"1\"/>\n",
       "<polyline clip-path=\"url(#clip672)\" style=\"stroke:#000000; stroke-linecap:round; stroke-linejoin:round; stroke-width:0; stroke-opacity:0; fill:none\" points=\"\n",
       "  1034.67,1300.3 1079.84,1300.3 1079.84,1228.04 1034.67,1228.04 1034.67,1300.3 \n",
       "  \"/>\n",
       "<path clip-path=\"url(#clip672)\" d=\"\n",
       "M1235.74 1113.04 L1314.38 1113.04 L1314.38 1040.78 L1235.74 1040.78 L1235.74 1113.04 L1235.74 1113.04  Z\n",
       "  \" fill=\"#ffffff\" fill-rule=\"evenodd\" fill-opacity=\"1\"/>\n",
       "<polyline clip-path=\"url(#clip672)\" style=\"stroke:#000000; stroke-linecap:round; stroke-linejoin:round; stroke-width:0; stroke-opacity:0; fill:none\" points=\"\n",
       "  1235.74,1113.04 1314.38,1113.04 1314.38,1040.78 1235.74,1040.78 1235.74,1113.04 \n",
       "  \"/>\n",
       "<path clip-path=\"url(#clip672)\" d=\"\n",
       "M1160.68 681.122 L1239.32 681.122 L1239.32 608.857 L1160.68 608.857 L1160.68 681.122 L1160.68 681.122  Z\n",
       "  \" fill=\"#ffffff\" fill-rule=\"evenodd\" fill-opacity=\"1\"/>\n",
       "<polyline clip-path=\"url(#clip672)\" style=\"stroke:#000000; stroke-linecap:round; stroke-linejoin:round; stroke-width:0; stroke-opacity:0; fill:none\" points=\"\n",
       "  1160.68,681.122 1239.32,681.122 1239.32,608.857 1160.68,608.857 1160.68,681.122 \n",
       "  \"/>\n",
       "<path clip-path=\"url(#clip672)\" d=\"\n",
       "M952.678 430.317 L997.844 430.317 L997.844 358.053 L952.678 358.053 L952.678 430.317 L952.678 430.317  Z\n",
       "  \" fill=\"#ffffff\" fill-rule=\"evenodd\" fill-opacity=\"1\"/>\n",
       "<polyline clip-path=\"url(#clip672)\" style=\"stroke:#000000; stroke-linecap:round; stroke-linejoin:round; stroke-width:0; stroke-opacity:0; fill:none\" points=\"\n",
       "  952.678,430.317 997.844,430.317 997.844,358.053 952.678,358.053 952.678,430.317 \n",
       "  \"/>\n",
       "<path clip-path=\"url(#clip672)\" d=\"\n",
       "M671.05 894.485 L716.216 894.485 L716.216 822.22 L671.05 822.22 L671.05 894.485 L671.05 894.485  Z\n",
       "  \" fill=\"#ffffff\" fill-rule=\"evenodd\" fill-opacity=\"1\"/>\n",
       "<polyline clip-path=\"url(#clip672)\" style=\"stroke:#000000; stroke-linecap:round; stroke-linejoin:round; stroke-width:0; stroke-opacity:0; fill:none\" points=\"\n",
       "  671.05,894.485 716.216,894.485 716.216,822.22 671.05,822.22 671.05,894.485 \n",
       "  \"/>\n",
       "<path clip-path=\"url(#clip672)\" d=\"\n",
       "M872.12 707.226 L950.758 707.226 L950.758 634.962 L872.12 634.962 L872.12 707.226 L872.12 707.226  Z\n",
       "  \" fill=\"#ffffff\" fill-rule=\"evenodd\" fill-opacity=\"1\"/>\n",
       "<polyline clip-path=\"url(#clip672)\" style=\"stroke:#000000; stroke-linecap:round; stroke-linejoin:round; stroke-width:0; stroke-opacity:0; fill:none\" points=\"\n",
       "  872.12,707.226 950.758,707.226 950.758,634.962 872.12,634.962 872.12,707.226 \n",
       "  \"/>\n",
       "<path clip-path=\"url(#clip672)\" d=\"\n",
       "M1473.63 549.254 L1552.26 549.254 L1552.26 476.99 L1473.63 476.99 L1473.63 549.254 L1473.63 549.254  Z\n",
       "  \" fill=\"#ffffff\" fill-rule=\"evenodd\" fill-opacity=\"1\"/>\n",
       "<polyline clip-path=\"url(#clip672)\" style=\"stroke:#000000; stroke-linecap:round; stroke-linejoin:round; stroke-width:0; stroke-opacity:0; fill:none\" points=\"\n",
       "  1473.63,549.254 1552.26,549.254 1552.26,476.99 1473.63,476.99 1473.63,549.254 \n",
       "  \"/>\n",
       "<path clip-path=\"url(#clip672)\" d=\"\n",
       "M1192 1013.42 L1270.63 1013.42 L1270.63 941.157 L1192 941.157 L1192 1013.42 L1192 1013.42  Z\n",
       "  \" fill=\"#ffffff\" fill-rule=\"evenodd\" fill-opacity=\"1\"/>\n",
       "<polyline clip-path=\"url(#clip672)\" style=\"stroke:#000000; stroke-linecap:round; stroke-linejoin:round; stroke-width:0; stroke-opacity:0; fill:none\" points=\"\n",
       "  1192,1013.42 1270.63,1013.42 1270.63,941.157 1192,941.157 1192,1013.42 \n",
       "  \"/>\n",
       "<path clip-path=\"url(#clip672)\" d=\"\n",
       "M1426.54 826.163 L1471.7 826.163 L1471.7 753.899 L1426.54 753.899 L1426.54 826.163 L1426.54 826.163  Z\n",
       "  \" fill=\"#ffffff\" fill-rule=\"evenodd\" fill-opacity=\"1\"/>\n",
       "<polyline clip-path=\"url(#clip672)\" style=\"stroke:#000000; stroke-linecap:round; stroke-linejoin:round; stroke-width:0; stroke-opacity:0; fill:none\" points=\"\n",
       "  1426.54,826.163 1471.7,826.163 1471.7,753.899 1426.54,753.899 1426.54,826.163 \n",
       "  \"/>\n",
       "<path clip-path=\"url(#clip672)\" d=\"\n",
       "M967.258 762.617 L1045.9 762.617 L1045.9 690.353 L967.258 690.353 L967.258 762.617 L967.258 762.617  Z\n",
       "  \" fill=\"#ffffff\" fill-rule=\"evenodd\" fill-opacity=\"1\"/>\n",
       "<polyline clip-path=\"url(#clip672)\" style=\"stroke:#000000; stroke-linecap:round; stroke-linejoin:round; stroke-width:0; stroke-opacity:0; fill:none\" points=\"\n",
       "  967.258,762.617 1045.9,762.617 1045.9,690.353 967.258,690.353 967.258,762.617 \n",
       "  \"/>\n",
       "<path clip-path=\"url(#clip672)\" d=\"\n",
       "M1185.06 575.358 L1263.7 575.358 L1263.7 503.094 L1185.06 503.094 L1185.06 575.358 L1185.06 575.358  Z\n",
       "  \" fill=\"#ffffff\" fill-rule=\"evenodd\" fill-opacity=\"1\"/>\n",
       "<polyline clip-path=\"url(#clip672)\" style=\"stroke:#000000; stroke-linecap:round; stroke-linejoin:round; stroke-width:0; stroke-opacity:0; fill:none\" points=\"\n",
       "  1185.06,575.358 1263.7,575.358 1263.7,503.094 1185.06,503.094 1185.06,575.358 \n",
       "  \"/>\n",
       "<path clip-path=\"url(#clip672)\" d=\"\n",
       "M903.436 1039.53 L982.074 1039.53 L982.074 967.262 L903.436 967.262 L903.436 1039.53 L903.436 1039.53  Z\n",
       "  \" fill=\"#ffffff\" fill-rule=\"evenodd\" fill-opacity=\"1\"/>\n",
       "<polyline clip-path=\"url(#clip672)\" style=\"stroke:#000000; stroke-linecap:round; stroke-linejoin:round; stroke-width:0; stroke-opacity:0; fill:none\" points=\"\n",
       "  903.436,1039.53 982.074,1039.53 982.074,967.262 903.436,967.262 903.436,1039.53 \n",
       "  \"/>\n",
       "<path clip-path=\"url(#clip672)\" d=\"\n",
       "M1413.65 1337.68 L1401.61 1316.82 L1377.52 1316.82 L1365.47 1337.68 L1377.52 1358.54 L1401.61 1358.54 L1413.65 1337.68 L1413.65 1337.68  Z\n",
       "  \" fill=\"#009af9\" fill-rule=\"evenodd\" fill-opacity=\"1\"/>\n",
       "<polyline clip-path=\"url(#clip672)\" style=\"stroke:#000000; stroke-linecap:round; stroke-linejoin:round; stroke-width:4; stroke-opacity:1; fill:none\" points=\"\n",
       "  1413.65,1337.68 1401.61,1316.82 1377.52,1316.82 1365.47,1337.68 1377.52,1358.54 1401.61,1358.54 1413.65,1337.68 \n",
       "  \"/>\n",
       "<path clip-path=\"url(#clip672)\" d=\"\n",
       "M686.405 526.053 L674.361 505.192 L650.273 505.192 L638.229 526.053 L650.273 546.914 L674.361 546.914 L686.405 526.053 L686.405 526.053  Z\n",
       "  \" fill=\"#009af9\" fill-rule=\"evenodd\" fill-opacity=\"1\"/>\n",
       "<polyline clip-path=\"url(#clip672)\" style=\"stroke:#000000; stroke-linecap:round; stroke-linejoin:round; stroke-width:4; stroke-opacity:1; fill:none\" points=\"\n",
       "  686.405,526.053 674.361,505.192 650.273,505.192 638.229,526.053 650.273,546.914 674.361,546.914 686.405,526.053 \n",
       "  \"/>\n",
       "<path clip-path=\"url(#clip672)\" d=\"\n",
       "M1761.77 763.927 L1749.73 743.066 L1725.64 743.066 L1713.59 763.927 L1725.64 784.788 L1749.73 784.788 L1761.77 763.927 L1761.77 763.927  Z\n",
       "  \" fill=\"#009af9\" fill-rule=\"evenodd\" fill-opacity=\"1\"/>\n",
       "<polyline clip-path=\"url(#clip672)\" style=\"stroke:#000000; stroke-linecap:round; stroke-linejoin:round; stroke-width:4; stroke-opacity:1; fill:none\" points=\"\n",
       "  1761.77,763.927 1749.73,743.066 1725.64,743.066 1713.59,763.927 1725.64,784.788 1749.73,784.788 1761.77,763.927 \n",
       "  \"/>\n",
       "<path clip-path=\"url(#clip672)\" d=\"\n",
       "M1312.29 262.317 L1300.25 241.456 L1276.16 241.456 L1264.12 262.317 L1276.16 283.178 L1300.25 283.178 L1312.29 262.317 L1312.29 262.317  Z\n",
       "  \" fill=\"#009af9\" fill-rule=\"evenodd\" fill-opacity=\"1\"/>\n",
       "<polyline clip-path=\"url(#clip672)\" style=\"stroke:#000000; stroke-linecap:round; stroke-linejoin:round; stroke-width:4; stroke-opacity:1; fill:none\" points=\"\n",
       "  1312.29,262.317 1300.25,241.456 1276.16,241.456 1264.12,262.317 1276.16,283.178 1300.25,283.178 1312.29,262.317 \n",
       "  \"/>\n",
       "<path clip-path=\"url(#clip672)\" d=\"\n",
       "M749.037 1190.65 L736.993 1169.79 L712.905 1169.79 L700.861 1190.65 L712.905 1211.51 L736.993 1211.51 L749.037 1190.65 L749.037 1190.65  Z\n",
       "  \" fill=\"#009af9\" fill-rule=\"evenodd\" fill-opacity=\"1\"/>\n",
       "<polyline clip-path=\"url(#clip672)\" style=\"stroke:#000000; stroke-linecap:round; stroke-linejoin:round; stroke-width:4; stroke-opacity:1; fill:none\" points=\"\n",
       "  749.037,1190.65 736.993,1169.79 712.905,1169.79 700.861,1190.65 712.905,1211.51 736.993,1211.51 749.037,1190.65 \n",
       "  \"/>\n",
       "<path clip-path=\"url(#clip672)\" d=\"\n",
       "M1184.65 816.135 L1172.6 795.274 L1148.52 795.274 L1136.47 816.135 L1148.52 836.996 L1172.6 836.996 L1184.65 816.135 L1184.65 816.135  Z\n",
       "  \" fill=\"#009af9\" fill-rule=\"evenodd\" fill-opacity=\"1\"/>\n",
       "<polyline clip-path=\"url(#clip672)\" style=\"stroke:#000000; stroke-linecap:round; stroke-linejoin:round; stroke-width:4; stroke-opacity:1; fill:none\" points=\"\n",
       "  1184.65,816.135 1172.6,795.274 1148.52,795.274 1136.47,816.135 1148.52,836.996 1172.6,836.996 1184.65,816.135 \n",
       "  \"/>\n",
       "<path clip-path=\"url(#clip672)\" d=\"M1389.56 1338.08 L1389.22 1337.88 L1389.22 1337.48 L1389.56 1337.28 L1389.91 1337.48 L1389.91 1337.88 Z\" fill=\"#009af9\" fill-rule=\"evenodd\" fill-opacity=\"1\" stroke=\"#000000\" stroke-opacity=\"1\" stroke-width=\"3.2\"/>\n",
       "<path clip-path=\"url(#clip672)\" d=\"M662.317 526.453 L661.971 526.253 L661.971 525.853 L662.317 525.653 L662.664 525.853 L662.664 526.253 Z\" fill=\"#009af9\" fill-rule=\"evenodd\" fill-opacity=\"1\" stroke=\"#000000\" stroke-opacity=\"1\" stroke-width=\"3.2\"/>\n",
       "<path clip-path=\"url(#clip672)\" d=\"M1737.68 764.327 L1737.34 764.127 L1737.34 763.727 L1737.68 763.527 L1738.03 763.727 L1738.03 764.127 Z\" fill=\"#009af9\" fill-rule=\"evenodd\" fill-opacity=\"1\" stroke=\"#000000\" stroke-opacity=\"1\" stroke-width=\"3.2\"/>\n",
       "<path clip-path=\"url(#clip672)\" d=\"M1288.2 262.717 L1287.86 262.517 L1287.86 262.117 L1288.2 261.917 L1288.55 262.117 L1288.55 262.517 Z\" fill=\"#009af9\" fill-rule=\"evenodd\" fill-opacity=\"1\" stroke=\"#000000\" stroke-opacity=\"1\" stroke-width=\"3.2\"/>\n",
       "<path clip-path=\"url(#clip672)\" d=\"M724.949 1191.05 L724.603 1190.85 L724.603 1190.45 L724.949 1190.25 L725.295 1190.45 L725.295 1190.85 Z\" fill=\"#009af9\" fill-rule=\"evenodd\" fill-opacity=\"1\" stroke=\"#000000\" stroke-opacity=\"1\" stroke-width=\"3.2\"/>\n",
       "<path clip-path=\"url(#clip672)\" d=\"M1160.56 816.535 L1160.21 816.335 L1160.21 815.935 L1160.56 815.735 L1160.91 815.935 L1160.91 816.335 Z\" fill=\"#009af9\" fill-rule=\"evenodd\" fill-opacity=\"1\" stroke=\"#000000\" stroke-opacity=\"1\" stroke-width=\"3.2\"/>\n",
       "<path clip-path=\"url(#clip670)\" d=\"M1017.45 946.36 L1017.45 942.633 Q1018.99 943.362 1020.57 943.747 Q1022.15 944.132 1023.67 944.132 Q1027.72 944.132 1029.85 941.418 Q1032 938.683 1032.3 933.134 Q1031.12 934.876 1029.32 935.807 Q1027.52 936.739 1025.33 936.739 Q1020.79 936.739 1018.14 934.005 Q1015.51 931.25 1015.51 926.49 Q1015.51 921.832 1018.26 919.016 Q1021.02 916.201 1025.6 916.201 Q1030.84 916.201 1033.6 920.232 Q1036.37 924.242 1036.37 931.898 Q1036.37 939.048 1032.97 943.322 Q1029.59 947.575 1023.85 947.575 Q1022.31 947.575 1020.73 947.271 Q1019.15 946.968 1017.45 946.36 M1025.6 933.539 Q1028.35 933.539 1029.95 931.655 Q1031.57 929.771 1031.57 926.49 Q1031.57 923.229 1029.95 921.346 Q1028.35 919.442 1025.6 919.442 Q1022.84 919.442 1021.22 921.346 Q1019.62 923.229 1019.62 926.49 Q1019.62 929.771 1021.22 931.655 Q1022.84 933.539 1025.6 933.539 Z\" fill=\"#000000\" fill-rule=\"evenodd\" fill-opacity=\"1\" /><path clip-path=\"url(#clip670)\" d=\"M1541.47 1062.48 L1548.16 1062.48 L1548.16 1039.41 L1540.89 1040.87 L1540.89 1037.14 L1548.12 1035.68 L1552.21 1035.68 L1552.21 1062.48 L1558.89 1062.48 L1558.89 1065.92 L1541.47 1065.92 L1541.47 1062.48 Z\" fill=\"#000000\" fill-rule=\"evenodd\" fill-opacity=\"1\" /><path clip-path=\"url(#clip670)\" d=\"M1575.91 1038.38 Q1572.75 1038.38 1571.15 1041.5 Q1569.57 1044.6 1569.57 1050.84 Q1569.57 1057.05 1571.15 1060.17 Q1572.75 1063.27 1575.91 1063.27 Q1579.09 1063.27 1580.67 1060.17 Q1582.27 1057.05 1582.27 1050.84 Q1582.27 1044.6 1580.67 1041.5 Q1579.09 1038.38 1575.91 1038.38 M1575.91 1035.14 Q1580.99 1035.14 1583.66 1039.17 Q1586.36 1043.18 1586.36 1050.84 Q1586.36 1058.47 1583.66 1062.5 Q1580.99 1066.51 1575.91 1066.51 Q1570.82 1066.51 1568.13 1062.5 Q1565.46 1058.47 1565.46 1050.84 Q1565.46 1043.18 1568.13 1039.17 Q1570.82 1035.14 1575.91 1035.14 Z\" fill=\"#000000\" fill-rule=\"evenodd\" fill-opacity=\"1\" /><path clip-path=\"url(#clip670)\" d=\"M1317.17 811.677 L1323.85 811.677 L1323.85 788.607 L1316.58 790.065 L1316.58 786.338 L1323.81 784.88 L1327.91 784.88 L1327.91 811.677 L1334.59 811.677 L1334.59 815.12 L1317.17 815.12 L1317.17 811.677 Z\" fill=\"#000000\" fill-rule=\"evenodd\" fill-opacity=\"1\" /><path clip-path=\"url(#clip670)\" d=\"M1342.89 784.88 L1358.96 784.88 L1358.96 788.323 L1346.64 788.323 L1346.64 795.736 Q1347.53 795.433 1348.42 795.291 Q1349.31 795.129 1350.21 795.129 Q1355.27 795.129 1358.23 797.904 Q1361.18 800.679 1361.18 805.418 Q1361.18 810.299 1358.15 813.014 Q1355.11 815.707 1349.58 815.707 Q1347.67 815.707 1345.69 815.383 Q1343.72 815.059 1341.62 814.411 L1341.62 810.299 Q1343.44 811.292 1345.39 811.778 Q1347.33 812.264 1349.5 812.264 Q1353 812.264 1355.05 810.421 Q1357.09 808.578 1357.09 805.418 Q1357.09 802.258 1355.05 800.415 Q1353 798.572 1349.5 798.572 Q1347.86 798.572 1346.22 798.937 Q1344.6 799.301 1342.89 800.071 L1342.89 784.88 Z\" fill=\"#000000\" fill-rule=\"evenodd\" fill-opacity=\"1\" /><path clip-path=\"url(#clip670)\" d=\"M1057.26 1264.93 Q1054.34 1264.93 1052.66 1266.49 Q1051 1268.05 1051 1270.78 Q1051 1273.52 1052.66 1275.07 Q1054.34 1276.63 1057.26 1276.63 Q1060.17 1276.63 1061.85 1275.07 Q1063.53 1273.49 1063.53 1270.78 Q1063.53 1268.05 1061.85 1266.49 Q1060.19 1264.93 1057.26 1264.93 M1053.16 1263.19 Q1050.53 1262.54 1049.05 1260.73 Q1047.59 1258.93 1047.59 1256.34 Q1047.59 1252.71 1050.17 1250.61 Q1052.76 1248.5 1057.26 1248.5 Q1061.77 1248.5 1064.34 1250.61 Q1066.92 1252.71 1066.92 1256.34 Q1066.92 1258.93 1065.44 1260.73 Q1063.98 1262.54 1061.37 1263.19 Q1064.32 1263.87 1065.96 1265.88 Q1067.63 1267.88 1067.63 1270.78 Q1067.63 1275.18 1064.93 1277.53 Q1062.26 1279.88 1057.26 1279.88 Q1052.25 1279.88 1049.56 1277.53 Q1046.89 1275.18 1046.89 1270.78 Q1046.89 1267.88 1048.55 1265.88 Q1050.21 1263.87 1053.16 1263.19 M1051.67 1256.72 Q1051.67 1259.07 1053.12 1260.39 Q1054.6 1261.71 1057.26 1261.71 Q1059.89 1261.71 1061.37 1260.39 Q1062.87 1259.07 1062.87 1256.72 Q1062.87 1254.37 1061.37 1253.06 Q1059.89 1251.74 1057.26 1251.74 Q1054.6 1251.74 1053.12 1253.06 Q1051.67 1254.37 1051.67 1256.72 Z\" fill=\"#000000\" fill-rule=\"evenodd\" fill-opacity=\"1\" /><path clip-path=\"url(#clip670)\" d=\"M1256.49 1088.59 L1270.77 1088.59 L1270.77 1092.03 L1251.57 1092.03 L1251.57 1088.59 Q1253.9 1086.18 1257.91 1082.12 Q1261.94 1078.05 1262.97 1076.88 Q1264.93 1074.67 1265.7 1073.15 Q1266.49 1071.61 1266.49 1070.13 Q1266.49 1067.72 1264.79 1066.2 Q1263.11 1064.69 1260.4 1064.69 Q1258.47 1064.69 1256.33 1065.35 Q1254.2 1066.02 1251.77 1067.38 L1251.77 1063.25 Q1254.24 1062.25 1256.39 1061.75 Q1258.53 1061.24 1260.32 1061.24 Q1265.02 1061.24 1267.81 1063.59 Q1270.61 1065.94 1270.61 1069.87 Q1270.61 1071.73 1269.9 1073.41 Q1269.21 1075.08 1267.36 1077.34 Q1266.86 1077.93 1264.14 1080.75 Q1261.43 1083.54 1256.49 1088.59 Z\" fill=\"#000000\" fill-rule=\"evenodd\" fill-opacity=\"1\" /><path clip-path=\"url(#clip670)\" d=\"M1288.11 1064.48 Q1284.95 1064.48 1283.35 1067.6 Q1281.77 1070.7 1281.77 1076.94 Q1281.77 1083.16 1283.35 1086.28 Q1284.95 1089.38 1288.11 1089.38 Q1291.29 1089.38 1292.86 1086.28 Q1294.47 1083.16 1294.47 1076.94 Q1294.47 1070.7 1292.86 1067.6 Q1291.29 1064.48 1288.11 1064.48 M1288.11 1061.24 Q1293.19 1061.24 1295.86 1065.27 Q1298.56 1069.28 1298.56 1076.94 Q1298.56 1084.58 1295.86 1088.61 Q1293.19 1092.62 1288.11 1092.62 Q1283.02 1092.62 1280.33 1088.61 Q1277.65 1084.58 1277.65 1076.94 Q1277.65 1069.28 1280.33 1065.27 Q1283.02 1061.24 1288.11 1061.24 Z\" fill=\"#000000\" fill-rule=\"evenodd\" fill-opacity=\"1\" /><path clip-path=\"url(#clip670)\" d=\"M1181.21 656.666 L1195.49 656.666 L1195.49 660.11 L1176.29 660.11 L1176.29 656.666 Q1178.62 654.256 1182.63 650.205 Q1186.66 646.134 1187.7 644.959 Q1189.66 642.752 1190.43 641.233 Q1191.22 639.693 1191.22 638.215 Q1191.22 635.804 1189.52 634.285 Q1187.84 632.766 1185.12 632.766 Q1183.2 632.766 1181.05 633.435 Q1178.93 634.103 1176.49 635.46 L1176.49 631.328 Q1178.97 630.336 1181.11 629.829 Q1183.26 629.323 1185.04 629.323 Q1189.74 629.323 1192.54 631.672 Q1195.33 634.022 1195.33 637.951 Q1195.33 639.815 1194.62 641.496 Q1193.93 643.157 1192.09 645.425 Q1191.58 646.013 1188.87 648.828 Q1186.16 651.623 1181.21 656.666 Z\" fill=\"#000000\" fill-rule=\"evenodd\" fill-opacity=\"1\" /><path clip-path=\"url(#clip670)\" d=\"M1215.32 633.435 L1204.99 649.577 L1215.32 649.577 L1215.32 633.435 M1214.25 629.87 L1219.39 629.87 L1219.39 649.577 L1223.71 649.577 L1223.71 652.98 L1219.39 652.98 L1219.39 660.11 L1215.32 660.11 L1215.32 652.98 L1201.67 652.98 L1201.67 649.031 L1214.25 629.87 Z\" fill=\"#000000\" fill-rule=\"evenodd\" fill-opacity=\"1\" /><path clip-path=\"url(#clip670)\" d=\"M970.582 405.862 L984.862 405.862 L984.862 409.305 L965.66 409.305 L965.66 405.862 Q967.99 403.451 972 399.401 Q976.031 395.329 977.064 394.155 Q979.028 391.947 979.798 390.428 Q980.588 388.888 980.588 387.41 Q980.588 385 978.887 383.48 Q977.206 381.961 974.491 381.961 Q972.567 381.961 970.42 382.63 Q968.294 383.298 965.863 384.655 L965.863 380.523 Q968.334 379.531 970.481 379.024 Q972.628 378.518 974.41 378.518 Q979.109 378.518 981.905 380.868 Q984.7 383.217 984.7 387.147 Q984.7 389.01 983.991 390.691 Q983.302 392.352 981.459 394.62 Q980.953 395.208 978.239 398.023 Q975.524 400.818 970.582 405.862 Z\" fill=\"#000000\" fill-rule=\"evenodd\" fill-opacity=\"1\" /><path clip-path=\"url(#clip670)\" d=\"M696.266 846.798 L685.936 862.94 L696.266 862.94 L696.266 846.798 M695.193 843.233 L700.337 843.233 L700.337 862.94 L704.652 862.94 L704.652 866.343 L700.337 866.343 L700.337 873.473 L696.266 873.473 L696.266 866.343 L682.615 866.343 L682.615 862.394 L695.193 843.233 Z\" fill=\"#000000\" fill-rule=\"evenodd\" fill-opacity=\"1\" /><path clip-path=\"url(#clip670)\" d=\"M889.291 682.771 L895.975 682.771 L895.975 659.701 L888.703 661.159 L888.703 657.432 L895.934 655.974 L900.026 655.974 L900.026 682.771 L906.71 682.771 L906.71 686.214 L889.291 686.214 L889.291 682.771 Z\" fill=\"#000000\" fill-rule=\"evenodd\" fill-opacity=\"1\" /><path clip-path=\"url(#clip670)\" d=\"M923.723 658.668 Q920.564 658.668 918.964 661.787 Q917.384 664.886 917.384 671.124 Q917.384 677.342 918.964 680.462 Q920.564 683.561 923.723 683.561 Q926.903 683.561 928.483 680.462 Q930.083 677.342 930.083 671.124 Q930.083 664.886 928.483 661.787 Q926.903 658.668 923.723 658.668 M923.723 655.427 Q928.807 655.427 931.481 659.458 Q934.175 663.468 934.175 671.124 Q934.175 678.76 931.481 682.791 Q928.807 686.801 923.723 686.801 Q918.64 686.801 915.946 682.791 Q913.272 678.76 913.272 671.124 Q913.272 663.468 915.946 659.458 Q918.64 655.427 923.723 655.427 Z\" fill=\"#000000\" fill-rule=\"evenodd\" fill-opacity=\"1\" /><path clip-path=\"url(#clip670)\" d=\"M1491.23 524.799 L1497.92 524.799 L1497.92 501.729 L1490.64 503.187 L1490.64 499.46 L1497.87 498.002 L1501.97 498.002 L1501.97 524.799 L1508.65 524.799 L1508.65 528.242 L1491.23 528.242 L1491.23 524.799 Z\" fill=\"#000000\" fill-rule=\"evenodd\" fill-opacity=\"1\" /><path clip-path=\"url(#clip670)\" d=\"M1516.95 498.002 L1533.02 498.002 L1533.02 501.445 L1520.7 501.445 L1520.7 508.858 Q1521.59 508.555 1522.48 508.413 Q1523.37 508.251 1524.27 508.251 Q1529.33 508.251 1532.29 511.026 Q1535.24 513.8 1535.24 518.54 Q1535.24 523.421 1532.21 526.135 Q1529.17 528.829 1523.64 528.829 Q1521.73 528.829 1519.75 528.505 Q1517.78 528.181 1515.68 527.533 L1515.68 523.421 Q1517.5 524.414 1519.45 524.9 Q1521.39 525.386 1523.56 525.386 Q1527.06 525.386 1529.11 523.543 Q1531.15 521.7 1531.15 518.54 Q1531.15 515.38 1529.11 513.537 Q1527.06 511.694 1523.56 511.694 Q1521.92 511.694 1520.28 512.059 Q1518.66 512.423 1516.95 513.193 L1516.95 498.002 Z\" fill=\"#000000\" fill-rule=\"evenodd\" fill-opacity=\"1\" /><path clip-path=\"url(#clip670)\" d=\"M1209.87 988.966 L1216.55 988.966 L1216.55 965.897 L1209.28 967.355 L1209.28 963.628 L1216.51 962.17 L1220.6 962.17 L1220.6 988.966 L1227.29 988.966 L1227.29 992.41 L1209.87 992.41 L1209.87 988.966 Z\" fill=\"#000000\" fill-rule=\"evenodd\" fill-opacity=\"1\" /><path clip-path=\"url(#clip670)\" d=\"M1239.07 988.966 L1253.35 988.966 L1253.35 992.41 L1234.15 992.41 L1234.15 988.966 Q1236.48 986.556 1240.49 982.505 Q1244.52 978.434 1245.55 977.259 Q1247.52 975.052 1248.29 973.532 Q1249.08 971.993 1249.08 970.515 Q1249.08 968.104 1247.38 966.585 Q1245.7 965.066 1242.98 965.066 Q1241.06 965.066 1238.91 965.734 Q1236.78 966.403 1234.35 967.76 L1234.35 963.628 Q1236.83 962.636 1238.97 962.129 Q1241.12 961.623 1242.9 961.623 Q1247.6 961.623 1250.4 963.972 Q1253.19 966.322 1253.19 970.251 Q1253.19 972.115 1252.48 973.796 Q1251.79 975.457 1249.95 977.725 Q1249.44 978.313 1246.73 981.128 Q1244.02 983.923 1239.07 988.966 Z\" fill=\"#000000\" fill-rule=\"evenodd\" fill-opacity=\"1\" /><path clip-path=\"url(#clip670)\" d=\"M1439.4 774.911 L1458.84 774.911 L1458.84 776.653 L1447.87 805.151 L1443.59 805.151 L1453.92 778.354 L1439.4 778.354 L1439.4 774.911 Z\" fill=\"#000000\" fill-rule=\"evenodd\" fill-opacity=\"1\" /><path clip-path=\"url(#clip670)\" d=\"M984.358 738.162 L991.042 738.162 L991.042 715.092 L983.77 716.55 L983.77 712.823 L991.001 711.365 L995.093 711.365 L995.093 738.162 L1001.78 738.162 L1001.78 741.605 L984.358 741.605 L984.358 738.162 Z\" fill=\"#000000\" fill-rule=\"evenodd\" fill-opacity=\"1\" /><path clip-path=\"url(#clip670)\" d=\"M1019.3 724.854 Q1016.54 724.854 1014.92 726.738 Q1013.32 728.622 1013.32 731.903 Q1013.32 735.164 1014.92 737.068 Q1016.54 738.952 1019.3 738.952 Q1022.05 738.952 1023.65 737.068 Q1025.27 735.164 1025.27 731.903 Q1025.27 728.622 1023.65 726.738 Q1022.05 724.854 1019.3 724.854 M1027.42 712.033 L1027.42 715.76 Q1025.88 715.031 1024.3 714.646 Q1022.74 714.261 1021.2 714.261 Q1017.15 714.261 1015 716.996 Q1012.88 719.73 1012.57 725.26 Q1013.77 723.497 1015.57 722.566 Q1017.37 721.614 1019.54 721.614 Q1024.1 721.614 1026.73 724.389 Q1029.38 727.143 1029.38 731.903 Q1029.38 736.562 1026.63 739.377 Q1023.87 742.192 1019.3 742.192 Q1014.05 742.192 1011.28 738.182 Q1008.5 734.151 1008.5 726.515 Q1008.5 719.345 1011.9 715.092 Q1015.31 710.818 1021.04 710.818 Q1022.58 710.818 1024.14 711.122 Q1025.72 711.426 1027.42 712.033 Z\" fill=\"#000000\" fill-rule=\"evenodd\" fill-opacity=\"1\" /><path clip-path=\"url(#clip670)\" d=\"M1202.28 550.903 L1208.96 550.903 L1208.96 527.833 L1201.69 529.291 L1201.69 525.564 L1208.92 524.106 L1213.01 524.106 L1213.01 550.903 L1219.69 550.903 L1219.69 554.346 L1202.28 554.346 L1202.28 550.903 Z\" fill=\"#000000\" fill-rule=\"evenodd\" fill-opacity=\"1\" /><path clip-path=\"url(#clip670)\" d=\"M1236.71 539.986 Q1233.79 539.986 1232.11 541.545 Q1230.45 543.105 1230.45 545.839 Q1230.45 548.574 1232.11 550.133 Q1233.79 551.693 1236.71 551.693 Q1239.62 551.693 1241.31 550.133 Q1242.99 548.553 1242.99 545.839 Q1242.99 543.105 1241.31 541.545 Q1239.64 539.986 1236.71 539.986 M1232.62 538.244 Q1229.98 537.596 1228.5 535.793 Q1227.05 533.99 1227.05 531.398 Q1227.05 527.772 1229.62 525.666 Q1232.21 523.559 1236.71 523.559 Q1241.22 523.559 1243.8 525.666 Q1246.37 527.772 1246.37 531.398 Q1246.37 533.99 1244.89 535.793 Q1243.43 537.596 1240.82 538.244 Q1243.78 538.932 1245.42 540.938 Q1247.08 542.943 1247.08 545.839 Q1247.08 550.234 1244.38 552.584 Q1241.71 554.933 1236.71 554.933 Q1231.7 554.933 1229.01 552.584 Q1226.34 550.234 1226.34 545.839 Q1226.34 542.943 1228 540.938 Q1229.66 538.932 1232.62 538.244 M1231.12 531.783 Q1231.12 534.132 1232.58 535.449 Q1234.05 536.765 1236.71 536.765 Q1239.34 536.765 1240.82 535.449 Q1242.32 534.132 1242.32 531.783 Q1242.32 529.433 1240.82 528.116 Q1239.34 526.8 1236.71 526.8 Q1234.05 526.8 1232.58 528.116 Q1231.12 529.433 1231.12 531.783 Z\" fill=\"#000000\" fill-rule=\"evenodd\" fill-opacity=\"1\" /><path clip-path=\"url(#clip670)\" d=\"M924.88 1015.07 L939.16 1015.07 L939.16 1018.51 L919.959 1018.51 L919.959 1015.07 Q922.288 1012.66 926.298 1008.61 Q930.329 1004.54 931.362 1003.36 Q933.326 1001.16 934.096 999.637 Q934.886 998.097 934.886 996.619 Q934.886 994.208 933.185 992.689 Q931.504 991.17 928.789 991.17 Q926.865 991.17 924.718 991.839 Q922.592 992.507 920.161 993.864 L920.161 989.732 Q922.632 988.74 924.779 988.233 Q926.926 987.727 928.708 987.727 Q933.408 987.727 936.203 990.076 Q938.998 992.426 938.998 996.355 Q938.998 998.219 938.289 999.9 Q937.6 1001.56 935.757 1003.83 Q935.251 1004.42 932.537 1007.23 Q929.822 1010.03 924.88 1015.07 Z\" fill=\"#000000\" fill-rule=\"evenodd\" fill-opacity=\"1\" /><path clip-path=\"url(#clip670)\" d=\"M951.272 1015.07 L965.551 1015.07 L965.551 1018.51 L946.35 1018.51 L946.35 1015.07 Q948.679 1012.66 952.69 1008.61 Q956.72 1004.54 957.753 1003.36 Q959.718 1001.16 960.488 999.637 Q961.278 998.097 961.278 996.619 Q961.278 994.208 959.576 992.689 Q957.895 991.17 955.181 991.17 Q953.257 991.17 951.11 991.839 Q948.983 992.507 946.553 993.864 L946.553 989.732 Q949.024 988.74 951.171 988.233 Q953.318 987.727 955.1 987.727 Q959.799 987.727 962.594 990.076 Q965.389 992.426 965.389 996.355 Q965.389 998.219 964.68 999.9 Q963.992 1001.56 962.149 1003.83 Q961.642 1004.42 958.928 1007.23 Q956.214 1010.03 951.272 1015.07 Z\" fill=\"#000000\" fill-rule=\"evenodd\" fill-opacity=\"1\" /><path clip-path=\"url(#clip670)\" d=\"M1389.56 1326.59 L1384.01 1341.64 L1395.13 1341.64 L1389.56 1326.59 M1387.25 1322.56 L1391.89 1322.56 L1403.42 1352.8 L1399.16 1352.8 L1396.41 1345.05 L1382.78 1345.05 L1380.02 1352.8 L1375.71 1352.8 L1387.25 1322.56 Z\" fill=\"#000000\" fill-rule=\"evenodd\" fill-opacity=\"1\" /><path clip-path=\"url(#clip670)\" d=\"M655.684 526.731 L655.684 537.811 L662.246 537.811 Q665.548 537.811 667.128 536.453 Q668.728 535.076 668.728 532.261 Q668.728 529.425 667.128 528.088 Q665.548 526.731 662.246 526.731 L655.684 526.731 M655.684 514.295 L655.684 523.41 L661.74 523.41 Q664.738 523.41 666.196 522.296 Q667.675 521.161 667.675 518.852 Q667.675 516.564 666.196 515.429 Q664.738 514.295 661.74 514.295 L655.684 514.295 M651.592 510.933 L662.044 510.933 Q666.723 510.933 669.254 512.877 Q671.786 514.822 671.786 518.407 Q671.786 521.182 670.49 522.822 Q669.194 524.463 666.682 524.868 Q669.7 525.516 671.361 527.582 Q673.042 529.628 673.042 532.706 Q673.042 536.757 670.287 538.965 Q667.533 541.173 662.449 541.173 L651.592 541.173 L651.592 510.933 Z\" fill=\"#000000\" fill-rule=\"evenodd\" fill-opacity=\"1\" /><path clip-path=\"url(#clip670)\" d=\"M1749.88 751.136 L1749.88 755.45 Q1747.81 753.526 1745.46 752.574 Q1743.13 751.622 1740.5 751.622 Q1735.31 751.622 1732.56 754.802 Q1729.8 757.962 1729.8 763.957 Q1729.8 769.932 1732.56 773.112 Q1735.31 776.272 1740.5 776.272 Q1743.13 776.272 1745.46 775.32 Q1747.81 774.368 1749.88 772.444 L1749.88 776.717 Q1747.73 778.176 1745.32 778.905 Q1742.93 779.634 1740.26 779.634 Q1733.39 779.634 1729.44 775.441 Q1725.49 771.228 1725.49 763.957 Q1725.49 756.665 1729.44 752.473 Q1733.39 748.26 1740.26 748.26 Q1742.97 748.26 1745.36 748.989 Q1747.77 749.698 1749.88 751.136 Z\" fill=\"#000000\" fill-rule=\"evenodd\" fill-opacity=\"1\" /><path clip-path=\"url(#clip670)\" d=\"M1279.59 250.559 L1279.59 274.075 L1284.53 274.075 Q1290.79 274.075 1293.68 271.239 Q1296.6 268.404 1296.6 262.287 Q1296.6 256.21 1293.68 253.395 Q1290.79 250.559 1284.53 250.559 L1279.59 250.559 M1275.5 247.197 L1283.9 247.197 Q1292.69 247.197 1296.8 250.863 Q1300.91 254.509 1300.91 262.287 Q1300.91 270.105 1296.78 273.771 Q1292.65 277.437 1283.9 277.437 L1275.5 277.437 L1275.5 247.197 Z\" fill=\"#000000\" fill-rule=\"evenodd\" fill-opacity=\"1\" /><path clip-path=\"url(#clip670)\" d=\"M715.207 1175.53 L734.327 1175.53 L734.327 1178.98 L719.298 1178.98 L719.298 1187.93 L733.699 1187.93 L733.699 1191.37 L719.298 1191.37 L719.298 1202.33 L734.691 1202.33 L734.691 1205.77 L715.207 1205.77 L715.207 1175.53 Z\" fill=\"#000000\" fill-rule=\"evenodd\" fill-opacity=\"1\" /><path clip-path=\"url(#clip670)\" d=\"M1151.87 801.015 L1169.25 801.015 L1169.25 804.458 L1155.96 804.458 L1155.96 813.37 L1167.95 813.37 L1167.95 816.813 L1155.96 816.813 L1155.96 831.255 L1151.87 831.255 L1151.87 801.015 Z\" fill=\"#000000\" fill-rule=\"evenodd\" fill-opacity=\"1\" /></svg>\n"
      ]
     },
     "execution_count": 45,
     "metadata": {},
     "output_type": "execute_result"
    }
   ],
   "source": [
    "graphplot(g3.graph,names=[\"A\",\"B\",\"C\",\"D\",\"E\",\"F\"],edgelabel = Dict((4, 5) => 16, (1, 2) => 9,\n",
    "  (2, 5) => 4,\n",
    "  (1, 3) => 10,\n",
    "  (1, 4) => 15,\n",
    "  (4, 6) => 18,\n",
    "  (2, 6) => 10,\n",
    "  (3, 4) => 15,\n",
    "  (5, 6) => 22,\n",
    "  (1, 5) => 8,\n",
    "  (1, 6) => 20,\n",
    "  (3, 5) => 12,\n",
    "  (2, 3) => 24,\n",
    "  (2, 4) => 2,\n",
    "  (3, 6) => 7) ,curves=false)"
   ]
  },
  {
   "cell_type": "code",
   "execution_count": 46,
   "id": "5f3a6989-0ac5-4f56-b002-1f332f151ec5",
   "metadata": {},
   "outputs": [
    {
     "data": {
      "image/svg+xml": [
       "<?xml version=\"1.0\" encoding=\"utf-8\"?>\n",
       "<svg xmlns=\"http://www.w3.org/2000/svg\" xmlns:xlink=\"http://www.w3.org/1999/xlink\" width=\"600\" height=\"400\" viewBox=\"0 0 2400 1600\">\n",
       "<defs>\n",
       "  <clipPath id=\"clip700\">\n",
       "    <rect x=\"0\" y=\"0\" width=\"2400\" height=\"1600\"/>\n",
       "  </clipPath>\n",
       "</defs>\n",
       "<path clip-path=\"url(#clip700)\" d=\"\n",
       "M0 1600 L2400 1600 L2400 0 L0 0  Z\n",
       "  \" fill=\"#ffffff\" fill-rule=\"evenodd\" fill-opacity=\"1\"/>\n",
       "<defs>\n",
       "  <clipPath id=\"clip701\">\n",
       "    <rect x=\"480\" y=\"0\" width=\"1681\" height=\"1600\"/>\n",
       "  </clipPath>\n",
       "</defs>\n",
       "<path clip-path=\"url(#clip700)\" d=\"\n",
       "M447.244 1552.76 L1952.76 1552.76 L1952.76 47.2441 L447.244 47.2441  Z\n",
       "  \" fill=\"#ffffff\" fill-rule=\"evenodd\" fill-opacity=\"1\"/>\n",
       "<defs>\n",
       "  <clipPath id=\"clip702\">\n",
       "    <rect x=\"447\" y=\"47\" width=\"1507\" height=\"1507\"/>\n",
       "  </clipPath>\n",
       "</defs>\n",
       "<polyline clip-path=\"url(#clip702)\" style=\"stroke:#000000; stroke-linecap:round; stroke-linejoin:round; stroke-width:4; stroke-opacity:1; fill:none\" points=\"\n",
       "  1511.86,1283.26 888.17,316.768 \n",
       "  \"/>\n",
       "<polyline clip-path=\"url(#clip702)\" style=\"stroke:#000000; stroke-linecap:round; stroke-linejoin:round; stroke-width:4; stroke-opacity:1; fill:none\" points=\"\n",
       "  1511.86,1283.26 662.317,854.445 \n",
       "  \"/>\n",
       "<polyline clip-path=\"url(#clip702)\" style=\"stroke:#000000; stroke-linecap:round; stroke-linejoin:round; stroke-width:4; stroke-opacity:1; fill:none\" points=\"\n",
       "  1511.86,1283.26 974.177,1337.68 \n",
       "  \"/>\n",
       "<polyline clip-path=\"url(#clip702)\" style=\"stroke:#000000; stroke-linecap:round; stroke-linejoin:round; stroke-width:4; stroke-opacity:1; fill:none\" points=\"\n",
       "  1511.86,1283.26 1737.68,745.57 \n",
       "  \"/>\n",
       "<polyline clip-path=\"url(#clip702)\" style=\"stroke:#000000; stroke-linecap:round; stroke-linejoin:round; stroke-width:4; stroke-opacity:1; fill:none\" points=\"\n",
       "  1511.86,1283.26 1425.85,262.317 \n",
       "  \"/>\n",
       "<polyline clip-path=\"url(#clip702)\" style=\"stroke:#000000; stroke-linecap:round; stroke-linejoin:round; stroke-width:4; stroke-opacity:1; fill:none\" points=\"\n",
       "  888.17,316.768 662.317,854.445 \n",
       "  \"/>\n",
       "<polyline clip-path=\"url(#clip702)\" style=\"stroke:#000000; stroke-linecap:round; stroke-linejoin:round; stroke-width:4; stroke-opacity:1; fill:none\" points=\"\n",
       "  888.17,316.768 974.177,1337.68 \n",
       "  \"/>\n",
       "<polyline clip-path=\"url(#clip702)\" style=\"stroke:#000000; stroke-linecap:round; stroke-linejoin:round; stroke-width:4; stroke-opacity:1; fill:none\" points=\"\n",
       "  888.17,316.768 1737.68,745.57 \n",
       "  \"/>\n",
       "<polyline clip-path=\"url(#clip702)\" style=\"stroke:#000000; stroke-linecap:round; stroke-linejoin:round; stroke-width:4; stroke-opacity:1; fill:none\" points=\"\n",
       "  888.17,316.768 1425.85,262.317 \n",
       "  \"/>\n",
       "<polyline clip-path=\"url(#clip702)\" style=\"stroke:#000000; stroke-linecap:round; stroke-linejoin:round; stroke-width:4; stroke-opacity:1; fill:none\" points=\"\n",
       "  662.317,854.445 974.177,1337.68 \n",
       "  \"/>\n",
       "<polyline clip-path=\"url(#clip702)\" style=\"stroke:#000000; stroke-linecap:round; stroke-linejoin:round; stroke-width:4; stroke-opacity:1; fill:none\" points=\"\n",
       "  662.317,854.445 1737.68,745.57 \n",
       "  \"/>\n",
       "<polyline clip-path=\"url(#clip702)\" style=\"stroke:#000000; stroke-linecap:round; stroke-linejoin:round; stroke-width:4; stroke-opacity:1; fill:none\" points=\"\n",
       "  662.317,854.445 1425.85,262.317 \n",
       "  \"/>\n",
       "<polyline clip-path=\"url(#clip702)\" style=\"stroke:#000000; stroke-linecap:round; stroke-linejoin:round; stroke-width:4; stroke-opacity:1; fill:none\" points=\"\n",
       "  974.177,1337.68 1737.68,745.57 \n",
       "  \"/>\n",
       "<polyline clip-path=\"url(#clip702)\" style=\"stroke:#000000; stroke-linecap:round; stroke-linejoin:round; stroke-width:4; stroke-opacity:1; fill:none\" points=\"\n",
       "  974.177,1337.68 1425.85,262.317 \n",
       "  \"/>\n",
       "<polyline clip-path=\"url(#clip702)\" style=\"stroke:#000000; stroke-linecap:round; stroke-linejoin:round; stroke-width:4; stroke-opacity:1; fill:none\" points=\"\n",
       "  1737.68,745.57 1425.85,262.317 \n",
       "  \"/>\n",
       "<path clip-path=\"url(#clip702)\" d=\"\n",
       "M1177.43 836.148 L1222.6 836.148 L1222.6 763.883 L1177.43 763.883 L1177.43 836.148 L1177.43 836.148  Z\n",
       "  \" fill=\"#ffffff\" fill-rule=\"evenodd\" fill-opacity=\"1\"/>\n",
       "<polyline clip-path=\"url(#clip702)\" style=\"stroke:#000000; stroke-linecap:round; stroke-linejoin:round; stroke-width:0; stroke-opacity:0; fill:none\" points=\"\n",
       "  1177.43,836.148 1222.6,836.148 1222.6,763.883 1177.43,763.883 1177.43,836.148 \n",
       "  \"/>\n",
       "<path clip-path=\"url(#clip702)\" d=\"\n",
       "M1047.77 1104.99 L1126.41 1104.99 L1126.41 1032.72 L1047.77 1032.72 L1047.77 1104.99 L1047.77 1104.99  Z\n",
       "  \" fill=\"#ffffff\" fill-rule=\"evenodd\" fill-opacity=\"1\"/>\n",
       "<polyline clip-path=\"url(#clip702)\" style=\"stroke:#000000; stroke-linecap:round; stroke-linejoin:round; stroke-width:0; stroke-opacity:0; fill:none\" points=\"\n",
       "  1047.77,1104.99 1126.41,1104.99 1126.41,1032.72 1047.77,1032.72 1047.77,1104.99 \n",
       "  \"/>\n",
       "<path clip-path=\"url(#clip702)\" d=\"\n",
       "M1203.7 1346.61 L1282.34 1346.61 L1282.34 1274.34 L1203.7 1274.34 L1203.7 1346.61 L1203.7 1346.61  Z\n",
       "  \" fill=\"#ffffff\" fill-rule=\"evenodd\" fill-opacity=\"1\"/>\n",
       "<polyline clip-path=\"url(#clip702)\" style=\"stroke:#000000; stroke-linecap:round; stroke-linejoin:round; stroke-width:0; stroke-opacity:0; fill:none\" points=\"\n",
       "  1203.7,1346.61 1282.34,1346.61 1282.34,1274.34 1203.7,1274.34 1203.7,1346.61 \n",
       "  \"/>\n",
       "<path clip-path=\"url(#clip702)\" d=\"\n",
       "M1602.19 1050.55 L1647.35 1050.55 L1647.35 978.284 L1602.19 978.284 L1602.19 1050.55 L1602.19 1050.55  Z\n",
       "  \" fill=\"#ffffff\" fill-rule=\"evenodd\" fill-opacity=\"1\"/>\n",
       "<polyline clip-path=\"url(#clip702)\" style=\"stroke:#000000; stroke-linecap:round; stroke-linejoin:round; stroke-width:0; stroke-opacity:0; fill:none\" points=\"\n",
       "  1602.19,1050.55 1647.35,1050.55 1647.35,978.284 1602.19,978.284 1602.19,1050.55 \n",
       "  \"/>\n",
       "<path clip-path=\"url(#clip702)\" d=\"\n",
       "M1429.54 808.923 L1508.17 808.923 L1508.17 736.658 L1429.54 736.658 L1429.54 808.923 L1429.54 808.923  Z\n",
       "  \" fill=\"#ffffff\" fill-rule=\"evenodd\" fill-opacity=\"1\"/>\n",
       "<polyline clip-path=\"url(#clip702)\" style=\"stroke:#000000; stroke-linecap:round; stroke-linejoin:round; stroke-width:0; stroke-opacity:0; fill:none\" points=\"\n",
       "  1429.54,808.923 1508.17,808.923 1508.17,736.658 1429.54,736.658 1429.54,808.923 \n",
       "  \"/>\n",
       "<path clip-path=\"url(#clip702)\" d=\"\n",
       "M735.925 621.739 L814.562 621.739 L814.562 549.474 L735.925 549.474 L735.925 621.739 L735.925 621.739  Z\n",
       "  \" fill=\"#ffffff\" fill-rule=\"evenodd\" fill-opacity=\"1\"/>\n",
       "<polyline clip-path=\"url(#clip702)\" style=\"stroke:#000000; stroke-linecap:round; stroke-linejoin:round; stroke-width:0; stroke-opacity:0; fill:none\" points=\"\n",
       "  735.925,621.739 814.562,621.739 814.562,549.474 735.925,549.474 735.925,621.739 \n",
       "  \"/>\n",
       "<path clip-path=\"url(#clip702)\" d=\"\n",
       "M908.591 863.357 L953.756 863.357 L953.756 791.093 L908.591 791.093 L908.591 863.357 L908.591 863.357  Z\n",
       "  \" fill=\"#ffffff\" fill-rule=\"evenodd\" fill-opacity=\"1\"/>\n",
       "<polyline clip-path=\"url(#clip702)\" style=\"stroke:#000000; stroke-linecap:round; stroke-linejoin:round; stroke-width:0; stroke-opacity:0; fill:none\" points=\"\n",
       "  908.591,863.357 953.756,863.357 953.756,791.093 908.591,791.093 908.591,863.357 \n",
       "  \"/>\n",
       "<path clip-path=\"url(#clip702)\" d=\"\n",
       "M1290.34 567.301 L1335.51 567.301 L1335.51 495.037 L1290.34 495.037 L1290.34 567.301 L1290.34 567.301  Z\n",
       "  \" fill=\"#ffffff\" fill-rule=\"evenodd\" fill-opacity=\"1\"/>\n",
       "<polyline clip-path=\"url(#clip702)\" style=\"stroke:#000000; stroke-linecap:round; stroke-linejoin:round; stroke-width:0; stroke-opacity:0; fill:none\" points=\"\n",
       "  1290.34,567.301 1335.51,567.301 1335.51,495.037 1290.34,495.037 1290.34,567.301 \n",
       "  \"/>\n",
       "<path clip-path=\"url(#clip702)\" d=\"\n",
       "M1117.69 325.675 L1196.33 325.675 L1196.33 253.41 L1117.69 253.41 L1117.69 325.675 L1117.69 325.675  Z\n",
       "  \" fill=\"#ffffff\" fill-rule=\"evenodd\" fill-opacity=\"1\"/>\n",
       "<polyline clip-path=\"url(#clip702)\" style=\"stroke:#000000; stroke-linecap:round; stroke-linejoin:round; stroke-width:0; stroke-opacity:0; fill:none\" points=\"\n",
       "  1117.69,325.675 1196.33,325.675 1196.33,253.41 1117.69,253.41 1117.69,325.675 \n",
       "  \"/>\n",
       "<path clip-path=\"url(#clip702)\" d=\"\n",
       "M778.929 1132.2 L857.566 1132.2 L857.566 1059.93 L778.929 1059.93 L778.929 1132.2 L778.929 1132.2  Z\n",
       "  \" fill=\"#ffffff\" fill-rule=\"evenodd\" fill-opacity=\"1\"/>\n",
       "<polyline clip-path=\"url(#clip702)\" style=\"stroke:#000000; stroke-linecap:round; stroke-linejoin:round; stroke-width:0; stroke-opacity:0; fill:none\" points=\"\n",
       "  778.929,1132.2 857.566,1132.2 857.566,1059.93 778.929,1059.93 778.929,1132.2 \n",
       "  \"/>\n",
       "<path clip-path=\"url(#clip702)\" d=\"\n",
       "M1160.68 836.14 L1239.32 836.14 L1239.32 763.875 L1160.68 763.875 L1160.68 836.14 L1160.68 836.14  Z\n",
       "  \" fill=\"#ffffff\" fill-rule=\"evenodd\" fill-opacity=\"1\"/>\n",
       "<polyline clip-path=\"url(#clip702)\" style=\"stroke:#000000; stroke-linecap:round; stroke-linejoin:round; stroke-width:0; stroke-opacity:0; fill:none\" points=\"\n",
       "  1160.68,836.14 1239.32,836.14 1239.32,763.875 1160.68,763.875 1160.68,836.14 \n",
       "  \"/>\n",
       "<path clip-path=\"url(#clip702)\" d=\"\n",
       "M1021.5 594.514 L1066.67 594.514 L1066.67 522.249 L1021.5 522.249 L1021.5 594.514 L1021.5 594.514  Z\n",
       "  \" fill=\"#ffffff\" fill-rule=\"evenodd\" fill-opacity=\"1\"/>\n",
       "<polyline clip-path=\"url(#clip702)\" style=\"stroke:#000000; stroke-linecap:round; stroke-linejoin:round; stroke-width:0; stroke-opacity:0; fill:none\" points=\"\n",
       "  1021.5,594.514 1066.67,594.514 1066.67,522.249 1021.5,522.249 1021.5,594.514 \n",
       "  \"/>\n",
       "<path clip-path=\"url(#clip702)\" d=\"\n",
       "M1316.61 1077.76 L1395.25 1077.76 L1395.25 1005.49 L1316.61 1005.49 L1316.61 1077.76 L1316.61 1077.76  Z\n",
       "  \" fill=\"#ffffff\" fill-rule=\"evenodd\" fill-opacity=\"1\"/>\n",
       "<polyline clip-path=\"url(#clip702)\" style=\"stroke:#000000; stroke-linecap:round; stroke-linejoin:round; stroke-width:0; stroke-opacity:0; fill:none\" points=\"\n",
       "  1316.61,1077.76 1395.25,1077.76 1395.25,1005.49 1316.61,1005.49 1316.61,1077.76 \n",
       "  \"/>\n",
       "<path clip-path=\"url(#clip702)\" d=\"\n",
       "M1160.69 836.132 L1239.33 836.132 L1239.33 763.868 L1160.69 763.868 L1160.69 836.132 L1160.69 836.132  Z\n",
       "  \" fill=\"#ffffff\" fill-rule=\"evenodd\" fill-opacity=\"1\"/>\n",
       "<polyline clip-path=\"url(#clip702)\" style=\"stroke:#000000; stroke-linecap:round; stroke-linejoin:round; stroke-width:0; stroke-opacity:0; fill:none\" points=\"\n",
       "  1160.69,836.132 1239.33,836.132 1239.33,763.868 1160.69,763.868 1160.69,836.132 \n",
       "  \"/>\n",
       "<path clip-path=\"url(#clip702)\" d=\"\n",
       "M1542.45 540.076 L1621.08 540.076 L1621.08 467.811 L1542.45 467.811 L1542.45 540.076 L1542.45 540.076  Z\n",
       "  \" fill=\"#ffffff\" fill-rule=\"evenodd\" fill-opacity=\"1\"/>\n",
       "<polyline clip-path=\"url(#clip702)\" style=\"stroke:#000000; stroke-linecap:round; stroke-linejoin:round; stroke-width:0; stroke-opacity:0; fill:none\" points=\"\n",
       "  1542.45,540.076 1621.08,540.076 1621.08,467.811 1542.45,467.811 1542.45,540.076 \n",
       "  \"/>\n",
       "<path clip-path=\"url(#clip702)\" d=\"\n",
       "M1535.95 1283.26 L1523.9 1262.4 L1499.82 1262.4 L1487.77 1283.26 L1499.82 1304.12 L1523.9 1304.12 L1535.95 1283.26 L1535.95 1283.26  Z\n",
       "  \" fill=\"#009af9\" fill-rule=\"evenodd\" fill-opacity=\"1\"/>\n",
       "<polyline clip-path=\"url(#clip702)\" style=\"stroke:#000000; stroke-linecap:round; stroke-linejoin:round; stroke-width:4; stroke-opacity:1; fill:none\" points=\"\n",
       "  1535.95,1283.26 1523.9,1262.4 1499.82,1262.4 1487.77,1283.26 1499.82,1304.12 1523.9,1304.12 1535.95,1283.26 \n",
       "  \"/>\n",
       "<path clip-path=\"url(#clip702)\" d=\"\n",
       "M912.258 316.768 L900.214 295.907 L876.126 295.907 L864.082 316.768 L876.126 337.629 L900.214 337.629 L912.258 316.768 L912.258 316.768  Z\n",
       "  \" fill=\"#009af9\" fill-rule=\"evenodd\" fill-opacity=\"1\"/>\n",
       "<polyline clip-path=\"url(#clip702)\" style=\"stroke:#000000; stroke-linecap:round; stroke-linejoin:round; stroke-width:4; stroke-opacity:1; fill:none\" points=\"\n",
       "  912.258,316.768 900.214,295.907 876.126,295.907 864.082,316.768 876.126,337.629 900.214,337.629 912.258,316.768 \n",
       "  \"/>\n",
       "<path clip-path=\"url(#clip702)\" d=\"\n",
       "M686.405 854.445 L674.361 833.584 L650.273 833.584 L638.229 854.445 L650.273 875.306 L674.361 875.306 L686.405 854.445 L686.405 854.445  Z\n",
       "  \" fill=\"#009af9\" fill-rule=\"evenodd\" fill-opacity=\"1\"/>\n",
       "<polyline clip-path=\"url(#clip702)\" style=\"stroke:#000000; stroke-linecap:round; stroke-linejoin:round; stroke-width:4; stroke-opacity:1; fill:none\" points=\"\n",
       "  686.405,854.445 674.361,833.584 650.273,833.584 638.229,854.445 650.273,875.306 674.361,875.306 686.405,854.445 \n",
       "  \"/>\n",
       "<path clip-path=\"url(#clip702)\" d=\"\n",
       "M998.266 1337.68 L986.221 1316.82 L962.133 1316.82 L950.089 1337.68 L962.133 1358.54 L986.221 1358.54 L998.266 1337.68 L998.266 1337.68  Z\n",
       "  \" fill=\"#009af9\" fill-rule=\"evenodd\" fill-opacity=\"1\"/>\n",
       "<polyline clip-path=\"url(#clip702)\" style=\"stroke:#000000; stroke-linecap:round; stroke-linejoin:round; stroke-width:4; stroke-opacity:1; fill:none\" points=\"\n",
       "  998.266,1337.68 986.221,1316.82 962.133,1316.82 950.089,1337.68 962.133,1358.54 986.221,1358.54 998.266,1337.68 \n",
       "  \"/>\n",
       "<path clip-path=\"url(#clip702)\" d=\"\n",
       "M1761.77 745.57 L1749.73 724.709 L1725.64 724.709 L1713.59 745.57 L1725.64 766.431 L1749.73 766.431 L1761.77 745.57 L1761.77 745.57  Z\n",
       "  \" fill=\"#009af9\" fill-rule=\"evenodd\" fill-opacity=\"1\"/>\n",
       "<polyline clip-path=\"url(#clip702)\" style=\"stroke:#000000; stroke-linecap:round; stroke-linejoin:round; stroke-width:4; stroke-opacity:1; fill:none\" points=\"\n",
       "  1761.77,745.57 1749.73,724.709 1725.64,724.709 1713.59,745.57 1725.64,766.431 1749.73,766.431 1761.77,745.57 \n",
       "  \"/>\n",
       "<path clip-path=\"url(#clip702)\" d=\"\n",
       "M1449.94 262.317 L1437.89 241.456 L1413.8 241.456 L1401.76 262.317 L1413.8 283.178 L1437.89 283.178 L1449.94 262.317 L1449.94 262.317  Z\n",
       "  \" fill=\"#009af9\" fill-rule=\"evenodd\" fill-opacity=\"1\"/>\n",
       "<polyline clip-path=\"url(#clip702)\" style=\"stroke:#000000; stroke-linecap:round; stroke-linejoin:round; stroke-width:4; stroke-opacity:1; fill:none\" points=\"\n",
       "  1449.94,262.317 1437.89,241.456 1413.8,241.456 1401.76,262.317 1413.8,283.178 1437.89,283.178 1449.94,262.317 \n",
       "  \"/>\n",
       "<path clip-path=\"url(#clip702)\" d=\"M1511.86 1283.66 L1511.51 1283.46 L1511.51 1283.06 L1511.86 1282.86 L1512.21 1283.06 L1512.21 1283.46 Z\" fill=\"#009af9\" fill-rule=\"evenodd\" fill-opacity=\"1\" stroke=\"#000000\" stroke-opacity=\"1\" stroke-width=\"3.2\"/>\n",
       "<path clip-path=\"url(#clip702)\" d=\"M888.17 317.168 L887.823 316.968 L887.823 316.568 L888.17 316.368 L888.516 316.568 L888.516 316.968 Z\" fill=\"#009af9\" fill-rule=\"evenodd\" fill-opacity=\"1\" stroke=\"#000000\" stroke-opacity=\"1\" stroke-width=\"3.2\"/>\n",
       "<path clip-path=\"url(#clip702)\" d=\"M662.317 854.845 L661.971 854.645 L661.971 854.245 L662.317 854.045 L662.664 854.245 L662.664 854.645 Z\" fill=\"#009af9\" fill-rule=\"evenodd\" fill-opacity=\"1\" stroke=\"#000000\" stroke-opacity=\"1\" stroke-width=\"3.2\"/>\n",
       "<path clip-path=\"url(#clip702)\" d=\"M974.177 1338.08 L973.831 1337.88 L973.831 1337.48 L974.177 1337.28 L974.524 1337.48 L974.524 1337.88 Z\" fill=\"#009af9\" fill-rule=\"evenodd\" fill-opacity=\"1\" stroke=\"#000000\" stroke-opacity=\"1\" stroke-width=\"3.2\"/>\n",
       "<path clip-path=\"url(#clip702)\" d=\"M1737.68 745.97 L1737.34 745.77 L1737.34 745.37 L1737.68 745.17 L1738.03 745.37 L1738.03 745.77 Z\" fill=\"#009af9\" fill-rule=\"evenodd\" fill-opacity=\"1\" stroke=\"#000000\" stroke-opacity=\"1\" stroke-width=\"3.2\"/>\n",
       "<path clip-path=\"url(#clip702)\" d=\"M1425.85 262.717 L1425.5 262.517 L1425.5 262.117 L1425.85 261.917 L1426.19 262.117 L1426.19 262.517 Z\" fill=\"#009af9\" fill-rule=\"evenodd\" fill-opacity=\"1\" stroke=\"#000000\" stroke-opacity=\"1\" stroke-width=\"3.2\"/>\n",
       "<path clip-path=\"url(#clip700)\" d=\"M1191.53 814.508 L1191.53 810.781 Q1193.07 811.51 1194.65 811.895 Q1196.23 812.28 1197.75 812.28 Q1201.8 812.28 1203.92 809.565 Q1206.07 806.831 1206.37 801.281 Q1205.2 803.023 1203.4 803.955 Q1201.59 804.887 1199.41 804.887 Q1194.87 804.887 1192.22 802.152 Q1189.58 799.398 1189.58 794.638 Q1189.58 789.979 1192.34 787.164 Q1195.09 784.349 1199.67 784.349 Q1204.92 784.349 1207.67 788.379 Q1210.45 792.39 1210.45 800.046 Q1210.45 807.196 1207.04 811.469 Q1203.66 815.723 1197.93 815.723 Q1196.39 815.723 1194.81 815.419 Q1193.23 815.115 1191.53 814.508 M1199.67 801.686 Q1202.43 801.686 1204.03 799.803 Q1205.65 797.919 1205.65 794.638 Q1205.65 791.377 1204.03 789.493 Q1202.43 787.589 1199.67 787.589 Q1196.92 787.589 1195.3 789.493 Q1193.7 791.377 1193.7 794.638 Q1193.7 797.919 1195.3 799.803 Q1196.92 801.686 1199.67 801.686 Z\" fill=\"#000000\" fill-rule=\"evenodd\" fill-opacity=\"1\" /><path clip-path=\"url(#clip700)\" d=\"M1065.64 1080.53 L1072.32 1080.53 L1072.32 1057.46 L1065.05 1058.92 L1065.05 1055.19 L1072.28 1053.73 L1076.37 1053.73 L1076.37 1080.53 L1083.06 1080.53 L1083.06 1083.97 L1065.64 1083.97 L1065.64 1080.53 Z\" fill=\"#000000\" fill-rule=\"evenodd\" fill-opacity=\"1\" /><path clip-path=\"url(#clip700)\" d=\"M1094.85 1080.53 L1109.13 1080.53 L1109.13 1083.97 L1089.92 1083.97 L1089.92 1080.53 Q1092.25 1078.12 1096.26 1074.07 Q1100.29 1070 1101.33 1068.82 Q1103.29 1066.62 1104.06 1065.1 Q1104.85 1063.56 1104.85 1062.08 Q1104.85 1059.67 1103.15 1058.15 Q1101.47 1056.63 1098.76 1056.63 Q1096.83 1056.63 1094.68 1057.3 Q1092.56 1057.97 1090.13 1059.32 L1090.13 1055.19 Q1092.6 1054.2 1094.74 1053.69 Q1096.89 1053.19 1098.67 1053.19 Q1103.37 1053.19 1106.17 1055.54 Q1108.96 1057.89 1108.96 1061.82 Q1108.96 1063.68 1108.25 1065.36 Q1107.57 1067.02 1105.72 1069.29 Q1105.22 1069.88 1102.5 1072.69 Q1099.79 1075.49 1094.85 1080.53 Z\" fill=\"#000000\" fill-rule=\"evenodd\" fill-opacity=\"1\" /><path clip-path=\"url(#clip700)\" d=\"M1221.31 1322.15 L1227.99 1322.15 L1227.99 1299.08 L1220.72 1300.54 L1220.72 1296.81 L1227.95 1295.35 L1232.04 1295.35 L1232.04 1322.15 L1238.72 1322.15 L1238.72 1325.59 L1221.31 1325.59 L1221.31 1322.15 Z\" fill=\"#000000\" fill-rule=\"evenodd\" fill-opacity=\"1\" /><path clip-path=\"url(#clip700)\" d=\"M1247.03 1295.35 L1263.09 1295.35 L1263.09 1298.8 L1250.78 1298.8 L1250.78 1306.21 Q1251.67 1305.91 1252.56 1305.76 Q1253.45 1305.6 1254.34 1305.6 Q1259.4 1305.6 1262.36 1308.38 Q1265.32 1311.15 1265.32 1315.89 Q1265.32 1320.77 1262.28 1323.49 Q1259.24 1326.18 1253.71 1326.18 Q1251.81 1326.18 1249.82 1325.86 Q1247.86 1325.53 1245.75 1324.88 L1245.75 1320.77 Q1247.58 1321.76 1249.52 1322.25 Q1251.46 1322.74 1253.63 1322.74 Q1257.14 1322.74 1259.18 1320.89 Q1261.23 1319.05 1261.23 1315.89 Q1261.23 1312.73 1259.18 1310.89 Q1257.14 1309.05 1253.63 1309.05 Q1251.99 1309.05 1250.35 1309.41 Q1248.73 1309.77 1247.03 1310.54 L1247.03 1295.35 Z\" fill=\"#000000\" fill-rule=\"evenodd\" fill-opacity=\"1\" /><path clip-path=\"url(#clip700)\" d=\"M1624.77 1015.18 Q1621.85 1015.18 1620.17 1016.74 Q1618.51 1018.3 1618.51 1021.03 Q1618.51 1023.76 1620.17 1025.32 Q1621.85 1026.88 1624.77 1026.88 Q1627.69 1026.88 1629.37 1025.32 Q1631.05 1023.74 1631.05 1021.03 Q1631.05 1018.3 1629.37 1016.74 Q1627.71 1015.18 1624.77 1015.18 M1620.68 1013.43 Q1618.05 1012.79 1616.57 1010.98 Q1615.11 1009.18 1615.11 1006.59 Q1615.11 1002.96 1617.68 1000.86 Q1620.27 998.75 1624.77 998.75 Q1629.29 998.75 1631.86 1000.86 Q1634.43 1002.96 1634.43 1006.59 Q1634.43 1009.18 1632.95 1010.98 Q1631.5 1012.79 1628.88 1013.43 Q1631.84 1014.12 1633.48 1016.13 Q1635.14 1018.13 1635.14 1021.03 Q1635.14 1025.43 1632.45 1027.77 Q1629.77 1030.12 1624.77 1030.12 Q1619.77 1030.12 1617.07 1027.77 Q1614.4 1025.43 1614.4 1021.03 Q1614.4 1018.13 1616.06 1016.13 Q1617.72 1014.12 1620.68 1013.43 M1619.18 1006.97 Q1619.18 1009.32 1620.64 1010.64 Q1622.12 1011.96 1624.77 1011.96 Q1627.4 1011.96 1628.88 1010.64 Q1630.38 1009.32 1630.38 1006.97 Q1630.38 1004.62 1628.88 1003.31 Q1627.4 1001.99 1624.77 1001.99 Q1622.12 1001.99 1620.64 1003.31 Q1619.18 1004.62 1619.18 1006.97 Z\" fill=\"#000000\" fill-rule=\"evenodd\" fill-opacity=\"1\" /><path clip-path=\"url(#clip700)\" d=\"M1450.28 784.467 L1464.56 784.467 L1464.56 787.91 L1445.36 787.91 L1445.36 784.467 Q1447.69 782.057 1451.7 778.006 Q1455.73 773.935 1456.76 772.76 Q1458.73 770.552 1459.5 769.033 Q1460.29 767.494 1460.29 766.015 Q1460.29 763.605 1458.58 762.086 Q1456.9 760.567 1454.19 760.567 Q1452.27 760.567 1450.12 761.235 Q1447.99 761.903 1445.56 763.26 L1445.56 759.129 Q1448.03 758.136 1450.18 757.63 Q1452.33 757.123 1454.11 757.123 Q1458.81 757.123 1461.6 759.473 Q1464.4 761.822 1464.4 765.752 Q1464.4 767.615 1463.69 769.296 Q1463 770.957 1461.16 773.226 Q1460.65 773.813 1457.94 776.628 Q1455.22 779.424 1450.28 784.467 Z\" fill=\"#000000\" fill-rule=\"evenodd\" fill-opacity=\"1\" /><path clip-path=\"url(#clip700)\" d=\"M1481.9 760.364 Q1478.74 760.364 1477.14 763.483 Q1475.56 766.582 1475.56 772.821 Q1475.56 779.039 1477.14 782.158 Q1478.74 785.257 1481.9 785.257 Q1485.08 785.257 1486.66 782.158 Q1488.26 779.039 1488.26 772.821 Q1488.26 766.582 1486.66 763.483 Q1485.08 760.364 1481.9 760.364 M1481.9 757.123 Q1486.98 757.123 1489.66 761.154 Q1492.35 765.164 1492.35 772.821 Q1492.35 780.457 1489.66 784.487 Q1486.98 788.498 1481.9 788.498 Q1476.81 788.498 1474.12 784.487 Q1471.45 780.457 1471.45 772.821 Q1471.45 765.164 1474.12 761.154 Q1476.81 757.123 1481.9 757.123 Z\" fill=\"#000000\" fill-rule=\"evenodd\" fill-opacity=\"1\" /><path clip-path=\"url(#clip700)\" d=\"M756.457 597.283 L770.737 597.283 L770.737 600.726 L751.536 600.726 L751.536 597.283 Q753.865 594.873 757.875 590.822 Q761.906 586.751 762.939 585.576 Q764.904 583.368 765.673 581.849 Q766.463 580.31 766.463 578.831 Q766.463 576.421 764.762 574.902 Q763.081 573.383 760.367 573.383 Q758.442 573.383 756.295 574.051 Q754.169 574.72 751.738 576.077 L751.738 571.945 Q754.209 570.952 756.356 570.446 Q758.503 569.94 760.286 569.94 Q764.985 569.94 767.78 572.289 Q770.575 574.639 770.575 578.568 Q770.575 580.431 769.866 582.113 Q769.177 583.773 767.334 586.042 Q766.828 586.629 764.114 589.445 Q761.4 592.24 756.457 597.283 Z\" fill=\"#000000\" fill-rule=\"evenodd\" fill-opacity=\"1\" /><path clip-path=\"url(#clip700)\" d=\"M790.566 574.051 L780.236 590.194 L790.566 590.194 L790.566 574.051 M789.493 570.486 L794.637 570.486 L794.637 590.194 L798.951 590.194 L798.951 593.597 L794.637 593.597 L794.637 600.726 L790.566 600.726 L790.566 593.597 L776.915 593.597 L776.915 589.647 L789.493 570.486 Z\" fill=\"#000000\" fill-rule=\"evenodd\" fill-opacity=\"1\" /><path clip-path=\"url(#clip700)\" d=\"M926.495 838.902 L940.774 838.902 L940.774 842.345 L921.573 842.345 L921.573 838.902 Q923.902 836.492 927.913 832.441 Q931.943 828.37 932.976 827.195 Q934.941 824.987 935.711 823.468 Q936.501 821.929 936.501 820.45 Q936.501 818.04 934.799 816.521 Q933.118 815.002 930.404 815.002 Q928.48 815.002 926.333 815.67 Q924.206 816.338 921.776 817.695 L921.776 813.564 Q924.247 812.571 926.394 812.065 Q928.541 811.558 930.323 811.558 Q935.022 811.558 937.817 813.908 Q940.612 816.257 940.612 820.187 Q940.612 822.05 939.903 823.731 Q939.215 825.392 937.371 827.661 Q936.865 828.248 934.151 831.063 Q931.437 833.859 926.495 838.902 Z\" fill=\"#000000\" fill-rule=\"evenodd\" fill-opacity=\"1\" /><path clip-path=\"url(#clip700)\" d=\"M1315.56 519.614 L1305.23 535.757 L1315.56 535.757 L1315.56 519.614 M1314.49 516.049 L1319.63 516.049 L1319.63 535.757 L1323.94 535.757 L1323.94 539.159 L1319.63 539.159 L1319.63 546.289 L1315.56 546.289 L1315.56 539.159 L1301.91 539.159 L1301.91 535.21 L1314.49 516.049 Z\" fill=\"#000000\" fill-rule=\"evenodd\" fill-opacity=\"1\" /><path clip-path=\"url(#clip700)\" d=\"M1134.86 301.219 L1141.54 301.219 L1141.54 278.149 L1134.27 279.608 L1134.27 275.881 L1141.5 274.422 L1145.6 274.422 L1145.6 301.219 L1152.28 301.219 L1152.28 304.662 L1134.86 304.662 L1134.86 301.219 Z\" fill=\"#000000\" fill-rule=\"evenodd\" fill-opacity=\"1\" /><path clip-path=\"url(#clip700)\" d=\"M1169.29 277.116 Q1166.13 277.116 1164.53 280.235 Q1162.95 283.334 1162.95 289.573 Q1162.95 295.791 1164.53 298.91 Q1166.13 302.009 1169.29 302.009 Q1172.47 302.009 1174.05 298.91 Q1175.65 295.791 1175.65 289.573 Q1175.65 283.334 1174.05 280.235 Q1172.47 277.116 1169.29 277.116 M1169.29 273.876 Q1174.38 273.876 1177.05 277.906 Q1179.74 281.917 1179.74 289.573 Q1179.74 297.209 1177.05 301.239 Q1174.38 305.25 1169.29 305.25 Q1164.21 305.25 1161.52 301.239 Q1158.84 297.209 1158.84 289.573 Q1158.84 281.917 1161.52 277.906 Q1164.21 273.876 1169.29 273.876 Z\" fill=\"#000000\" fill-rule=\"evenodd\" fill-opacity=\"1\" /><path clip-path=\"url(#clip700)\" d=\"M796.534 1107.74 L803.218 1107.74 L803.218 1084.67 L795.947 1086.13 L795.947 1082.4 L803.178 1080.94 L807.269 1080.94 L807.269 1107.74 L813.953 1107.74 L813.953 1111.18 L796.534 1111.18 L796.534 1107.74 Z\" fill=\"#000000\" fill-rule=\"evenodd\" fill-opacity=\"1\" /><path clip-path=\"url(#clip700)\" d=\"M822.258 1080.94 L838.32 1080.94 L838.32 1084.39 L826.005 1084.39 L826.005 1091.8 Q826.896 1091.5 827.787 1091.35 Q828.678 1091.19 829.57 1091.19 Q834.633 1091.19 837.59 1093.97 Q840.548 1096.74 840.548 1101.48 Q840.548 1106.36 837.509 1109.08 Q834.471 1111.77 828.942 1111.77 Q827.038 1111.77 825.053 1111.45 Q823.088 1111.12 820.982 1110.48 L820.982 1106.36 Q822.805 1107.36 824.749 1107.84 Q826.693 1108.33 828.861 1108.33 Q832.365 1108.33 834.41 1106.49 Q836.456 1104.64 836.456 1101.48 Q836.456 1098.32 834.41 1096.48 Q832.365 1094.64 828.861 1094.64 Q827.22 1094.64 825.579 1095 Q823.959 1095.37 822.258 1096.13 L822.258 1080.94 Z\" fill=\"#000000\" fill-rule=\"evenodd\" fill-opacity=\"1\" /><path clip-path=\"url(#clip700)\" d=\"M1178.55 811.685 L1185.23 811.685 L1185.23 788.615 L1177.96 790.073 L1177.96 786.346 L1185.19 784.888 L1189.29 784.888 L1189.29 811.685 L1195.97 811.685 L1195.97 815.128 L1178.55 815.128 L1178.55 811.685 Z\" fill=\"#000000\" fill-rule=\"evenodd\" fill-opacity=\"1\" /><path clip-path=\"url(#clip700)\" d=\"M1207.76 811.685 L1222.04 811.685 L1222.04 815.128 L1202.84 815.128 L1202.84 811.685 Q1205.16 809.274 1209.18 805.223 Q1213.21 801.152 1214.24 799.977 Q1216.2 797.77 1216.97 796.251 Q1217.76 794.711 1217.76 793.233 Q1217.76 790.822 1216.06 789.303 Q1214.38 787.784 1211.67 787.784 Q1209.74 787.784 1207.6 788.453 Q1205.47 789.121 1203.04 790.478 L1203.04 786.346 Q1205.51 785.354 1207.66 784.847 Q1209.8 784.341 1211.59 784.341 Q1216.28 784.341 1219.08 786.69 Q1221.87 789.04 1221.87 792.969 Q1221.87 794.833 1221.17 796.514 Q1220.48 798.175 1218.63 800.443 Q1218.13 801.031 1215.41 803.846 Q1212.7 806.641 1207.76 811.685 Z\" fill=\"#000000\" fill-rule=\"evenodd\" fill-opacity=\"1\" /><path clip-path=\"url(#clip700)\" d=\"M1034.36 543.261 L1053.8 543.261 L1053.8 545.003 L1042.83 573.501 L1038.55 573.501 L1048.88 546.705 L1034.36 546.705 L1034.36 543.261 Z\" fill=\"#000000\" fill-rule=\"evenodd\" fill-opacity=\"1\" /><path clip-path=\"url(#clip700)\" d=\"M1333.71 1053.3 L1340.39 1053.3 L1340.39 1030.23 L1333.12 1031.69 L1333.12 1027.96 L1340.35 1026.51 L1344.45 1026.51 L1344.45 1053.3 L1351.13 1053.3 L1351.13 1056.75 L1333.71 1056.75 L1333.71 1053.3 Z\" fill=\"#000000\" fill-rule=\"evenodd\" fill-opacity=\"1\" /><path clip-path=\"url(#clip700)\" d=\"M1368.65 1040 Q1365.9 1040 1364.27 1041.88 Q1362.67 1043.76 1362.67 1047.04 Q1362.67 1050.31 1364.27 1052.21 Q1365.9 1054.09 1368.65 1054.09 Q1371.4 1054.09 1373 1052.21 Q1374.62 1050.31 1374.62 1047.04 Q1374.62 1043.76 1373 1041.88 Q1371.4 1040 1368.65 1040 M1376.77 1027.17 L1376.77 1030.9 Q1375.23 1030.17 1373.65 1029.79 Q1372.09 1029.4 1370.55 1029.4 Q1366.5 1029.4 1364.36 1032.14 Q1362.23 1034.87 1361.93 1040.4 Q1363.12 1038.64 1364.92 1037.71 Q1366.73 1036.76 1368.89 1036.76 Q1373.45 1036.76 1376.08 1039.53 Q1378.74 1042.28 1378.74 1047.04 Q1378.74 1051.7 1375.98 1054.52 Q1373.23 1057.33 1368.65 1057.33 Q1363.4 1057.33 1360.63 1053.32 Q1357.85 1049.29 1357.85 1041.66 Q1357.85 1034.49 1361.26 1030.23 Q1364.66 1025.96 1370.39 1025.96 Q1371.93 1025.96 1373.49 1026.26 Q1375.07 1026.57 1376.77 1027.17 Z\" fill=\"#000000\" fill-rule=\"evenodd\" fill-opacity=\"1\" /><path clip-path=\"url(#clip700)\" d=\"M1177.9 811.677 L1184.59 811.677 L1184.59 788.607 L1177.32 790.065 L1177.32 786.338 L1184.55 784.88 L1188.64 784.88 L1188.64 811.677 L1195.32 811.677 L1195.32 815.12 L1177.9 815.12 L1177.9 811.677 Z\" fill=\"#000000\" fill-rule=\"evenodd\" fill-opacity=\"1\" /><path clip-path=\"url(#clip700)\" d=\"M1212.34 800.76 Q1209.42 800.76 1207.74 802.319 Q1206.08 803.879 1206.08 806.613 Q1206.08 809.347 1207.74 810.907 Q1209.42 812.467 1212.34 812.467 Q1215.25 812.467 1216.94 810.907 Q1218.62 809.327 1218.62 806.613 Q1218.62 803.879 1216.94 802.319 Q1215.27 800.76 1212.34 800.76 M1208.25 799.018 Q1205.61 798.37 1204.13 796.567 Q1202.68 794.764 1202.68 792.172 Q1202.68 788.546 1205.25 786.44 Q1207.84 784.333 1212.34 784.333 Q1216.85 784.333 1219.43 786.44 Q1222 788.546 1222 792.172 Q1222 794.764 1220.52 796.567 Q1219.06 798.37 1216.45 799.018 Q1219.41 799.706 1221.05 801.712 Q1222.71 803.717 1222.71 806.613 Q1222.71 811.008 1220.01 813.358 Q1217.34 815.707 1212.34 815.707 Q1207.33 815.707 1204.64 813.358 Q1201.97 811.008 1201.97 806.613 Q1201.97 803.717 1203.63 801.712 Q1205.29 799.706 1208.25 799.018 M1206.75 792.556 Q1206.75 794.906 1208.21 796.223 Q1209.68 797.539 1212.34 797.539 Q1214.97 797.539 1216.45 796.223 Q1217.95 794.906 1217.95 792.556 Q1217.95 790.207 1216.45 788.89 Q1214.97 787.574 1212.34 787.574 Q1209.68 787.574 1208.21 788.89 Q1206.75 790.207 1206.75 792.556 Z\" fill=\"#000000\" fill-rule=\"evenodd\" fill-opacity=\"1\" /><path clip-path=\"url(#clip700)\" d=\"M1563.89 515.62 L1578.17 515.62 L1578.17 519.064 L1558.97 519.064 L1558.97 515.62 Q1561.3 513.21 1565.31 509.159 Q1569.34 505.088 1570.37 503.913 Q1572.34 501.706 1573.11 500.186 Q1573.9 498.647 1573.9 497.169 Q1573.9 494.758 1572.19 493.239 Q1570.51 491.72 1567.8 491.72 Q1565.88 491.72 1563.73 492.388 Q1561.6 493.057 1559.17 494.414 L1559.17 490.282 Q1561.64 489.29 1563.79 488.783 Q1565.94 488.277 1567.72 488.277 Q1572.42 488.277 1575.21 490.626 Q1578.01 492.976 1578.01 496.905 Q1578.01 498.769 1577.3 500.45 Q1576.61 502.111 1574.77 504.379 Q1574.26 504.967 1571.55 507.782 Q1568.83 510.577 1563.89 515.62 Z\" fill=\"#000000\" fill-rule=\"evenodd\" fill-opacity=\"1\" /><path clip-path=\"url(#clip700)\" d=\"M1590.28 515.62 L1604.56 515.62 L1604.56 519.064 L1585.36 519.064 L1585.36 515.62 Q1587.69 513.21 1591.7 509.159 Q1595.73 505.088 1596.76 503.913 Q1598.73 501.706 1599.5 500.186 Q1600.29 498.647 1600.29 497.169 Q1600.29 494.758 1598.59 493.239 Q1596.91 491.72 1594.19 491.72 Q1592.27 491.72 1590.12 492.388 Q1587.99 493.057 1585.56 494.414 L1585.56 490.282 Q1588.03 489.29 1590.18 488.783 Q1592.33 488.277 1594.11 488.277 Q1598.81 488.277 1601.6 490.626 Q1604.4 492.976 1604.4 496.905 Q1604.4 498.769 1603.69 500.45 Q1603 502.111 1601.16 504.379 Q1600.65 504.967 1597.94 507.782 Q1595.22 510.577 1590.28 515.62 Z\" fill=\"#000000\" fill-rule=\"evenodd\" fill-opacity=\"1\" /><path clip-path=\"url(#clip700)\" d=\"M1511.86 1272.17 L1506.31 1287.22 L1517.43 1287.22 L1511.86 1272.17 M1509.55 1268.14 L1514.19 1268.14 L1525.71 1298.38 L1521.46 1298.38 L1518.71 1290.63 L1505.07 1290.63 L1502.32 1298.38 L1498.01 1298.38 L1509.55 1268.14 Z\" fill=\"#000000\" fill-rule=\"evenodd\" fill-opacity=\"1\" /><path clip-path=\"url(#clip700)\" d=\"M881.536 317.446 L881.536 328.525 L888.099 328.525 Q891.4 328.525 892.98 327.168 Q894.58 325.791 894.58 322.976 Q894.58 320.14 892.98 318.803 Q891.4 317.446 888.099 317.446 L881.536 317.446 M881.536 305.01 L881.536 314.124 L887.593 314.124 Q890.59 314.124 892.049 313.01 Q893.527 311.876 893.527 309.567 Q893.527 307.278 892.049 306.144 Q890.59 305.01 887.593 305.01 L881.536 305.01 M877.445 301.648 L887.896 301.648 Q892.575 301.648 895.107 303.592 Q897.639 305.536 897.639 309.122 Q897.639 311.896 896.343 313.537 Q895.046 315.178 892.535 315.583 Q895.553 316.231 897.213 318.297 Q898.895 320.343 898.895 323.421 Q898.895 327.472 896.14 329.68 Q893.385 331.888 888.301 331.888 L877.445 331.888 L877.445 301.648 Z\" fill=\"#000000\" fill-rule=\"evenodd\" fill-opacity=\"1\" /><path clip-path=\"url(#clip700)\" d=\"M674.51 841.655 L674.51 845.969 Q672.444 844.045 670.095 843.093 Q667.766 842.141 665.133 842.141 Q659.947 842.141 657.193 845.321 Q654.438 848.48 654.438 854.476 Q654.438 860.451 657.193 863.631 Q659.947 866.79 665.133 866.79 Q667.766 866.79 670.095 865.839 Q672.444 864.887 674.51 862.962 L674.51 867.236 Q672.363 868.694 669.953 869.424 Q667.563 870.153 664.89 870.153 Q658.023 870.153 654.074 865.96 Q650.124 861.747 650.124 854.476 Q650.124 847.184 654.074 842.991 Q658.023 838.778 664.89 838.778 Q667.604 838.778 669.994 839.508 Q672.404 840.217 674.51 841.655 Z\" fill=\"#000000\" fill-rule=\"evenodd\" fill-opacity=\"1\" /><path clip-path=\"url(#clip700)\" d=\"M965.559 1325.93 L965.559 1349.44 L970.501 1349.44 Q976.76 1349.44 979.656 1346.6 Q982.573 1343.77 982.573 1337.65 Q982.573 1331.58 979.656 1328.76 Q976.76 1325.93 970.501 1325.93 L965.559 1325.93 M961.468 1322.56 L969.873 1322.56 Q978.664 1322.56 982.775 1326.23 Q986.887 1329.87 986.887 1337.65 Q986.887 1345.47 982.755 1349.14 Q978.623 1352.8 969.873 1352.8 L961.468 1352.8 L961.468 1322.56 Z\" fill=\"#000000\" fill-rule=\"evenodd\" fill-opacity=\"1\" /><path clip-path=\"url(#clip700)\" d=\"M1727.94 730.45 L1747.06 730.45 L1747.06 733.893 L1732.03 733.893 L1732.03 742.846 L1746.43 742.846 L1746.43 746.289 L1732.03 746.289 L1732.03 757.247 L1747.43 757.247 L1747.43 760.69 L1727.94 760.69 L1727.94 730.45 Z\" fill=\"#000000\" fill-rule=\"evenodd\" fill-opacity=\"1\" /><path clip-path=\"url(#clip700)\" d=\"M1417.16 247.197 L1434.54 247.197 L1434.54 250.64 L1421.25 250.64 L1421.25 259.552 L1433.24 259.552 L1433.24 262.996 L1421.25 262.996 L1421.25 277.437 L1417.16 277.437 L1417.16 247.197 Z\" fill=\"#000000\" fill-rule=\"evenodd\" fill-opacity=\"1\" /></svg>\n"
      ]
     },
     "execution_count": 46,
     "metadata": {},
     "output_type": "execute_result"
    }
   ],
   "source": [
    "graphplot(g3.graph,names=names,edgelabel=edgelabel,curves=false)"
   ]
  },
  {
   "cell_type": "code",
   "execution_count": 47,
   "id": "bee75355-262d-4769-9507-ae89fa9b6aba",
   "metadata": {},
   "outputs": [
    {
     "data": {
      "text/plain": [
       "Dict{Tuple{Int64, Int64}, Int64} with 7 entries:\n",
       "  (4, 5) => 7\n",
       "  (1, 2) => 3\n",
       "  (1, 3) => 7\n",
       "  (6, 1) => 5\n",
       "  (3, 4) => 7\n",
       "  (5, 6) => 7\n",
       "  (2, 3) => 5"
      ]
     },
     "execution_count": 47,
     "metadata": {},
     "output_type": "execute_result"
    }
   ],
   "source": [
    "edgelabel3 = Dict((1,2)=>3,(2,3)=>5,(1,3) => 7,(3,4) => 7,(4,5) => 7,(5,6) => 7,(6,1) => 5)"
   ]
  },
  {
   "cell_type": "code",
   "execution_count": 48,
   "id": "9116d8c1-30dd-4898-9a0e-67f6c97ac38d",
   "metadata": {},
   "outputs": [
    {
     "data": {
      "text/plain": [
       "7"
      ]
     },
     "execution_count": 48,
     "metadata": {},
     "output_type": "execute_result"
    }
   ],
   "source": [
    "edgelabel3[(4,5)]"
   ]
  },
  {
   "cell_type": "code",
   "execution_count": 49,
   "id": "873f9b83-4bee-4ec9-994f-8f74f9421121",
   "metadata": {},
   "outputs": [
    {
     "data": {
      "text/plain": [
       "Int64"
      ]
     },
     "execution_count": 49,
     "metadata": {},
     "output_type": "execute_result"
    }
   ],
   "source": [
    "typeof(edgelabel3[(4,5)])"
   ]
  },
  {
   "cell_type": "code",
   "execution_count": 50,
   "id": "0318aa4e-c270-4923-a001-4dff656ce955",
   "metadata": {},
   "outputs": [
    {
     "data": {
      "text/plain": [
       "Tuple{Int64, Int64}"
      ]
     },
     "execution_count": 50,
     "metadata": {},
     "output_type": "execute_result"
    }
   ],
   "source": [
    "typeof((4,5))"
   ]
  },
  {
   "cell_type": "code",
   "execution_count": 51,
   "id": "4f84fbe2-0704-411d-88fa-12a84b746e2f",
   "metadata": {},
   "outputs": [
    {
     "data": {
      "image/svg+xml": [
       "<?xml version=\"1.0\" encoding=\"utf-8\"?>\n",
       "<svg xmlns=\"http://www.w3.org/2000/svg\" xmlns:xlink=\"http://www.w3.org/1999/xlink\" width=\"600\" height=\"400\" viewBox=\"0 0 2400 1600\">\n",
       "<defs>\n",
       "  <clipPath id=\"clip730\">\n",
       "    <rect x=\"0\" y=\"0\" width=\"2400\" height=\"1600\"/>\n",
       "  </clipPath>\n",
       "</defs>\n",
       "<path clip-path=\"url(#clip730)\" d=\"\n",
       "M0 1600 L2400 1600 L2400 0 L0 0  Z\n",
       "  \" fill=\"#ffffff\" fill-rule=\"evenodd\" fill-opacity=\"1\"/>\n",
       "<defs>\n",
       "  <clipPath id=\"clip731\">\n",
       "    <rect x=\"480\" y=\"0\" width=\"1681\" height=\"1600\"/>\n",
       "  </clipPath>\n",
       "</defs>\n",
       "<path clip-path=\"url(#clip730)\" d=\"\n",
       "M447.244 1552.76 L1952.76 1552.76 L1952.76 47.2441 L447.244 47.2441  Z\n",
       "  \" fill=\"#ffffff\" fill-rule=\"evenodd\" fill-opacity=\"1\"/>\n",
       "<defs>\n",
       "  <clipPath id=\"clip732\">\n",
       "    <rect x=\"447\" y=\"47\" width=\"1507\" height=\"1507\"/>\n",
       "  </clipPath>\n",
       "</defs>\n",
       "<polyline clip-path=\"url(#clip732)\" style=\"stroke:#000000; stroke-linecap:round; stroke-linejoin:round; stroke-width:4; stroke-opacity:1; fill:none\" points=\"\n",
       "  1405.26,1337.68 1737.68,754.55 \n",
       "  \"/>\n",
       "<polyline clip-path=\"url(#clip732)\" style=\"stroke:#000000; stroke-linecap:round; stroke-linejoin:round; stroke-width:4; stroke-opacity:1; fill:none\" points=\"\n",
       "  1405.26,1337.68 1278.52,262.317 \n",
       "  \"/>\n",
       "<polyline clip-path=\"url(#clip732)\" style=\"stroke:#000000; stroke-linecap:round; stroke-linejoin:round; stroke-width:4; stroke-opacity:1; fill:none\" points=\"\n",
       "  1405.26,1337.68 1164.88,820.332 \n",
       "  \"/>\n",
       "<polyline clip-path=\"url(#clip732)\" style=\"stroke:#000000; stroke-linecap:round; stroke-linejoin:round; stroke-width:4; stroke-opacity:1; fill:none\" points=\"\n",
       "  1405.26,1337.68 662.317,541.216 \n",
       "  \"/>\n",
       "<polyline clip-path=\"url(#clip732)\" style=\"stroke:#000000; stroke-linecap:round; stroke-linejoin:round; stroke-width:4; stroke-opacity:1; fill:none\" points=\"\n",
       "  1405.26,1337.68 740.641,1205.83 \n",
       "  \"/>\n",
       "<polyline clip-path=\"url(#clip732)\" style=\"stroke:#000000; stroke-linecap:round; stroke-linejoin:round; stroke-width:4; stroke-opacity:1; fill:none\" points=\"\n",
       "  1737.68,754.55 1278.52,262.317 \n",
       "  \"/>\n",
       "<polyline clip-path=\"url(#clip732)\" style=\"stroke:#000000; stroke-linecap:round; stroke-linejoin:round; stroke-width:4; stroke-opacity:1; fill:none\" points=\"\n",
       "  1737.68,754.55 1164.88,820.332 \n",
       "  \"/>\n",
       "<polyline clip-path=\"url(#clip732)\" style=\"stroke:#000000; stroke-linecap:round; stroke-linejoin:round; stroke-width:4; stroke-opacity:1; fill:none\" points=\"\n",
       "  1737.68,754.55 662.317,541.216 \n",
       "  \"/>\n",
       "<polyline clip-path=\"url(#clip732)\" style=\"stroke:#000000; stroke-linecap:round; stroke-linejoin:round; stroke-width:4; stroke-opacity:1; fill:none\" points=\"\n",
       "  1737.68,754.55 740.641,1205.83 \n",
       "  \"/>\n",
       "<polyline clip-path=\"url(#clip732)\" style=\"stroke:#000000; stroke-linecap:round; stroke-linejoin:round; stroke-width:4; stroke-opacity:1; fill:none\" points=\"\n",
       "  1278.52,262.317 1164.88,820.332 \n",
       "  \"/>\n",
       "<polyline clip-path=\"url(#clip732)\" style=\"stroke:#000000; stroke-linecap:round; stroke-linejoin:round; stroke-width:4; stroke-opacity:1; fill:none\" points=\"\n",
       "  1278.52,262.317 662.317,541.216 \n",
       "  \"/>\n",
       "<polyline clip-path=\"url(#clip732)\" style=\"stroke:#000000; stroke-linecap:round; stroke-linejoin:round; stroke-width:4; stroke-opacity:1; fill:none\" points=\"\n",
       "  1278.52,262.317 740.641,1205.83 \n",
       "  \"/>\n",
       "<polyline clip-path=\"url(#clip732)\" style=\"stroke:#000000; stroke-linecap:round; stroke-linejoin:round; stroke-width:4; stroke-opacity:1; fill:none\" points=\"\n",
       "  1164.88,820.332 662.317,541.216 \n",
       "  \"/>\n",
       "<polyline clip-path=\"url(#clip732)\" style=\"stroke:#000000; stroke-linecap:round; stroke-linejoin:round; stroke-width:4; stroke-opacity:1; fill:none\" points=\"\n",
       "  1164.88,820.332 740.641,1205.83 \n",
       "  \"/>\n",
       "<polyline clip-path=\"url(#clip732)\" style=\"stroke:#000000; stroke-linecap:round; stroke-linejoin:round; stroke-width:4; stroke-opacity:1; fill:none\" points=\"\n",
       "  662.317,541.216 740.641,1205.83 \n",
       "  \"/>\n",
       "<path clip-path=\"url(#clip732)\" d=\"\n",
       "M1548.89 1082.25 L1594.06 1082.25 L1594.06 1009.98 L1548.89 1009.98 L1548.89 1082.25 L1548.89 1082.25  Z\n",
       "  \" fill=\"#ffffff\" fill-rule=\"evenodd\" fill-opacity=\"1\"/>\n",
       "<polyline clip-path=\"url(#clip732)\" style=\"stroke:#000000; stroke-linecap:round; stroke-linejoin:round; stroke-width:0; stroke-opacity:0; fill:none\" points=\"\n",
       "  1548.89,1082.25 1594.06,1082.25 1594.06,1009.98 1548.89,1009.98 1548.89,1082.25 \n",
       "  \"/>\n",
       "<path clip-path=\"url(#clip732)\" d=\"\n",
       "M1302.57 836.132 L1381.21 836.132 L1381.21 763.868 L1302.57 763.868 L1302.57 836.132 L1302.57 836.132  Z\n",
       "  \" fill=\"#ffffff\" fill-rule=\"evenodd\" fill-opacity=\"1\"/>\n",
       "<polyline clip-path=\"url(#clip732)\" style=\"stroke:#000000; stroke-linecap:round; stroke-linejoin:round; stroke-width:0; stroke-opacity:0; fill:none\" points=\"\n",
       "  1302.57,836.132 1381.21,836.132 1381.21,763.868 1302.57,763.868 1302.57,836.132 \n",
       "  \"/>\n",
       "<path clip-path=\"url(#clip732)\" d=\"\n",
       "M1245.75 1115.14 L1324.39 1115.14 L1324.39 1042.88 L1245.75 1042.88 L1245.75 1115.14 L1245.75 1115.14  Z\n",
       "  \" fill=\"#ffffff\" fill-rule=\"evenodd\" fill-opacity=\"1\"/>\n",
       "<polyline clip-path=\"url(#clip732)\" style=\"stroke:#000000; stroke-linecap:round; stroke-linejoin:round; stroke-width:0; stroke-opacity:0; fill:none\" points=\"\n",
       "  1245.75,1115.14 1324.39,1115.14 1324.39,1042.88 1245.75,1042.88 1245.75,1115.14 \n",
       "  \"/>\n",
       "<path clip-path=\"url(#clip732)\" d=\"\n",
       "M1011.21 975.581 L1056.37 975.581 L1056.37 903.317 L1011.21 903.317 L1011.21 975.581 L1011.21 975.581  Z\n",
       "  \" fill=\"#ffffff\" fill-rule=\"evenodd\" fill-opacity=\"1\"/>\n",
       "<polyline clip-path=\"url(#clip732)\" style=\"stroke:#000000; stroke-linecap:round; stroke-linejoin:round; stroke-width:0; stroke-opacity:0; fill:none\" points=\"\n",
       "  1011.21,975.581 1056.37,975.581 1056.37,903.317 1011.21,903.317 1011.21,975.581 \n",
       "  \"/>\n",
       "<path clip-path=\"url(#clip732)\" d=\"\n",
       "M1033.63 1307.89 L1112.27 1307.89 L1112.27 1235.63 L1033.63 1235.63 L1033.63 1307.89 L1033.63 1307.89  Z\n",
       "  \" fill=\"#ffffff\" fill-rule=\"evenodd\" fill-opacity=\"1\"/>\n",
       "<polyline clip-path=\"url(#clip732)\" style=\"stroke:#000000; stroke-linecap:round; stroke-linejoin:round; stroke-width:0; stroke-opacity:0; fill:none\" points=\"\n",
       "  1033.63,1307.89 1112.27,1307.89 1112.27,1235.63 1033.63,1235.63 1033.63,1307.89 \n",
       "  \"/>\n",
       "<path clip-path=\"url(#clip732)\" d=\"\n",
       "M1468.78 544.566 L1547.42 544.566 L1547.42 472.302 L1468.78 472.302 L1468.78 544.566 L1468.78 544.566  Z\n",
       "  \" fill=\"#ffffff\" fill-rule=\"evenodd\" fill-opacity=\"1\"/>\n",
       "<polyline clip-path=\"url(#clip732)\" style=\"stroke:#000000; stroke-linecap:round; stroke-linejoin:round; stroke-width:0; stroke-opacity:0; fill:none\" points=\"\n",
       "  1468.78,544.566 1547.42,544.566 1547.42,472.302 1468.78,472.302 1468.78,544.566 \n",
       "  \"/>\n",
       "<path clip-path=\"url(#clip732)\" d=\"\n",
       "M1428.7 823.573 L1473.86 823.573 L1473.86 751.309 L1428.7 751.309 L1428.7 823.573 L1428.7 823.573  Z\n",
       "  \" fill=\"#ffffff\" fill-rule=\"evenodd\" fill-opacity=\"1\"/>\n",
       "<polyline clip-path=\"url(#clip732)\" style=\"stroke:#000000; stroke-linecap:round; stroke-linejoin:round; stroke-width:0; stroke-opacity:0; fill:none\" points=\"\n",
       "  1428.7,823.573 1473.86,823.573 1473.86,751.309 1428.7,751.309 1428.7,823.573 \n",
       "  \"/>\n",
       "<path clip-path=\"url(#clip732)\" d=\"\n",
       "M1177.42 684.015 L1222.58 684.015 L1222.58 611.751 L1177.42 611.751 L1177.42 684.015 L1177.42 684.015  Z\n",
       "  \" fill=\"#ffffff\" fill-rule=\"evenodd\" fill-opacity=\"1\"/>\n",
       "<polyline clip-path=\"url(#clip732)\" style=\"stroke:#000000; stroke-linecap:round; stroke-linejoin:round; stroke-width:0; stroke-opacity:0; fill:none\" points=\"\n",
       "  1177.42,684.015 1222.58,684.015 1222.58,611.751 1177.42,611.751 1177.42,684.015 \n",
       "  \"/>\n",
       "<path clip-path=\"url(#clip732)\" d=\"\n",
       "M1199.84 1016.32 L1278.48 1016.32 L1278.48 944.059 L1199.84 944.059 L1199.84 1016.32 L1199.84 1016.32  Z\n",
       "  \" fill=\"#ffffff\" fill-rule=\"evenodd\" fill-opacity=\"1\"/>\n",
       "<polyline clip-path=\"url(#clip732)\" style=\"stroke:#000000; stroke-linecap:round; stroke-linejoin:round; stroke-width:0; stroke-opacity:0; fill:none\" points=\"\n",
       "  1199.84,1016.32 1278.48,1016.32 1278.48,944.059 1199.84,944.059 1199.84,1016.32 \n",
       "  \"/>\n",
       "<path clip-path=\"url(#clip732)\" d=\"\n",
       "M1182.38 577.457 L1261.02 577.457 L1261.02 505.192 L1182.38 505.192 L1182.38 577.457 L1182.38 577.457  Z\n",
       "  \" fill=\"#ffffff\" fill-rule=\"evenodd\" fill-opacity=\"1\"/>\n",
       "<polyline clip-path=\"url(#clip732)\" style=\"stroke:#000000; stroke-linecap:round; stroke-linejoin:round; stroke-width:0; stroke-opacity:0; fill:none\" points=\"\n",
       "  1182.38,577.457 1261.02,577.457 1261.02,505.192 1182.38,505.192 1182.38,577.457 \n",
       "  \"/>\n",
       "<path clip-path=\"url(#clip732)\" d=\"\n",
       "M931.099 437.899 L1009.74 437.899 L1009.74 365.634 L931.099 365.634 L931.099 437.899 L931.099 437.899  Z\n",
       "  \" fill=\"#ffffff\" fill-rule=\"evenodd\" fill-opacity=\"1\"/>\n",
       "<polyline clip-path=\"url(#clip732)\" style=\"stroke:#000000; stroke-linecap:round; stroke-linejoin:round; stroke-width:0; stroke-opacity:0; fill:none\" points=\"\n",
       "  931.099,437.899 1009.74,437.899 1009.74,365.634 931.099,365.634 931.099,437.899 \n",
       "  \"/>\n",
       "<path clip-path=\"url(#clip732)\" d=\"\n",
       "M986.997 770.207 L1032.16 770.207 L1032.16 697.943 L986.997 697.943 L986.997 770.207 L986.997 770.207  Z\n",
       "  \" fill=\"#ffffff\" fill-rule=\"evenodd\" fill-opacity=\"1\"/>\n",
       "<polyline clip-path=\"url(#clip732)\" style=\"stroke:#000000; stroke-linecap:round; stroke-linejoin:round; stroke-width:0; stroke-opacity:0; fill:none\" points=\"\n",
       "  986.997,770.207 1032.16,770.207 1032.16,697.943 986.997,697.943 986.997,770.207 \n",
       "  \"/>\n",
       "<path clip-path=\"url(#clip732)\" d=\"\n",
       "M874.281 716.906 L952.918 716.906 L952.918 644.642 L874.281 644.642 L874.281 716.906 L874.281 716.906  Z\n",
       "  \" fill=\"#ffffff\" fill-rule=\"evenodd\" fill-opacity=\"1\"/>\n",
       "<polyline clip-path=\"url(#clip732)\" style=\"stroke:#000000; stroke-linecap:round; stroke-linejoin:round; stroke-width:0; stroke-opacity:0; fill:none\" points=\"\n",
       "  874.281,716.906 952.918,716.906 952.918,644.642 874.281,644.642 874.281,716.906 \n",
       "  \"/>\n",
       "<path clip-path=\"url(#clip732)\" d=\"\n",
       "M913.442 1049.21 L992.08 1049.21 L992.08 976.95 L913.442 976.95 L913.442 1049.21 L913.442 1049.21  Z\n",
       "  \" fill=\"#ffffff\" fill-rule=\"evenodd\" fill-opacity=\"1\"/>\n",
       "<polyline clip-path=\"url(#clip732)\" style=\"stroke:#000000; stroke-linecap:round; stroke-linejoin:round; stroke-width:0; stroke-opacity:0; fill:none\" points=\"\n",
       "  913.442,1049.21 992.08,1049.21 992.08,976.95 913.442,976.95 913.442,1049.21 \n",
       "  \"/>\n",
       "<path clip-path=\"url(#clip732)\" d=\"\n",
       "M662.16 909.657 L740.798 909.657 L740.798 837.392 L662.16 837.392 L662.16 909.657 L662.16 909.657  Z\n",
       "  \" fill=\"#ffffff\" fill-rule=\"evenodd\" fill-opacity=\"1\"/>\n",
       "<polyline clip-path=\"url(#clip732)\" style=\"stroke:#000000; stroke-linecap:round; stroke-linejoin:round; stroke-width:0; stroke-opacity:0; fill:none\" points=\"\n",
       "  662.16,909.657 740.798,909.657 740.798,837.392 662.16,837.392 662.16,909.657 \n",
       "  \"/>\n",
       "<path clip-path=\"url(#clip732)\" d=\"\n",
       "M1429.35 1337.68 L1417.31 1316.82 L1393.22 1316.82 L1381.18 1337.68 L1393.22 1358.54 L1417.31 1358.54 L1429.35 1337.68 L1429.35 1337.68  Z\n",
       "  \" fill=\"#009af9\" fill-rule=\"evenodd\" fill-opacity=\"1\"/>\n",
       "<polyline clip-path=\"url(#clip732)\" style=\"stroke:#000000; stroke-linecap:round; stroke-linejoin:round; stroke-width:4; stroke-opacity:1; fill:none\" points=\"\n",
       "  1429.35,1337.68 1417.31,1316.82 1393.22,1316.82 1381.18,1337.68 1393.22,1358.54 1417.31,1358.54 1429.35,1337.68 \n",
       "  \"/>\n",
       "<path clip-path=\"url(#clip732)\" d=\"\n",
       "M1761.77 754.55 L1749.73 733.689 L1725.64 733.689 L1713.59 754.55 L1725.64 775.411 L1749.73 775.411 L1761.77 754.55 L1761.77 754.55  Z\n",
       "  \" fill=\"#009af9\" fill-rule=\"evenodd\" fill-opacity=\"1\"/>\n",
       "<polyline clip-path=\"url(#clip732)\" style=\"stroke:#000000; stroke-linecap:round; stroke-linejoin:round; stroke-width:4; stroke-opacity:1; fill:none\" points=\"\n",
       "  1761.77,754.55 1749.73,733.689 1725.64,733.689 1713.59,754.55 1725.64,775.411 1749.73,775.411 1761.77,754.55 \n",
       "  \"/>\n",
       "<path clip-path=\"url(#clip732)\" d=\"\n",
       "M1302.61 262.317 L1290.56 241.456 L1266.47 241.456 L1254.43 262.317 L1266.47 283.178 L1290.56 283.178 L1302.61 262.317 L1302.61 262.317  Z\n",
       "  \" fill=\"#009af9\" fill-rule=\"evenodd\" fill-opacity=\"1\"/>\n",
       "<polyline clip-path=\"url(#clip732)\" style=\"stroke:#000000; stroke-linecap:round; stroke-linejoin:round; stroke-width:4; stroke-opacity:1; fill:none\" points=\"\n",
       "  1302.61,262.317 1290.56,241.456 1266.47,241.456 1254.43,262.317 1266.47,283.178 1290.56,283.178 1302.61,262.317 \n",
       "  \"/>\n",
       "<path clip-path=\"url(#clip732)\" d=\"\n",
       "M1188.97 820.332 L1176.93 799.471 L1152.84 799.471 L1140.79 820.332 L1152.84 841.193 L1176.93 841.193 L1188.97 820.332 L1188.97 820.332  Z\n",
       "  \" fill=\"#009af9\" fill-rule=\"evenodd\" fill-opacity=\"1\"/>\n",
       "<polyline clip-path=\"url(#clip732)\" style=\"stroke:#000000; stroke-linecap:round; stroke-linejoin:round; stroke-width:4; stroke-opacity:1; fill:none\" points=\"\n",
       "  1188.97,820.332 1176.93,799.471 1152.84,799.471 1140.79,820.332 1152.84,841.193 1176.93,841.193 1188.97,820.332 \n",
       "  \"/>\n",
       "<path clip-path=\"url(#clip732)\" d=\"\n",
       "M686.405 541.216 L674.361 520.355 L650.273 520.355 L638.229 541.216 L650.273 562.077 L674.361 562.077 L686.405 541.216 L686.405 541.216  Z\n",
       "  \" fill=\"#009af9\" fill-rule=\"evenodd\" fill-opacity=\"1\"/>\n",
       "<polyline clip-path=\"url(#clip732)\" style=\"stroke:#000000; stroke-linecap:round; stroke-linejoin:round; stroke-width:4; stroke-opacity:1; fill:none\" points=\"\n",
       "  686.405,541.216 674.361,520.355 650.273,520.355 638.229,541.216 650.273,562.077 674.361,562.077 686.405,541.216 \n",
       "  \"/>\n",
       "<path clip-path=\"url(#clip732)\" d=\"\n",
       "M764.729 1205.83 L752.685 1184.97 L728.597 1184.97 L716.552 1205.83 L728.597 1226.69 L752.685 1226.69 L764.729 1205.83 L764.729 1205.83  Z\n",
       "  \" fill=\"#009af9\" fill-rule=\"evenodd\" fill-opacity=\"1\"/>\n",
       "<polyline clip-path=\"url(#clip732)\" style=\"stroke:#000000; stroke-linecap:round; stroke-linejoin:round; stroke-width:4; stroke-opacity:1; fill:none\" points=\"\n",
       "  764.729,1205.83 752.685,1184.97 728.597,1184.97 716.552,1205.83 728.597,1226.69 752.685,1226.69 764.729,1205.83 \n",
       "  \"/>\n",
       "<path clip-path=\"url(#clip732)\" d=\"M1405.26 1338.08 L1404.92 1337.88 L1404.92 1337.48 L1405.26 1337.28 L1405.61 1337.48 L1405.61 1337.88 Z\" fill=\"#009af9\" fill-rule=\"evenodd\" fill-opacity=\"1\" stroke=\"#000000\" stroke-opacity=\"1\" stroke-width=\"3.2\"/>\n",
       "<path clip-path=\"url(#clip732)\" d=\"M1737.68 754.95 L1737.34 754.75 L1737.34 754.35 L1737.68 754.15 L1738.03 754.35 L1738.03 754.75 Z\" fill=\"#009af9\" fill-rule=\"evenodd\" fill-opacity=\"1\" stroke=\"#000000\" stroke-opacity=\"1\" stroke-width=\"3.2\"/>\n",
       "<path clip-path=\"url(#clip732)\" d=\"M1278.52 262.717 L1278.17 262.517 L1278.17 262.117 L1278.52 261.917 L1278.86 262.117 L1278.86 262.517 Z\" fill=\"#009af9\" fill-rule=\"evenodd\" fill-opacity=\"1\" stroke=\"#000000\" stroke-opacity=\"1\" stroke-width=\"3.2\"/>\n",
       "<path clip-path=\"url(#clip732)\" d=\"M1164.88 820.732 L1164.54 820.532 L1164.54 820.132 L1164.88 819.932 L1165.23 820.132 L1165.23 820.532 Z\" fill=\"#009af9\" fill-rule=\"evenodd\" fill-opacity=\"1\" stroke=\"#000000\" stroke-opacity=\"1\" stroke-width=\"3.2\"/>\n",
       "<path clip-path=\"url(#clip732)\" d=\"M662.317 541.616 L661.971 541.416 L661.971 541.016 L662.317 540.816 L662.664 541.016 L662.664 541.416 Z\" fill=\"#009af9\" fill-rule=\"evenodd\" fill-opacity=\"1\" stroke=\"#000000\" stroke-opacity=\"1\" stroke-width=\"3.2\"/>\n",
       "<path clip-path=\"url(#clip732)\" d=\"M740.641 1206.23 L740.294 1206.03 L740.294 1205.63 L740.641 1205.43 L740.987 1205.63 L740.987 1206.03 Z\" fill=\"#009af9\" fill-rule=\"evenodd\" fill-opacity=\"1\" stroke=\"#000000\" stroke-opacity=\"1\" stroke-width=\"3.2\"/>\n",
       "<path clip-path=\"url(#clip730)\" d=\"M1562.99 1060.61 L1562.99 1056.88 Q1564.53 1057.61 1566.11 1058 Q1567.69 1058.38 1569.2 1058.38 Q1573.26 1058.38 1575.38 1055.67 Q1577.53 1052.93 1577.83 1047.38 Q1576.66 1049.12 1574.86 1050.06 Q1573.05 1050.99 1570.87 1050.99 Q1566.33 1050.99 1563.68 1048.25 Q1561.04 1045.5 1561.04 1040.74 Q1561.04 1036.08 1563.8 1033.27 Q1566.55 1030.45 1571.13 1030.45 Q1576.37 1030.45 1579.13 1034.48 Q1581.9 1038.49 1581.9 1046.15 Q1581.9 1053.3 1578.5 1057.57 Q1575.12 1061.82 1569.39 1061.82 Q1567.85 1061.82 1566.27 1061.52 Q1564.69 1061.22 1562.99 1060.61 M1571.13 1047.79 Q1573.88 1047.79 1575.48 1045.9 Q1577.1 1044.02 1577.1 1040.74 Q1577.1 1037.48 1575.48 1035.59 Q1573.88 1033.69 1571.13 1033.69 Q1568.37 1033.69 1566.75 1035.59 Q1565.15 1037.48 1565.15 1040.74 Q1565.15 1044.02 1566.75 1045.9 Q1568.37 1047.79 1571.13 1047.79 Z\" fill=\"#000000\" fill-rule=\"evenodd\" fill-opacity=\"1\" /><path clip-path=\"url(#clip730)\" d=\"M1320.44 811.677 L1327.13 811.677 L1327.13 788.607 L1319.85 790.065 L1319.85 786.338 L1327.09 784.88 L1331.18 784.88 L1331.18 811.677 L1337.86 811.677 L1337.86 815.12 L1320.44 815.12 L1320.44 811.677 Z\" fill=\"#000000\" fill-rule=\"evenodd\" fill-opacity=\"1\" /><path clip-path=\"url(#clip730)\" d=\"M1349.65 811.677 L1363.93 811.677 L1363.93 815.12 L1344.73 815.12 L1344.73 811.677 Q1347.06 809.266 1351.07 805.216 Q1355.1 801.144 1356.13 799.97 Q1358.09 797.762 1358.86 796.243 Q1359.65 794.703 1359.65 793.225 Q1359.65 790.815 1357.95 789.295 Q1356.27 787.776 1353.56 787.776 Q1351.63 787.776 1349.49 788.445 Q1347.36 789.113 1344.93 790.47 L1344.93 786.338 Q1347.4 785.346 1349.55 784.839 Q1351.69 784.333 1353.48 784.333 Q1358.18 784.333 1360.97 786.683 Q1363.77 789.032 1363.77 792.962 Q1363.77 794.825 1363.06 796.506 Q1362.37 798.167 1360.53 800.435 Q1360.02 801.023 1357.3 803.838 Q1354.59 806.633 1349.65 811.677 Z\" fill=\"#000000\" fill-rule=\"evenodd\" fill-opacity=\"1\" /><path clip-path=\"url(#clip730)\" d=\"M1263.36 1090.68 L1270.04 1090.68 L1270.04 1067.61 L1262.77 1069.07 L1262.77 1065.35 L1270 1063.89 L1274.09 1063.89 L1274.09 1090.68 L1280.78 1090.68 L1280.78 1094.13 L1263.36 1094.13 L1263.36 1090.68 Z\" fill=\"#000000\" fill-rule=\"evenodd\" fill-opacity=\"1\" /><path clip-path=\"url(#clip730)\" d=\"M1289.08 1063.89 L1305.14 1063.89 L1305.14 1067.33 L1292.83 1067.33 L1292.83 1074.74 Q1293.72 1074.44 1294.61 1074.3 Q1295.5 1074.14 1296.39 1074.14 Q1301.46 1074.14 1304.42 1076.91 Q1307.37 1079.69 1307.37 1084.43 Q1307.37 1089.31 1304.33 1092.02 Q1301.3 1094.71 1295.77 1094.71 Q1293.86 1094.71 1291.88 1094.39 Q1289.91 1094.07 1287.81 1093.42 L1287.81 1089.31 Q1289.63 1090.3 1291.57 1090.79 Q1293.52 1091.27 1295.69 1091.27 Q1299.19 1091.27 1301.24 1089.43 Q1303.28 1087.59 1303.28 1084.43 Q1303.28 1081.27 1301.24 1079.42 Q1299.19 1077.58 1295.69 1077.58 Q1294.05 1077.58 1292.4 1077.94 Q1290.78 1078.31 1289.08 1079.08 L1289.08 1063.89 Z\" fill=\"#000000\" fill-rule=\"evenodd\" fill-opacity=\"1\" /><path clip-path=\"url(#clip730)\" d=\"M1033.79 940.209 Q1030.87 940.209 1029.19 941.768 Q1027.53 943.328 1027.53 946.062 Q1027.53 948.797 1029.19 950.356 Q1030.87 951.916 1033.79 951.916 Q1036.71 951.916 1038.39 950.356 Q1040.07 948.776 1040.07 946.062 Q1040.07 943.328 1038.39 941.768 Q1036.73 940.209 1033.79 940.209 M1029.7 938.467 Q1027.07 937.819 1025.59 936.016 Q1024.13 934.213 1024.13 931.621 Q1024.13 927.995 1026.7 925.889 Q1029.29 923.782 1033.79 923.782 Q1038.31 923.782 1040.88 925.889 Q1043.45 927.995 1043.45 931.621 Q1043.45 934.213 1041.97 936.016 Q1040.52 937.819 1037.9 938.467 Q1040.86 939.155 1042.5 941.161 Q1044.16 943.166 1044.16 946.062 Q1044.16 950.458 1041.47 952.807 Q1038.79 955.157 1033.79 955.157 Q1028.79 955.157 1026.09 952.807 Q1023.42 950.458 1023.42 946.062 Q1023.42 943.166 1025.08 941.161 Q1026.74 939.155 1029.7 938.467 M1028.2 932.006 Q1028.2 934.355 1029.66 935.672 Q1031.14 936.988 1033.79 936.988 Q1036.42 936.988 1037.9 935.672 Q1039.4 934.355 1039.4 932.006 Q1039.4 929.656 1037.9 928.34 Q1036.42 927.023 1033.79 927.023 Q1031.14 927.023 1029.66 928.34 Q1028.2 929.656 1028.2 932.006 Z\" fill=\"#000000\" fill-rule=\"evenodd\" fill-opacity=\"1\" /><path clip-path=\"url(#clip730)\" d=\"M1054.38 1283.43 L1068.66 1283.43 L1068.66 1286.88 L1049.46 1286.88 L1049.46 1283.43 Q1051.79 1281.02 1055.8 1276.97 Q1059.83 1272.9 1060.86 1271.73 Q1062.83 1269.52 1063.59 1268 Q1064.38 1266.46 1064.38 1264.98 Q1064.38 1262.57 1062.68 1261.05 Q1061 1259.53 1058.29 1259.53 Q1056.36 1259.53 1054.22 1260.2 Q1052.09 1260.87 1049.66 1262.23 L1049.66 1258.1 Q1052.13 1257.1 1054.28 1256.6 Q1056.42 1256.09 1058.21 1256.09 Q1062.91 1256.09 1065.7 1258.44 Q1068.5 1260.79 1068.5 1264.72 Q1068.5 1266.58 1067.79 1268.26 Q1067.1 1269.92 1065.26 1272.19 Q1064.75 1272.78 1062.04 1275.6 Q1059.32 1278.39 1054.38 1283.43 Z\" fill=\"#000000\" fill-rule=\"evenodd\" fill-opacity=\"1\" /><path clip-path=\"url(#clip730)\" d=\"M1086 1259.33 Q1082.84 1259.33 1081.24 1262.45 Q1079.66 1265.55 1079.66 1271.79 Q1079.66 1278.01 1081.24 1281.13 Q1082.84 1284.22 1086 1284.22 Q1089.18 1284.22 1090.76 1281.13 Q1092.36 1278.01 1092.36 1271.79 Q1092.36 1265.55 1090.76 1262.45 Q1089.18 1259.33 1086 1259.33 M1086 1256.09 Q1091.08 1256.09 1093.75 1260.12 Q1096.45 1264.13 1096.45 1271.79 Q1096.45 1279.42 1093.75 1283.45 Q1091.08 1287.47 1086 1287.47 Q1080.91 1287.47 1078.22 1283.45 Q1075.54 1279.42 1075.54 1271.79 Q1075.54 1264.13 1078.22 1260.12 Q1080.91 1256.09 1086 1256.09 Z\" fill=\"#000000\" fill-rule=\"evenodd\" fill-opacity=\"1\" /><path clip-path=\"url(#clip730)\" d=\"M1489.31 520.111 L1503.59 520.111 L1503.59 523.554 L1484.39 523.554 L1484.39 520.111 Q1486.72 517.7 1490.73 513.649 Q1494.76 509.578 1495.8 508.403 Q1497.76 506.196 1498.53 504.677 Q1499.32 503.137 1499.32 501.659 Q1499.32 499.248 1497.62 497.729 Q1495.94 496.21 1493.22 496.21 Q1491.3 496.21 1489.15 496.879 Q1487.03 497.547 1484.6 498.904 L1484.6 494.772 Q1487.07 493.78 1489.21 493.273 Q1491.36 492.767 1493.14 492.767 Q1497.84 492.767 1500.64 495.116 Q1503.43 497.466 1503.43 501.395 Q1503.43 503.259 1502.72 504.94 Q1502.03 506.601 1500.19 508.869 Q1499.68 509.457 1496.97 512.272 Q1494.26 515.067 1489.31 520.111 Z\" fill=\"#000000\" fill-rule=\"evenodd\" fill-opacity=\"1\" /><path clip-path=\"url(#clip730)\" d=\"M1523.42 496.879 L1513.09 513.021 L1523.42 513.021 L1523.42 496.879 M1522.35 493.314 L1527.49 493.314 L1527.49 513.021 L1531.81 513.021 L1531.81 516.424 L1527.49 516.424 L1527.49 523.554 L1523.42 523.554 L1523.42 516.424 L1509.77 516.424 L1509.77 512.475 L1522.35 493.314 Z\" fill=\"#000000\" fill-rule=\"evenodd\" fill-opacity=\"1\" /><path clip-path=\"url(#clip730)\" d=\"M1446.6 799.118 L1460.88 799.118 L1460.88 802.561 L1441.68 802.561 L1441.68 799.118 Q1444.01 796.708 1448.02 792.657 Q1452.05 788.586 1453.08 787.411 Q1455.05 785.203 1455.82 783.684 Q1456.61 782.145 1456.61 780.666 Q1456.61 778.256 1454.91 776.737 Q1453.23 775.218 1450.51 775.218 Q1448.59 775.218 1446.44 775.886 Q1444.31 776.554 1441.88 777.911 L1441.88 773.78 Q1444.36 772.787 1446.5 772.281 Q1448.65 771.774 1450.43 771.774 Q1455.13 771.774 1457.93 774.124 Q1460.72 776.473 1460.72 780.403 Q1460.72 782.266 1460.01 783.947 Q1459.32 785.608 1457.48 787.877 Q1456.97 788.464 1454.26 791.279 Q1451.55 794.075 1446.6 799.118 Z\" fill=\"#000000\" fill-rule=\"evenodd\" fill-opacity=\"1\" /><path clip-path=\"url(#clip730)\" d=\"M1202.63 636.328 L1192.3 652.471 L1202.63 652.471 L1202.63 636.328 M1201.56 632.763 L1206.7 632.763 L1206.7 652.471 L1211.02 652.471 L1211.02 655.873 L1206.7 655.873 L1206.7 663.003 L1202.63 663.003 L1202.63 655.873 L1188.98 655.873 L1188.98 651.924 L1201.56 632.763 Z\" fill=\"#000000\" fill-rule=\"evenodd\" fill-opacity=\"1\" /><path clip-path=\"url(#clip730)\" d=\"M1217.01 991.868 L1223.7 991.868 L1223.7 968.799 L1216.43 970.257 L1216.43 966.53 L1223.66 965.072 L1227.75 965.072 L1227.75 991.868 L1234.43 991.868 L1234.43 995.312 L1217.01 995.312 L1217.01 991.868 Z\" fill=\"#000000\" fill-rule=\"evenodd\" fill-opacity=\"1\" /><path clip-path=\"url(#clip730)\" d=\"M1251.45 967.766 Q1248.29 967.766 1246.69 970.885 Q1245.11 973.984 1245.11 980.222 Q1245.11 986.44 1246.69 989.559 Q1248.29 992.658 1251.45 992.658 Q1254.63 992.658 1256.21 989.559 Q1257.81 986.44 1257.81 980.222 Q1257.81 973.984 1256.21 970.885 Q1254.63 967.766 1251.45 967.766 M1251.45 964.525 Q1256.53 964.525 1259.2 968.555 Q1261.9 972.566 1261.9 980.222 Q1261.9 987.858 1259.2 991.889 Q1256.53 995.899 1251.45 995.899 Q1246.36 995.899 1243.67 991.889 Q1240.99 987.858 1240.99 980.222 Q1240.99 972.566 1243.67 968.555 Q1246.36 964.525 1251.45 964.525 Z\" fill=\"#000000\" fill-rule=\"evenodd\" fill-opacity=\"1\" /><path clip-path=\"url(#clip730)\" d=\"M1199.99 553.001 L1206.67 553.001 L1206.67 529.931 L1199.4 531.39 L1199.4 527.663 L1206.63 526.205 L1210.72 526.205 L1210.72 553.001 L1217.41 553.001 L1217.41 556.445 L1199.99 556.445 L1199.99 553.001 Z\" fill=\"#000000\" fill-rule=\"evenodd\" fill-opacity=\"1\" /><path clip-path=\"url(#clip730)\" d=\"M1225.71 526.205 L1241.77 526.205 L1241.77 529.648 L1229.46 529.648 L1229.46 537.061 Q1230.35 536.757 1231.24 536.615 Q1232.13 536.453 1233.02 536.453 Q1238.09 536.453 1241.04 539.228 Q1244 542.003 1244 546.743 Q1244 551.624 1240.96 554.338 Q1237.92 557.032 1232.39 557.032 Q1230.49 557.032 1228.51 556.708 Q1226.54 556.384 1224.43 555.736 L1224.43 551.624 Q1226.26 552.617 1228.2 553.103 Q1230.15 553.589 1232.31 553.589 Q1235.82 553.589 1237.86 551.746 Q1239.91 549.902 1239.91 546.743 Q1239.91 543.583 1237.86 541.74 Q1235.82 539.897 1232.31 539.897 Q1230.67 539.897 1229.03 540.261 Q1227.41 540.626 1225.71 541.396 L1225.71 526.205 Z\" fill=\"#000000\" fill-rule=\"evenodd\" fill-opacity=\"1\" /><path clip-path=\"url(#clip730)\" d=\"M948.968 413.443 L955.652 413.443 L955.652 390.373 L948.381 391.832 L948.381 388.105 L955.612 386.646 L959.703 386.646 L959.703 413.443 L966.387 413.443 L966.387 416.886 L948.968 416.886 L948.968 413.443 Z\" fill=\"#000000\" fill-rule=\"evenodd\" fill-opacity=\"1\" /><path clip-path=\"url(#clip730)\" d=\"M978.175 413.443 L992.455 413.443 L992.455 416.886 L973.253 416.886 L973.253 413.443 Q975.583 411.033 979.593 406.982 Q983.624 402.911 984.657 401.736 Q986.621 399.528 987.391 398.009 Q988.181 396.47 988.181 394.991 Q988.181 392.581 986.48 391.062 Q984.798 389.543 982.084 389.543 Q980.16 389.543 978.013 390.211 Q975.886 390.88 973.456 392.237 L973.456 388.105 Q975.927 387.112 978.074 386.606 Q980.221 386.1 982.003 386.1 Q986.702 386.1 989.497 388.449 Q992.293 390.799 992.293 394.728 Q992.293 396.591 991.584 398.272 Q990.895 399.933 989.052 402.202 Q988.546 402.789 985.831 405.605 Q983.117 408.4 978.175 413.443 Z\" fill=\"#000000\" fill-rule=\"evenodd\" fill-opacity=\"1\" /><path clip-path=\"url(#clip730)\" d=\"M999.857 718.955 L1019.3 718.955 L1019.3 720.697 L1008.32 749.195 L1004.05 749.195 L1014.38 722.398 L999.857 722.398 L999.857 718.955 Z\" fill=\"#000000\" fill-rule=\"evenodd\" fill-opacity=\"1\" /><path clip-path=\"url(#clip730)\" d=\"M891.38 692.451 L898.064 692.451 L898.064 669.381 L890.793 670.839 L890.793 667.112 L898.024 665.654 L902.115 665.654 L902.115 692.451 L908.799 692.451 L908.799 695.894 L891.38 695.894 L891.38 692.451 Z\" fill=\"#000000\" fill-rule=\"evenodd\" fill-opacity=\"1\" /><path clip-path=\"url(#clip730)\" d=\"M926.319 679.143 Q923.565 679.143 921.944 681.027 Q920.344 682.911 920.344 686.192 Q920.344 689.453 921.944 691.357 Q923.565 693.24 926.319 693.24 Q929.074 693.24 930.674 691.357 Q932.294 689.453 932.294 686.192 Q932.294 682.911 930.674 681.027 Q929.074 679.143 926.319 679.143 M934.441 666.322 L934.441 670.049 Q932.902 669.32 931.322 668.935 Q929.762 668.55 928.223 668.55 Q924.172 668.55 922.025 671.285 Q919.898 674.019 919.595 679.548 Q920.79 677.786 922.592 676.855 Q924.395 675.903 926.562 675.903 Q931.119 675.903 933.753 678.677 Q936.406 681.432 936.406 686.192 Q936.406 690.85 933.651 693.666 Q930.897 696.481 926.319 696.481 Q921.073 696.481 918.298 692.471 Q915.523 688.44 915.523 680.804 Q915.523 673.634 918.926 669.381 Q922.329 665.107 928.061 665.107 Q929.6 665.107 931.16 665.411 Q932.74 665.715 934.441 666.322 Z\" fill=\"#000000\" fill-rule=\"evenodd\" fill-opacity=\"1\" /><path clip-path=\"url(#clip730)\" d=\"M930.653 1024.76 L937.337 1024.76 L937.337 1001.69 L930.066 1003.15 L930.066 999.421 L937.297 997.963 L941.388 997.963 L941.388 1024.76 L948.072 1024.76 L948.072 1028.2 L930.653 1028.2 L930.653 1024.76 Z\" fill=\"#000000\" fill-rule=\"evenodd\" fill-opacity=\"1\" /><path clip-path=\"url(#clip730)\" d=\"M965.086 1013.84 Q962.169 1013.84 960.488 1015.4 Q958.827 1016.96 958.827 1019.7 Q958.827 1022.43 960.488 1023.99 Q962.169 1025.55 965.086 1025.55 Q968.003 1025.55 969.684 1023.99 Q971.365 1022.41 971.365 1019.7 Q971.365 1016.96 969.684 1015.4 Q968.023 1013.84 965.086 1013.84 M960.994 1012.1 Q958.361 1011.45 956.883 1009.65 Q955.425 1007.85 955.425 1005.25 Q955.425 1001.63 957.997 999.522 Q960.589 997.416 965.086 997.416 Q969.603 997.416 972.175 999.522 Q974.747 1001.63 974.747 1005.25 Q974.747 1007.85 973.269 1009.65 Q971.81 1011.45 969.198 1012.1 Q972.155 1012.79 973.795 1014.79 Q975.456 1016.8 975.456 1019.7 Q975.456 1024.09 972.762 1026.44 Q970.089 1028.79 965.086 1028.79 Q960.083 1028.79 957.389 1026.44 Q954.716 1024.09 954.716 1019.7 Q954.716 1016.8 956.376 1014.79 Q958.037 1012.79 960.994 1012.1 M959.496 1005.64 Q959.496 1007.99 960.954 1009.31 Q962.433 1010.62 965.086 1010.62 Q967.719 1010.62 969.198 1009.31 Q970.696 1007.99 970.696 1005.64 Q970.696 1003.29 969.198 1001.97 Q967.719 1000.66 965.086 1000.66 Q962.433 1000.66 960.954 1001.97 Q959.496 1003.29 959.496 1005.64 Z\" fill=\"#000000\" fill-rule=\"evenodd\" fill-opacity=\"1\" /><path clip-path=\"url(#clip730)\" d=\"M683.604 885.201 L697.884 885.201 L697.884 888.644 L678.682 888.644 L678.682 885.201 Q681.012 882.791 685.022 878.74 Q689.053 874.669 690.086 873.494 Q692.05 871.286 692.82 869.767 Q693.61 868.228 693.61 866.749 Q693.61 864.339 691.909 862.82 Q690.228 861.301 687.513 861.301 Q685.589 861.301 683.442 861.969 Q681.316 862.637 678.885 863.995 L678.885 859.863 Q681.356 858.87 683.503 858.364 Q685.65 857.857 687.432 857.857 Q692.131 857.857 694.927 860.207 Q697.722 862.556 697.722 866.486 Q697.722 868.349 697.013 870.03 Q696.324 871.691 694.481 873.96 Q693.975 874.547 691.261 877.363 Q688.546 880.158 683.604 885.201 Z\" fill=\"#000000\" fill-rule=\"evenodd\" fill-opacity=\"1\" /><path clip-path=\"url(#clip730)\" d=\"M709.996 885.201 L724.275 885.201 L724.275 888.644 L705.074 888.644 L705.074 885.201 Q707.403 882.791 711.414 878.74 Q715.444 874.669 716.477 873.494 Q718.442 871.286 719.212 869.767 Q720.002 868.228 720.002 866.749 Q720.002 864.339 718.3 862.82 Q716.619 861.301 713.905 861.301 Q711.981 861.301 709.834 861.969 Q707.707 862.637 705.277 863.995 L705.277 859.863 Q707.748 858.87 709.895 858.364 Q712.042 857.857 713.824 857.857 Q718.523 857.857 721.318 860.207 Q724.113 862.556 724.113 866.486 Q724.113 868.349 723.404 870.03 Q722.716 871.691 720.873 873.96 Q720.366 874.547 717.652 877.363 Q714.938 880.158 709.996 885.201 Z\" fill=\"#000000\" fill-rule=\"evenodd\" fill-opacity=\"1\" /><path clip-path=\"url(#clip730)\" d=\"M1405.26 1326.59 L1399.71 1341.64 L1410.83 1341.64 L1405.26 1326.59 M1402.95 1322.56 L1407.59 1322.56 L1419.12 1352.8 L1414.86 1352.8 L1412.11 1345.05 L1398.48 1345.05 L1395.72 1352.8 L1391.41 1352.8 L1402.95 1322.56 Z\" fill=\"#000000\" fill-rule=\"evenodd\" fill-opacity=\"1\" /><path clip-path=\"url(#clip730)\" d=\"M1731.05 755.229 L1731.05 766.308 L1737.61 766.308 Q1740.91 766.308 1742.49 764.951 Q1744.09 763.574 1744.09 760.758 Q1744.09 757.923 1742.49 756.586 Q1740.91 755.229 1737.61 755.229 L1731.05 755.229 M1731.05 742.793 L1731.05 751.907 L1737.11 751.907 Q1740.1 751.907 1741.56 750.793 Q1743.04 749.659 1743.04 747.35 Q1743.04 745.061 1741.56 743.927 Q1740.1 742.793 1737.11 742.793 L1731.05 742.793 M1726.96 739.43 L1737.41 739.43 Q1742.09 739.43 1744.62 741.375 Q1747.15 743.319 1747.15 746.904 Q1747.15 749.679 1745.86 751.32 Q1744.56 752.96 1742.05 753.365 Q1745.07 754.014 1746.73 756.08 Q1748.41 758.125 1748.41 761.204 Q1748.41 765.255 1745.65 767.463 Q1742.9 769.67 1737.81 769.67 L1726.96 769.67 L1726.96 739.43 Z\" fill=\"#000000\" fill-rule=\"evenodd\" fill-opacity=\"1\" /><path clip-path=\"url(#clip730)\" d=\"M1290.71 249.526 L1290.71 253.841 Q1288.65 251.917 1286.3 250.965 Q1283.97 250.013 1281.33 250.013 Q1276.15 250.013 1273.39 253.193 Q1270.64 256.352 1270.64 262.348 Q1270.64 268.323 1273.39 271.503 Q1276.15 274.662 1281.33 274.662 Q1283.97 274.662 1286.3 273.71 Q1288.65 272.758 1290.71 270.834 L1290.71 275.108 Q1288.56 276.566 1286.15 277.295 Q1283.76 278.025 1281.09 278.025 Q1274.22 278.025 1270.27 273.832 Q1266.33 269.619 1266.33 262.348 Q1266.33 255.056 1270.27 250.863 Q1274.22 246.65 1281.09 246.65 Q1283.8 246.65 1286.19 247.38 Q1288.61 248.088 1290.71 249.526 Z\" fill=\"#000000\" fill-rule=\"evenodd\" fill-opacity=\"1\" /><path clip-path=\"url(#clip730)\" d=\"M1156.26 808.574 L1156.26 832.09 L1161.21 832.09 Q1167.46 832.09 1170.36 829.254 Q1173.28 826.419 1173.28 820.302 Q1173.28 814.225 1170.36 811.41 Q1167.46 808.574 1161.21 808.574 L1156.26 808.574 M1152.17 805.212 L1160.58 805.212 Q1169.37 805.212 1173.48 808.878 Q1177.59 812.524 1177.59 820.302 Q1177.59 828.12 1173.46 831.786 Q1169.33 835.452 1160.58 835.452 L1152.17 835.452 L1152.17 805.212 Z\" fill=\"#000000\" fill-rule=\"evenodd\" fill-opacity=\"1\" /><path clip-path=\"url(#clip730)\" d=\"M652.575 526.096 L671.695 526.096 L671.695 529.539 L656.666 529.539 L656.666 538.491 L671.067 538.491 L671.067 541.935 L656.666 541.935 L656.666 552.892 L672.06 552.892 L672.06 556.336 L652.575 556.336 L652.575 526.096 Z\" fill=\"#000000\" fill-rule=\"evenodd\" fill-opacity=\"1\" /><path clip-path=\"url(#clip730)\" d=\"M731.951 1190.71 L749.33 1190.71 L749.33 1194.16 L736.043 1194.16 L736.043 1203.07 L748.034 1203.07 L748.034 1206.51 L736.043 1206.51 L736.043 1220.95 L731.951 1220.95 L731.951 1190.71 Z\" fill=\"#000000\" fill-rule=\"evenodd\" fill-opacity=\"1\" /></svg>\n"
      ]
     },
     "execution_count": 51,
     "metadata": {},
     "output_type": "execute_result"
    }
   ],
   "source": [
    "plotWeightedGraph(g3)"
   ]
  },
  {
   "cell_type": "code",
   "execution_count": 52,
   "id": "57a21cc0-d214-43ef-abd5-24defe4c9ec0",
   "metadata": {},
   "outputs": [
    {
     "data": {
      "text/plain": [
       "4-element Vector{Vertex}:\n",
       " C\n",
       " A\n",
       " F\n",
       " B"
      ]
     },
     "execution_count": 52,
     "metadata": {},
     "output_type": "execute_result"
    }
   ],
   "source": [
    "P = [Vertex(:C), Vertex(:A), Vertex(:F), Vertex(:B)]"
   ]
  },
  {
   "cell_type": "code",
   "execution_count": 53,
   "id": "908519c9-2dcd-4d14-a548-78e067b4e970",
   "metadata": {},
   "outputs": [
    {
     "data": {
      "text/plain": [
       "Vertex[C, A, F, B]"
      ]
     },
     "execution_count": 53,
     "metadata": {},
     "output_type": "execute_result"
    }
   ],
   "source": [
    "r=Path(P,g3)"
   ]
  },
  {
   "cell_type": "code",
   "execution_count": 54,
   "id": "04685e25-12a4-4ae8-930d-6bac4c19201a",
   "metadata": {},
   "outputs": [
    {
     "data": {
      "text/plain": [
       "Path"
      ]
     },
     "execution_count": 54,
     "metadata": {},
     "output_type": "execute_result"
    }
   ],
   "source": [
    "typeof(r)"
   ]
  },
  {
   "cell_type": "code",
   "execution_count": 55,
   "id": "9c4498d5-6a61-4d8e-aa23-66f2a976b486",
   "metadata": {},
   "outputs": [
    {
     "data": {
      "text/plain": [
       "4"
      ]
     },
     "execution_count": 55,
     "metadata": {},
     "output_type": "execute_result"
    }
   ],
   "source": [
    "length(r.path)"
   ]
  },
  {
   "cell_type": "code",
   "execution_count": 56,
   "id": "86b9976b-6dea-4354-9b9c-b793cc955f39",
   "metadata": {},
   "outputs": [
    {
     "data": {
      "text/plain": [
       "15"
      ]
     },
     "execution_count": 56,
     "metadata": {},
     "output_type": "execute_result"
    }
   ],
   "source": [
    "length(r.graph.edges)"
   ]
  },
  {
   "cell_type": "code",
   "execution_count": 57,
   "id": "b4174217-2588-4fc6-8455-0f30f572cc79",
   "metadata": {},
   "outputs": [
    {
     "data": {
      "text/plain": [
       "42"
      ]
     },
     "execution_count": 57,
     "metadata": {},
     "output_type": "execute_result"
    }
   ],
   "source": [
    "distance(r)"
   ]
  },
  {
   "cell_type": "code",
   "execution_count": 58,
   "id": "2fb5d8d8-1f04-47f0-b8ee-ac3708576954",
   "metadata": {},
   "outputs": [
    {
     "name": "stdout",
     "output_type": "stream",
     "text": [
      "Distance = Distance + (r.graph.edges[i]).weight = 12\n",
      "Distance = Distance + (r.graph.edges[i]).weight = 32\n",
      "Distance = Distance + (r.graph.edges[i]).weight = 42\n"
     ]
    },
    {
     "data": {
      "text/plain": [
       "42"
      ]
     },
     "execution_count": 58,
     "metadata": {},
     "output_type": "execute_result"
    }
   ],
   "source": [
    "Distance = 0\n",
    "for i in 1:length(r.graph.edges)\n",
    "    #for s in 1:(length(r.path)-1)\n",
    "       for f in 2:length(r.path)\n",
    "            if ((Symbol(r.path[f-1]) == r.graph.edges[i].start) && (Symbol(r.path[f]) == r.graph.edges[i].finish)) || ((Symbol(r.path[f]) == r.graph.edges[i].start) && (Symbol(r.path[f-1]) == r.graph.edges[i].finish))\n",
    "                @show Distance = Distance + r.graph.edges[i].weight\n",
    "            end\n",
    "        end\n",
    "    #end\n",
    "end\n",
    "Distance"
   ]
  },
  {
   "cell_type": "code",
   "execution_count": 59,
   "id": "b6d70ac2-f1c2-42f5-9a3f-53de866aa17e",
   "metadata": {},
   "outputs": [
    {
     "data": {
      "text/plain": [
       ":C"
      ]
     },
     "execution_count": 59,
     "metadata": {},
     "output_type": "execute_result"
    }
   ],
   "source": [
    "Symbol(r.path[1])"
   ]
  },
  {
   "cell_type": "code",
   "execution_count": 60,
   "id": "1c251a44-82c3-4052-b027-663268e6e83d",
   "metadata": {},
   "outputs": [
    {
     "data": {
      "text/plain": [
       "Vertex[A, B, C, D, E, F]Main.WeightedGraphs.Edge[(:A, :B, 9), (:A, :C, 12), (:A, :D, 15), (:A, :E, 8), (:A, :F, 20), (:B, :C, 24), (:B, :D, 2), (:B, :E, 4), (:B, :F, 10), (:C, :D, 15), (:C, :E, 12), (:C, :F, 7), (:D, :E, 16), (:D, :F, 18), (:E, :F, 22)]"
      ]
     },
     "execution_count": 60,
     "metadata": {},
     "output_type": "execute_result"
    }
   ],
   "source": [
    "g3"
   ]
  },
  {
   "cell_type": "code",
   "execution_count": 61,
   "id": "95cd73d3-815f-4210-aeff-6cbd9b39b48f",
   "metadata": {},
   "outputs": [
    {
     "data": {
      "text/plain": [
       "6×6 Matrix{Int64}:\n",
       "  0   9  12  15   8  20\n",
       "  9   0  24   2   4  10\n",
       " 12  24   0  15  12   7\n",
       " 15   2  15   0  16  18\n",
       "  8   4  12  16   0  22\n",
       " 20  10   7  18  22   0"
      ]
     },
     "execution_count": 61,
     "metadata": {},
     "output_type": "execute_result"
    }
   ],
   "source": [
    "w = zeros(Int,length(g3.vertices),length(g3.vertices))\n",
    "for i=1:length(g3.vertices)\n",
    "  for j=1:length(g3.vertices)\n",
    "    if haskey(edgelabel,(i,j))\n",
    "      w[i,j] = edgelabel[(i,j)]\n",
    "      w[j,i] = edgelabel[(i,j)]\n",
    "    end\n",
    "  end\n",
    "end\n",
    "w"
   ]
  },
  {
   "cell_type": "code",
   "execution_count": 62,
   "id": "3726d9a7-2ed8-40a8-840c-b63c878fccb2",
   "metadata": {},
   "outputs": [
    {
     "data": {
      "text/plain": [
       "2-element Vector{Graphs.SimpleGraphs.SimpleEdge{Int64}}:\n",
       " Edge 1 => 2\n",
       " Edge 2 => 4"
      ]
     },
     "execution_count": 62,
     "metadata": {},
     "output_type": "execute_result"
    }
   ],
   "source": [
    "short_path = a_star(g3.graph,1,4,w)"
   ]
  },
  {
   "cell_type": "code",
   "execution_count": 63,
   "id": "13fd8fc9-d0fc-497d-8cd9-b9f7f169c967",
   "metadata": {},
   "outputs": [
    {
     "data": {
      "text/plain": [
       "Vertex[A, B, C, D, E, F]Main.WeightedGraphs.Edge[(:A, :B, 9), (:A, :C, 12), (:A, :D, 15), (:A, :E, 8), (:A, :F, 20), (:B, :C, 24), (:B, :D, 2), (:B, :E, 4), (:B, :F, 10), (:C, :D, 15), (:C, :E, 12), (:C, :F, 7), (:D, :E, 16), (:D, :F, 18), (:E, :F, 22)]"
      ]
     },
     "execution_count": 63,
     "metadata": {},
     "output_type": "execute_result"
    }
   ],
   "source": [
    "g3"
   ]
  },
  {
   "cell_type": "code",
   "execution_count": 64,
   "id": "b808d625-d9d6-456d-9b82-2826aac90921",
   "metadata": {},
   "outputs": [
    {
     "ename": "LoadError",
     "evalue": "UndefVarError: find not defined",
     "output_type": "error",
     "traceback": [
      "UndefVarError: find not defined",
      "",
      "Stacktrace:",
      " [1] top-level scope",
      "   @ In[64]:1",
      " [2] eval",
      "   @ .\\boot.jl:368 [inlined]",
      " [3] include_string(mapexpr::typeof(REPL.softscope), mod::Module, code::String, filename::String)",
      "   @ Base .\\loading.jl:1428"
     ]
    }
   ],
   "source": [
    "find(Vertex(:A) == g3.vertices)"
   ]
  },
  {
   "cell_type": "code",
   "execution_count": 65,
   "id": "84347114-e00f-4252-8bbc-3c3d916d6841",
   "metadata": {},
   "outputs": [
    {
     "data": {
      "text/plain": [
       "Vertex"
      ]
     },
     "execution_count": 65,
     "metadata": {},
     "output_type": "execute_result"
    }
   ],
   "source": [
    "typeof(g3.vertices[1])"
   ]
  },
  {
   "cell_type": "code",
   "execution_count": 66,
   "id": "27b367b7-4e2c-4db6-80dd-1ff676918a5c",
   "metadata": {},
   "outputs": [
    {
     "data": {
      "text/plain": [
       "2"
      ]
     },
     "execution_count": 66,
     "metadata": {},
     "output_type": "execute_result"
    }
   ],
   "source": [
    "findfirst(isequal(Vertex(:B)), g3.vertices) "
   ]
  },
  {
   "cell_type": "code",
   "execution_count": 67,
   "id": "9e7ba7d0-6b2d-4103-8fc2-93b553dcb424",
   "metadata": {},
   "outputs": [
    {
     "data": {
      "text/plain": [
       "(Path = Vertex[A, B, F], Distance = 19)"
      ]
     },
     "execution_count": 67,
     "metadata": {},
     "output_type": "execute_result"
    }
   ],
   "source": [
    "findShortestPath(Vertex(:A), Vertex(:F), g3)"
   ]
  },
  {
   "cell_type": "code",
   "execution_count": 68,
   "id": "afa1e0f5-e274-47f5-a60e-c6081ef7ae7e",
   "metadata": {},
   "outputs": [],
   "source": [
    "using Combinatorics"
   ]
  },
  {
   "cell_type": "code",
   "execution_count": 69,
   "id": "a898ce7b-650b-4333-b319-baf43e18c0ae",
   "metadata": {},
   "outputs": [
    {
     "data": {
      "text/plain": [
       "6-element Vector{Vertex}:\n",
       " A\n",
       " B\n",
       " C\n",
       " D\n",
       " E\n",
       " F"
      ]
     },
     "execution_count": 69,
     "metadata": {},
     "output_type": "execute_result"
    }
   ],
   "source": [
    "nthperm(g3.vertices,1)"
   ]
  },
  {
   "cell_type": "code",
   "execution_count": 70,
   "id": "1aab88b5-74b5-4363-b172-6cd59bc2158c",
   "metadata": {},
   "outputs": [
    {
     "data": {
      "text/plain": [
       "6-element Vector{Vertex}:\n",
       " A\n",
       " B\n",
       " C\n",
       " D\n",
       " F\n",
       " E"
      ]
     },
     "execution_count": 70,
     "metadata": {},
     "output_type": "execute_result"
    }
   ],
   "source": [
    "nthperm(g3.vertices,2)"
   ]
  },
  {
   "cell_type": "code",
   "execution_count": 71,
   "id": "e750b33e-acae-46bb-95ef-5571593a724b",
   "metadata": {},
   "outputs": [
    {
     "data": {
      "text/plain": [
       "720-element Vector{Vector{Vertex}}:\n",
       " [A, B, C, D, E, F]\n",
       " [A, B, C, D, F, E]\n",
       " [A, B, C, E, D, F]\n",
       " [A, B, C, E, F, D]\n",
       " [A, B, C, F, D, E]\n",
       " [A, B, C, F, E, D]\n",
       " [A, B, D, C, E, F]\n",
       " [A, B, D, C, F, E]\n",
       " [A, B, D, E, C, F]\n",
       " [A, B, D, E, F, C]\n",
       " [A, B, D, F, C, E]\n",
       " [A, B, D, F, E, C]\n",
       " [A, B, E, C, D, F]\n",
       " ⋮\n",
       " [F, E, C, A, B, D]\n",
       " [F, E, C, A, D, B]\n",
       " [F, E, C, B, A, D]\n",
       " [F, E, C, B, D, A]\n",
       " [F, E, C, D, A, B]\n",
       " [F, E, C, D, B, A]\n",
       " [F, E, D, A, B, C]\n",
       " [F, E, D, A, C, B]\n",
       " [F, E, D, B, A, C]\n",
       " [F, E, D, B, C, A]\n",
       " [F, E, D, C, A, B]\n",
       " [F, E, D, C, B, A]"
      ]
     },
     "execution_count": 71,
     "metadata": {},
     "output_type": "execute_result"
    }
   ],
   "source": [
    "perms = map(k->nthperm(g3.vertices,k),1:factorial(length(g3.vertices)))"
   ]
  },
  {
   "cell_type": "code",
   "execution_count": 72,
   "id": "aa73778f-a284-413f-a5ee-cecc7db6bd04",
   "metadata": {},
   "outputs": [
    {
     "data": {
      "text/plain": [
       "6-element Vector{Vertex}:\n",
       " A\n",
       " B\n",
       " C\n",
       " D\n",
       " E\n",
       " F"
      ]
     },
     "execution_count": 72,
     "metadata": {},
     "output_type": "execute_result"
    }
   ],
   "source": [
    "perms[1]"
   ]
  },
  {
   "cell_type": "code",
   "execution_count": 73,
   "id": "4b55e58b-b1f7-4414-bb37-316cb917c5ad",
   "metadata": {},
   "outputs": [
    {
     "data": {
      "text/plain": [
       "720-element Vector{Any}:\n",
       " 86\n",
       " 88\n",
       " 79\n",
       " 85\n",
       " 74\n",
       " 78\n",
       " 60\n",
       " 55\n",
       " 46\n",
       " 56\n",
       " 48\n",
       " 63\n",
       " 58\n",
       "  ⋮\n",
       " 57\n",
       " 63\n",
       " 82\n",
       " 75\n",
       " 73\n",
       " 60\n",
       " 86\n",
       " 89\n",
       " 61\n",
       " 76\n",
       " 74\n",
       " 86"
      ]
     },
     "execution_count": 73,
     "metadata": {},
     "output_type": "execute_result"
    }
   ],
   "source": [
    "dists = []\n",
    "for i in 1:length(perms)\n",
    "    push!(dists,distance(Path(perms[i],g3)))\n",
    "end\n",
    "dists"
   ]
  },
  {
   "cell_type": "code",
   "execution_count": 74,
   "id": "9f6b7d5e-9bea-4f6d-a4b2-0373f48b7d5f",
   "metadata": {},
   "outputs": [
    {
     "data": {
      "text/plain": [
       "(33, 397)"
      ]
     },
     "execution_count": 74,
     "metadata": {},
     "output_type": "execute_result"
    }
   ],
   "source": [
    "findmin(dists)"
   ]
  },
  {
   "cell_type": "code",
   "execution_count": 75,
   "id": "ad3ce3d1-f784-4c90-b986-a6074262f7d9",
   "metadata": {},
   "outputs": [
    {
     "data": {
      "text/plain": [
       "397"
      ]
     },
     "execution_count": 75,
     "metadata": {},
     "output_type": "execute_result"
    }
   ],
   "source": [
    "findmin(dists)[2]"
   ]
  },
  {
   "cell_type": "code",
   "execution_count": 76,
   "id": "d13e1088-35fd-4266-8bbd-4c5d9523cf95",
   "metadata": {},
   "outputs": [
    {
     "data": {
      "text/plain": [
       "6-element Vector{Vertex}:\n",
       " D\n",
       " B\n",
       " E\n",
       " A\n",
       " C\n",
       " F"
      ]
     },
     "execution_count": 76,
     "metadata": {},
     "output_type": "execute_result"
    }
   ],
   "source": [
    "nthperm(g3.vertices,397)"
   ]
  },
  {
   "cell_type": "code",
   "execution_count": 77,
   "id": "32ae1231-3ff4-4b3b-8f23-5fdf9523ebaa",
   "metadata": {},
   "outputs": [
    {
     "data": {
      "text/plain": [
       "6-element Vector{Vertex}:\n",
       " D\n",
       " B\n",
       " E\n",
       " A\n",
       " C\n",
       " F"
      ]
     },
     "execution_count": 77,
     "metadata": {},
     "output_type": "execute_result"
    }
   ],
   "source": [
    "nthperm(g3.vertices,findmin(dists)[2])"
   ]
  },
  {
   "cell_type": "code",
   "execution_count": 78,
   "id": "afd880cf-596d-48d2-832c-164b99954304",
   "metadata": {},
   "outputs": [
    {
     "data": {
      "text/plain": [
       "7-element Vector{Vertex}:\n",
       " D\n",
       " B\n",
       " E\n",
       " A\n",
       " C\n",
       " F\n",
       " D"
      ]
     },
     "execution_count": 78,
     "metadata": {},
     "output_type": "execute_result"
    }
   ],
   "source": [
    "solveTSP(g3)"
   ]
  },
  {
   "cell_type": "code",
   "execution_count": 79,
   "id": "b3ac695c-84ef-4197-9e42-b8bc2798f5f0",
   "metadata": {},
   "outputs": [
    {
     "data": {
      "text/plain": [
       "86"
      ]
     },
     "execution_count": 79,
     "metadata": {},
     "output_type": "execute_result"
    }
   ],
   "source": [
    "dists = map(k->distance(Path(nthperm(g3.vertices,k),g3)),factorial(length(g3.vertices)))"
   ]
  },
  {
   "cell_type": "code",
   "execution_count": 80,
   "id": "dc90b986-3dbe-46c9-9f2c-6f8c1dd13ccb",
   "metadata": {},
   "outputs": [
    {
     "data": {
      "text/plain": [
       "(Path = Vertex[B, A, F, E], Distance = 15)"
      ]
     },
     "execution_count": 80,
     "metadata": {},
     "output_type": "execute_result"
    }
   ],
   "source": [
    "ShortestPath = findShortestPath(Vertex(:B),Vertex(:E),g2)"
   ]
  },
  {
   "cell_type": "code",
   "execution_count": 81,
   "id": "4c4ed68d-092b-40ae-b6c7-7c71c2d974a4",
   "metadata": {},
   "outputs": [
    {
     "data": {
      "text/plain": [
       "4-element Vector{Vertex}:\n",
       " B\n",
       " A\n",
       " F\n",
       " E"
      ]
     },
     "execution_count": 81,
     "metadata": {},
     "output_type": "execute_result"
    }
   ],
   "source": [
    "ShortestPath[1]"
   ]
  },
  {
   "cell_type": "code",
   "execution_count": 82,
   "id": "40f33dc9-ed40-4d80-92fb-f1305d7c1611",
   "metadata": {},
   "outputs": [
    {
     "ename": "LoadError",
     "evalue": "type Array has no field src",
     "output_type": "error",
     "traceback": [
      "type Array has no field src",
      "",
      "Stacktrace:",
      " [1] getproperty(x::Vector{Vertex}, f::Symbol)",
      "   @ Base .\\Base.jl:38",
      " [2] top-level scope",
      "   @ In[82]:1",
      " [3] eval",
      "   @ .\\boot.jl:368 [inlined]",
      " [4] include_string(mapexpr::typeof(REPL.softscope), mod::Module, code::String, filename::String)",
      "   @ Base .\\loading.jl:1428"
     ]
    }
   ],
   "source": [
    "ShortestPath[1].src"
   ]
  },
  {
   "cell_type": "code",
   "execution_count": 83,
   "id": "dc83a948-54bf-40e0-b821-7a0e57036daa",
   "metadata": {},
   "outputs": [
    {
     "ename": "LoadError",
     "evalue": "type Array has no field src",
     "output_type": "error",
     "traceback": [
      "type Array has no field src",
      "",
      "Stacktrace:",
      " [1] getproperty(x::Vector{Vertex}, f::Symbol)",
      "   @ Base .\\Base.jl:38",
      " [2] top-level scope",
      "   @ .\\In[83]:3",
      " [3] eval",
      "   @ .\\boot.jl:368 [inlined]",
      " [4] include_string(mapexpr::typeof(REPL.softscope), mod::Module, code::String, filename::String)",
      "   @ Base .\\loading.jl:1428"
     ]
    }
   ],
   "source": [
    "path = []\n",
    "for i in 1:(length(ShortestPath))\n",
    "    push!(path,ShortestPath[i].src)\n",
    "end\n",
    "push!(path,ShortestPath[length(ShortestPath)].dst)"
   ]
  },
  {
   "cell_type": "code",
   "execution_count": 84,
   "id": "8e682641-0704-4a21-899f-d1883e1b521e",
   "metadata": {},
   "outputs": [
    {
     "ename": "LoadError",
     "evalue": "type Array has no field src",
     "output_type": "error",
     "traceback": [
      "type Array has no field src",
      "",
      "Stacktrace:",
      " [1] getproperty(x::Vector{Vertex}, f::Symbol)",
      "   @ Base .\\Base.jl:38",
      " [2] top-level scope",
      "   @ .\\In[84]:3",
      " [3] eval",
      "   @ .\\boot.jl:368 [inlined]",
      " [4] include_string(mapexpr::typeof(REPL.softscope), mod::Module, code::String, filename::String)",
      "   @ Base .\\loading.jl:1428"
     ]
    }
   ],
   "source": [
    "path = []\n",
    "for i in 1:(length(ShortestPath))\n",
    "    push!(path,g2.vertices[ShortestPath[i].src])\n",
    "end\n",
    "push!(path,g2.vertices[ShortestPath[length(ShortestPath)].dst])"
   ]
  },
  {
   "cell_type": "code",
   "execution_count": 85,
   "id": "9ab06f15-2427-4096-a674-53fc9499811d",
   "metadata": {},
   "outputs": [
    {
     "data": {
      "text/plain": [
       "2"
      ]
     },
     "execution_count": 85,
     "metadata": {},
     "output_type": "execute_result"
    }
   ],
   "source": [
    "length(ShortestPath)"
   ]
  },
  {
   "cell_type": "code",
   "execution_count": 86,
   "id": "7b153629-4ae3-4e73-9da3-2e5e00589e9a",
   "metadata": {},
   "outputs": [
    {
     "data": {
      "text/plain": [
       "3-element Vector{Vertex}:\n",
       " #undef\n",
       " #undef\n",
       " #undef"
      ]
     },
     "execution_count": 86,
     "metadata": {},
     "output_type": "execute_result"
    }
   ],
   "source": [
    "path = Vector{Vertex}(undef,length(ShortestPath)+1)"
   ]
  },
  {
   "cell_type": "code",
   "execution_count": 87,
   "id": "6faca639-1210-40ea-927e-04225d0fe23e",
   "metadata": {},
   "outputs": [
    {
     "ename": "LoadError",
     "evalue": "type Array has no field src",
     "output_type": "error",
     "traceback": [
      "type Array has no field src",
      "",
      "Stacktrace:",
      " [1] getproperty(x::Vector{Vertex}, f::Symbol)",
      "   @ Base .\\Base.jl:38",
      " [2] top-level scope",
      "   @ .\\In[87]:3",
      " [3] eval",
      "   @ .\\boot.jl:368 [inlined]",
      " [4] include_string(mapexpr::typeof(REPL.softscope), mod::Module, code::String, filename::String)",
      "   @ Base .\\loading.jl:1428"
     ]
    }
   ],
   "source": [
    "path = Vector{Vertex}(undef,length(ShortestPath)+1)\n",
    "for i in 1:(length(ShortestPath))\n",
    "    path[i] = g2.vertices[ShortestPath[i].src]\n",
    "end\n",
    "path[length(ShortestPath)+1] = g2.vertices[ShortestPath[length(ShortestPath)].dst]\n",
    "path"
   ]
  },
  {
   "cell_type": "code",
   "execution_count": 88,
   "id": "f9d90212-3cd0-401b-b56f-f56e69840476",
   "metadata": {},
   "outputs": [
    {
     "ename": "LoadError",
     "evalue": "BoundsError: attempt to access 3-element Vector{Vertex} at index [4]",
     "output_type": "error",
     "traceback": [
      "BoundsError: attempt to access 3-element Vector{Vertex} at index [4]",
      "",
      "Stacktrace:",
      " [1] getindex(A::Vector{Vertex}, i1::Int64)",
      "   @ Base .\\array.jl:924",
      " [2] top-level scope",
      "   @ In[88]:1",
      " [3] eval",
      "   @ .\\boot.jl:368 [inlined]",
      " [4] include_string(mapexpr::typeof(REPL.softscope), mod::Module, code::String, filename::String)",
      "   @ Base .\\loading.jl:1428"
     ]
    }
   ],
   "source": [
    "typeof(path[4])"
   ]
  },
  {
   "cell_type": "code",
   "execution_count": 89,
   "id": "ac282012-2071-4cd9-95f8-d69e48895378",
   "metadata": {},
   "outputs": [
    {
     "ename": "LoadError",
     "evalue": "UndefRefError: access to undefined reference",
     "output_type": "error",
     "traceback": [
      "UndefRefError: access to undefined reference",
      "",
      "Stacktrace:",
      " [1] getindex",
      "   @ .\\array.jl:924 [inlined]",
      " [2] arePathVerticesOnGraph(p::Vector{Vertex}, g::WeightedGraph)",
      "   @ Main.WeightedGraphs C:\\Users\\Camer\\Documents\\My-Repositories\\Sci-Comp-ShortestPath\\WeightedGraphs.jl:172",
      " [3] Path(p::Vector{Vertex}, g::WeightedGraph)",
      "   @ Main.WeightedGraphs C:\\Users\\Camer\\Documents\\My-Repositories\\Sci-Comp-ShortestPath\\WeightedGraphs.jl:136",
      " [4] top-level scope",
      "   @ In[89]:1",
      " [5] eval",
      "   @ .\\boot.jl:368 [inlined]",
      " [6] include_string(mapexpr::typeof(REPL.softscope), mod::Module, code::String, filename::String)",
      "   @ Base .\\loading.jl:1428"
     ]
    }
   ],
   "source": [
    "distance(Path(path,g2))"
   ]
  },
  {
   "cell_type": "code",
   "execution_count": 90,
   "id": "b158fe96-dd78-4914-a06e-6b0d52ca969c",
   "metadata": {},
   "outputs": [
    {
     "name": "stdout",
     "output_type": "stream",
     "text": [
      "search: \u001b[0m\u001b[1mp\u001b[22m\u001b[0m\u001b[1ml\u001b[22m\u001b[0m\u001b[1mo\u001b[22m\u001b[0m\u001b[1mt\u001b[22m\u001b[0m\u001b[1mW\u001b[22m\u001b[0m\u001b[1me\u001b[22m\u001b[0m\u001b[1mi\u001b[22m\u001b[0m\u001b[1mg\u001b[22m\u001b[0m\u001b[1mh\u001b[22m\u001b[0m\u001b[1mt\u001b[22m\u001b[0m\u001b[1me\u001b[22m\u001b[0m\u001b[1md\u001b[22m\u001b[0m\u001b[1mG\u001b[22m\u001b[0m\u001b[1mr\u001b[22m\u001b[0m\u001b[1ma\u001b[22m\u001b[0m\u001b[1mp\u001b[22m\u001b[0m\u001b[1mh\u001b[22m\n",
      "\n"
     ]
    },
    {
     "data": {
      "text/latex": [
       "Plots a \\texttt{WeightedGraph} with the vertices and edges labelled\n",
       "\n",
       "\\subsubsection{Example}\n",
       "\\begin{verbatim}\n",
       "g = WeightedGraph()\n",
       "v1 = Vertex(:a)\n",
       "v2 = Vertex(:b)\n",
       "v3 = Vertex(:c)\n",
       "addVertices!(g,v1,v2,v3)\n",
       "\n",
       "e1 = WeightedGraphs.Edge(:a,:b,3)\n",
       "e2 = WeightedGraphs.Edge(:a,:c,10)\n",
       "addEdges!(g,e1,e2)\n",
       "\n",
       "plotWeightedGraph(g)\n",
       "\\end{verbatim}\n"
      ],
      "text/markdown": [
       "Plots a `WeightedGraph` with the vertices and edges labelled\n",
       "\n",
       "### Example\n",
       "\n",
       "```\n",
       "g = WeightedGraph()\n",
       "v1 = Vertex(:a)\n",
       "v2 = Vertex(:b)\n",
       "v3 = Vertex(:c)\n",
       "addVertices!(g,v1,v2,v3)\n",
       "\n",
       "e1 = WeightedGraphs.Edge(:a,:b,3)\n",
       "e2 = WeightedGraphs.Edge(:a,:c,10)\n",
       "addEdges!(g,e1,e2)\n",
       "\n",
       "plotWeightedGraph(g)\n",
       "```\n"
      ],
      "text/plain": [
       "  Plots a \u001b[36mWeightedGraph\u001b[39m with the vertices and edges labelled\n",
       "\n",
       "\u001b[1m  Example\u001b[22m\n",
       "\u001b[1m  –––––––––\u001b[22m\n",
       "\n",
       "\u001b[36m  g = WeightedGraph()\u001b[39m\n",
       "\u001b[36m  v1 = Vertex(:a)\u001b[39m\n",
       "\u001b[36m  v2 = Vertex(:b)\u001b[39m\n",
       "\u001b[36m  v3 = Vertex(:c)\u001b[39m\n",
       "\u001b[36m  addVertices!(g,v1,v2,v3)\u001b[39m\n",
       "\u001b[36m  \u001b[39m\n",
       "\u001b[36m  e1 = WeightedGraphs.Edge(:a,:b,3)\u001b[39m\n",
       "\u001b[36m  e2 = WeightedGraphs.Edge(:a,:c,10)\u001b[39m\n",
       "\u001b[36m  addEdges!(g,e1,e2)\u001b[39m\n",
       "\u001b[36m  \u001b[39m\n",
       "\u001b[36m  plotWeightedGraph(g)\u001b[39m"
      ]
     },
     "execution_count": 90,
     "metadata": {},
     "output_type": "execute_result"
    }
   ],
   "source": [
    "?plotWeightedGraph"
   ]
  },
  {
   "cell_type": "code",
   "execution_count": 91,
   "id": "577d7b37-5951-4b84-a8fe-21dc12a161cd",
   "metadata": {},
   "outputs": [
    {
     "ename": "LoadError",
     "evalue": "MethodError: \u001b[0mCannot `convert` an object of type \u001b[92mNTuple{4, Symbol}\u001b[39m\u001b[0m to an object of type \u001b[91mSymbol\u001b[39m\n\u001b[0mClosest candidates are:\n\u001b[0m  convert(::Type, \u001b[91m::GeoInterface.AbstractGeometryTrait\u001b[39m, \u001b[91m::Any\u001b[39m) at C:\\Users\\Camer\\.julia\\packages\\GeoInterface\\J298z\\src\\fallbacks.jl:112\n\u001b[0m  convert(::Type{T}, \u001b[91m::T\u001b[39m) where T at Base.jl:61\n\u001b[0m  Symbol(::Any...) at strings/basic.jl:229",
     "output_type": "error",
     "traceback": [
      "MethodError: \u001b[0mCannot `convert` an object of type \u001b[92mNTuple{4, Symbol}\u001b[39m\u001b[0m to an object of type \u001b[91mSymbol\u001b[39m\n\u001b[0mClosest candidates are:\n\u001b[0m  convert(::Type, \u001b[91m::GeoInterface.AbstractGeometryTrait\u001b[39m, \u001b[91m::Any\u001b[39m) at C:\\Users\\Camer\\.julia\\packages\\GeoInterface\\J298z\\src\\fallbacks.jl:112\n\u001b[0m  convert(::Type{T}, \u001b[91m::T\u001b[39m) where T at Base.jl:61\n\u001b[0m  Symbol(::Any...) at strings/basic.jl:229",
      "",
      "Stacktrace:",
      " [1] Vertex(name::NTuple{4, Symbol})",
      "   @ Main.WeightedGraphs C:\\Users\\Camer\\Documents\\My-Repositories\\Sci-Comp-ShortestPath\\WeightedGraphs.jl:22",
      " [2] top-level scope",
      "   @ In[91]:1",
      " [3] eval",
      "   @ .\\boot.jl:368 [inlined]",
      " [4] include_string(mapexpr::typeof(REPL.softscope), mod::Module, code::String, filename::String)",
      "   @ Base .\\loading.jl:1428"
     ]
    }
   ],
   "source": [
    "p1 = Vertex((:a,:b,:c,:d))"
   ]
  },
  {
   "cell_type": "code",
   "execution_count": 92,
   "id": "90574f45-f0d6-41f7-a3cb-52331db2d68a",
   "metadata": {},
   "outputs": [
    {
     "data": {
      "text/plain": [
       "Vertex[A, B, C]"
      ]
     },
     "execution_count": 92,
     "metadata": {},
     "output_type": "execute_result"
    }
   ],
   "source": [
    "P1 = Path([v1,v2,v3],g)"
   ]
  },
  {
   "cell_type": "code",
   "execution_count": 93,
   "id": "3492f87c-7523-4916-9c07-97662a7b0d7d",
   "metadata": {},
   "outputs": [
    {
     "data": {
      "text/plain": [
       "Vertex[A, B, C]Main.WeightedGraphs.Edge[(:A, :B, 3), (:B, :C, 5), (:C, :A, 7)]"
      ]
     },
     "execution_count": 93,
     "metadata": {},
     "output_type": "execute_result"
    }
   ],
   "source": [
    "g"
   ]
  },
  {
   "cell_type": "code",
   "execution_count": 124,
   "id": "5fddddc8-fa0f-4b8b-afcc-f4d676a737e7",
   "metadata": {},
   "outputs": [
    {
     "ename": "LoadError",
     "evalue": "ArgumentError: The vertex with name a already exists.",
     "output_type": "error",
     "traceback": [
      "ArgumentError: The vertex with name a already exists.",
      "",
      "Stacktrace:",
      " [1] addVertex!(g::WeightedGraph, v::Vertex)",
      "   @ Main.WeightedGraphs C:\\Users\\Camer\\Documents\\My-Repositories\\Sci-Comp-ShortestPath\\WeightedGraphs.jl:406",
      " [2] addVertices!(::WeightedGraph, ::Vertex, ::Vertex, ::Vararg{Vertex})",
      "   @ Main.WeightedGraphs C:\\Users\\Camer\\Documents\\My-Repositories\\Sci-Comp-ShortestPath\\WeightedGraphs.jl:416",
      " [3] top-level scope",
      "   @ In[124]:5",
      " [4] eval",
      "   @ .\\boot.jl:368 [inlined]",
      " [5] include_string(mapexpr::typeof(REPL.softscope), mod::Module, code::String, filename::String)",
      "   @ Base .\\loading.jl:1428"
     ]
    }
   ],
   "source": [
    "g4 = WeightedGraph()\n",
    "V1 = Vertex(:a)\n",
    "V2 = Vertex(:b)\n",
    "V3 = Vertex(:c)\n",
    "addVertices!(g,V1,V2,V3)\n",
    "e_1 = WeightedGraph.Edge(:a,:b,3)\n",
    "e_2 = WeightedGraph.Edge(:a,:c,10)\n",
    "e_3 = WeightedGraph.Edge(:b,:c,7)\n",
    "addEdges!(g,e_1,e_2,e_3)\n",
    "solveTSP(g4)"
   ]
  },
  {
   "cell_type": "code",
   "execution_count": 95,
   "id": "1dc177f1-2772-46cb-83a5-b7f54c0c15a7",
   "metadata": {},
   "outputs": [
    {
     "name": "stdout",
     "output_type": "stream",
     "text": [
      "search: \u001b[0m\u001b[1mf\u001b[22m\u001b[0m\u001b[1mi\u001b[22m\u001b[0m\u001b[1mn\u001b[22m\u001b[0m\u001b[1md\u001b[22m\u001b[0m\u001b[1mS\u001b[22m\u001b[0m\u001b[1mh\u001b[22m\u001b[0m\u001b[1mo\u001b[22m\u001b[0m\u001b[1mr\u001b[22m\u001b[0m\u001b[1mt\u001b[22m\u001b[0m\u001b[1me\u001b[22m\u001b[0m\u001b[1ms\u001b[22m\u001b[0m\u001b[1mt\u001b[22m\u001b[0m\u001b[1mP\u001b[22m\u001b[0m\u001b[1ma\u001b[22m\u001b[0m\u001b[1mt\u001b[22m\u001b[0m\u001b[1mh\u001b[22m\n",
      "\n"
     ]
    },
    {
     "data": {
      "text/latex": [
       "Determines the shortest 'Path' around the specified \\texttt{WeightedGraph} from a specified starting vertex to a specified ending vertex. Takes a 'Vertex\" as a start, a 'Vertex' as a finish, and a 'WeightedGraph' as arguments.\n",
       "\n",
       "\\subsubsection{Example}\n",
       "\\begin{verbatim}\n",
       "g = WeightedGraph()\n",
       "v1 = Vertex(:a)\n",
       "v2 = Vertex(:b)\n",
       "v3 = Vertex(:c)\n",
       "addVertices!(g,v1,v2,v3)\n",
       "\n",
       "e1 = WeightedGraphs.Edge(:a,:b,3)\n",
       "e2 = WeightedGraphs.Edge(:a,:c,10)\n",
       "e3 = WeightedGraphs.Edge(:b,:c,5)\n",
       "addEdges!(g,e1,e2,e3)\n",
       "\n",
       "julia> findShortestPath(Vertex(:a),Vertex(:c),g)\n",
       "(Path = Vertex[a, b, c], Distance = 8)\n",
       "\\end{verbatim}\n"
      ],
      "text/markdown": [
       "Determines the shortest 'Path' around the specified `WeightedGraph` from a specified starting vertex to a specified ending vertex. Takes a 'Vertex\" as a start, a 'Vertex' as a finish, and a 'WeightedGraph' as arguments.\n",
       "\n",
       "### Example\n",
       "\n",
       "```\n",
       "g = WeightedGraph()\n",
       "v1 = Vertex(:a)\n",
       "v2 = Vertex(:b)\n",
       "v3 = Vertex(:c)\n",
       "addVertices!(g,v1,v2,v3)\n",
       "\n",
       "e1 = WeightedGraphs.Edge(:a,:b,3)\n",
       "e2 = WeightedGraphs.Edge(:a,:c,10)\n",
       "e3 = WeightedGraphs.Edge(:b,:c,5)\n",
       "addEdges!(g,e1,e2,e3)\n",
       "\n",
       "julia> findShortestPath(Vertex(:a),Vertex(:c),g)\n",
       "(Path = Vertex[a, b, c], Distance = 8)\n",
       "```\n"
      ],
      "text/plain": [
       "  Determines the shortest 'Path' around the specified \u001b[36mWeightedGraph\u001b[39m from a\n",
       "  specified starting vertex to a specified ending vertex. Takes a 'Vertex\" as\n",
       "  a start, a 'Vertex' as a finish, and a 'WeightedGraph' as arguments.\n",
       "\n",
       "\u001b[1m  Example\u001b[22m\n",
       "\u001b[1m  –––––––––\u001b[22m\n",
       "\n",
       "\u001b[36m  g = WeightedGraph()\u001b[39m\n",
       "\u001b[36m  v1 = Vertex(:a)\u001b[39m\n",
       "\u001b[36m  v2 = Vertex(:b)\u001b[39m\n",
       "\u001b[36m  v3 = Vertex(:c)\u001b[39m\n",
       "\u001b[36m  addVertices!(g,v1,v2,v3)\u001b[39m\n",
       "\u001b[36m  \u001b[39m\n",
       "\u001b[36m  e1 = WeightedGraphs.Edge(:a,:b,3)\u001b[39m\n",
       "\u001b[36m  e2 = WeightedGraphs.Edge(:a,:c,10)\u001b[39m\n",
       "\u001b[36m  e3 = WeightedGraphs.Edge(:b,:c,5)\u001b[39m\n",
       "\u001b[36m  addEdges!(g,e1,e2,e3)\u001b[39m\n",
       "\u001b[36m  \u001b[39m\n",
       "\u001b[36m  julia> findShortestPath(Vertex(:a),Vertex(:c),g)\u001b[39m\n",
       "\u001b[36m  (Path = Vertex[a, b, c], Distance = 8)\u001b[39m"
      ]
     },
     "execution_count": 95,
     "metadata": {},
     "output_type": "execute_result"
    }
   ],
   "source": [
    "?findShortestPath"
   ]
  },
  {
   "cell_type": "code",
   "execution_count": 100,
   "id": "d10494e6-f260-4fe9-8e9a-1a3049d5a001",
   "metadata": {},
   "outputs": [
    {
     "data": {
      "image/svg+xml": [
       "<?xml version=\"1.0\" encoding=\"utf-8\"?>\n",
       "<svg xmlns=\"http://www.w3.org/2000/svg\" xmlns:xlink=\"http://www.w3.org/1999/xlink\" width=\"600\" height=\"400\" viewBox=\"0 0 2400 1600\">\n",
       "<defs>\n",
       "  <clipPath id=\"clip790\">\n",
       "    <rect x=\"0\" y=\"0\" width=\"2400\" height=\"1600\"/>\n",
       "  </clipPath>\n",
       "</defs>\n",
       "<path clip-path=\"url(#clip790)\" d=\"\n",
       "M0 1600 L2400 1600 L2400 0 L0 0  Z\n",
       "  \" fill=\"#ffffff\" fill-rule=\"evenodd\" fill-opacity=\"1\"/>\n",
       "<defs>\n",
       "  <clipPath id=\"clip791\">\n",
       "    <rect x=\"480\" y=\"0\" width=\"1681\" height=\"1600\"/>\n",
       "  </clipPath>\n",
       "</defs>\n",
       "<path clip-path=\"url(#clip790)\" d=\"\n",
       "M447.244 1552.76 L1952.76 1552.76 L1952.76 47.2441 L447.244 47.2441  Z\n",
       "  \" fill=\"#ffffff\" fill-rule=\"evenodd\" fill-opacity=\"1\"/>\n",
       "<defs>\n",
       "  <clipPath id=\"clip792\">\n",
       "    <rect x=\"447\" y=\"47\" width=\"1507\" height=\"1507\"/>\n",
       "  </clipPath>\n",
       "</defs>\n",
       "<polyline clip-path=\"url(#clip792)\" style=\"stroke:#000000; stroke-linecap:round; stroke-linejoin:round; stroke-width:4; stroke-opacity:1; fill:none\" points=\"\n",
       "  675.55,1064.68 1062.83,806.579 \n",
       "  \"/>\n",
       "<polyline clip-path=\"url(#clip792)\" style=\"stroke:#000000; stroke-linecap:round; stroke-linejoin:round; stroke-width:4; stroke-opacity:1; fill:none\" points=\"\n",
       "  675.55,1064.68 662.317,566.574 \n",
       "  \"/>\n",
       "<polyline clip-path=\"url(#clip792)\" style=\"stroke:#000000; stroke-linecap:round; stroke-linejoin:round; stroke-width:4; stroke-opacity:1; fill:none\" points=\"\n",
       "  1062.83,806.579 662.317,566.574 \n",
       "  \"/>\n",
       "<path clip-path=\"url(#clip792)\" d=\"\n",
       "M846.608 971.761 L891.773 971.761 L891.773 899.497 L846.608 899.497 L846.608 971.761 L846.608 971.761  Z\n",
       "  \" fill=\"#ffffff\" fill-rule=\"evenodd\" fill-opacity=\"1\"/>\n",
       "<polyline clip-path=\"url(#clip792)\" style=\"stroke:#000000; stroke-linecap:round; stroke-linejoin:round; stroke-width:0; stroke-opacity:0; fill:none\" points=\"\n",
       "  846.608,971.761 891.773,971.761 891.773,899.497 846.608,899.497 846.608,971.761 \n",
       "  \"/>\n",
       "<path clip-path=\"url(#clip792)\" d=\"\n",
       "M839.991 722.708 L885.157 722.708 L885.157 650.444 L839.991 650.444 L839.991 722.708 L839.991 722.708  Z\n",
       "  \" fill=\"#ffffff\" fill-rule=\"evenodd\" fill-opacity=\"1\"/>\n",
       "<polyline clip-path=\"url(#clip792)\" style=\"stroke:#000000; stroke-linecap:round; stroke-linejoin:round; stroke-width:0; stroke-opacity:0; fill:none\" points=\"\n",
       "  839.991,722.708 885.157,722.708 885.157,650.444 839.991,650.444 839.991,722.708 \n",
       "  \"/>\n",
       "<path clip-path=\"url(#clip792)\" d=\"\n",
       "M699.639 1064.68 L687.594 1043.82 L663.506 1043.82 L651.462 1064.68 L663.506 1085.54 L687.594 1085.54 L699.639 1064.68 L699.639 1064.68  Z\n",
       "  \" fill=\"#009af9\" fill-rule=\"evenodd\" fill-opacity=\"1\"/>\n",
       "<polyline clip-path=\"url(#clip792)\" style=\"stroke:#000000; stroke-linecap:round; stroke-linejoin:round; stroke-width:4; stroke-opacity:1; fill:none\" points=\"\n",
       "  699.639,1064.68 687.594,1043.82 663.506,1043.82 651.462,1064.68 663.506,1085.54 687.594,1085.54 699.639,1064.68 \n",
       "  \"/>\n",
       "<path clip-path=\"url(#clip792)\" d=\"\n",
       "M1086.92 806.579 L1074.88 785.718 L1050.79 785.718 L1038.74 806.579 L1050.79 827.439 L1074.88 827.439 L1086.92 806.579 L1086.92 806.579  Z\n",
       "  \" fill=\"#009af9\" fill-rule=\"evenodd\" fill-opacity=\"1\"/>\n",
       "<polyline clip-path=\"url(#clip792)\" style=\"stroke:#000000; stroke-linecap:round; stroke-linejoin:round; stroke-width:4; stroke-opacity:1; fill:none\" points=\"\n",
       "  1086.92,806.579 1074.88,785.718 1050.79,785.718 1038.74,806.579 1050.79,827.439 1074.88,827.439 1086.92,806.579 \n",
       "  \"/>\n",
       "<path clip-path=\"url(#clip792)\" d=\"\n",
       "M686.405 566.574 L674.361 545.713 L650.273 545.713 L638.229 566.574 L650.273 587.435 L674.361 587.435 L686.405 566.574 L686.405 566.574  Z\n",
       "  \" fill=\"#009af9\" fill-rule=\"evenodd\" fill-opacity=\"1\"/>\n",
       "<polyline clip-path=\"url(#clip792)\" style=\"stroke:#000000; stroke-linecap:round; stroke-linejoin:round; stroke-width:4; stroke-opacity:1; fill:none\" points=\"\n",
       "  686.405,566.574 674.361,545.713 650.273,545.713 638.229,566.574 650.273,587.435 674.361,587.435 686.405,566.574 \n",
       "  \"/>\n",
       "<path clip-path=\"url(#clip792)\" d=\"\n",
       "M1761.77 791.094 L1749.73 770.233 L1725.64 770.233 L1713.59 791.094 L1725.64 811.955 L1749.73 811.955 L1761.77 791.094 L1761.77 791.094  Z\n",
       "  \" fill=\"#009af9\" fill-rule=\"evenodd\" fill-opacity=\"1\"/>\n",
       "<polyline clip-path=\"url(#clip792)\" style=\"stroke:#000000; stroke-linecap:round; stroke-linejoin:round; stroke-width:4; stroke-opacity:1; fill:none\" points=\"\n",
       "  1761.77,791.094 1749.73,770.233 1725.64,770.233 1713.59,791.094 1725.64,811.955 1749.73,811.955 1761.77,791.094 \n",
       "  \"/>\n",
       "<path clip-path=\"url(#clip792)\" d=\"\n",
       "M1387.99 1337.68 L1375.94 1316.82 L1351.85 1316.82 L1339.81 1337.68 L1351.85 1358.54 L1375.94 1358.54 L1387.99 1337.68 L1387.99 1337.68  Z\n",
       "  \" fill=\"#009af9\" fill-rule=\"evenodd\" fill-opacity=\"1\"/>\n",
       "<polyline clip-path=\"url(#clip792)\" style=\"stroke:#000000; stroke-linecap:round; stroke-linejoin:round; stroke-width:4; stroke-opacity:1; fill:none\" points=\"\n",
       "  1387.99,1337.68 1375.94,1316.82 1351.85,1316.82 1339.81,1337.68 1351.85,1358.54 1375.94,1358.54 1387.99,1337.68 \n",
       "  \"/>\n",
       "<path clip-path=\"url(#clip792)\" d=\"\n",
       "M1359.43 262.317 L1347.39 241.456 L1323.3 241.456 L1311.25 262.317 L1323.3 283.178 L1347.39 283.178 L1359.43 262.317 L1359.43 262.317  Z\n",
       "  \" fill=\"#009af9\" fill-rule=\"evenodd\" fill-opacity=\"1\"/>\n",
       "<polyline clip-path=\"url(#clip792)\" style=\"stroke:#000000; stroke-linecap:round; stroke-linejoin:round; stroke-width:4; stroke-opacity:1; fill:none\" points=\"\n",
       "  1359.43,262.317 1347.39,241.456 1323.3,241.456 1311.25,262.317 1323.3,283.178 1347.39,283.178 1359.43,262.317 \n",
       "  \"/>\n",
       "<path clip-path=\"url(#clip792)\" d=\"M675.55 1065.08 L675.204 1064.88 L675.204 1064.48 L675.55 1064.28 L675.897 1064.48 L675.897 1064.88 Z\" fill=\"#009af9\" fill-rule=\"evenodd\" fill-opacity=\"1\" stroke=\"#000000\" stroke-opacity=\"1\" stroke-width=\"3.2\"/>\n",
       "<path clip-path=\"url(#clip792)\" d=\"M1062.83 806.979 L1062.48 806.779 L1062.48 806.379 L1062.83 806.179 L1063.18 806.379 L1063.18 806.779 Z\" fill=\"#009af9\" fill-rule=\"evenodd\" fill-opacity=\"1\" stroke=\"#000000\" stroke-opacity=\"1\" stroke-width=\"3.2\"/>\n",
       "<path clip-path=\"url(#clip792)\" d=\"M662.317 566.974 L661.971 566.774 L661.971 566.374 L662.317 566.174 L662.664 566.374 L662.664 566.774 Z\" fill=\"#009af9\" fill-rule=\"evenodd\" fill-opacity=\"1\" stroke=\"#000000\" stroke-opacity=\"1\" stroke-width=\"3.2\"/>\n",
       "<path clip-path=\"url(#clip792)\" d=\"M1737.68 791.494 L1737.34 791.294 L1737.34 790.894 L1737.68 790.694 L1738.03 790.894 L1738.03 791.294 Z\" fill=\"#009af9\" fill-rule=\"evenodd\" fill-opacity=\"1\" stroke=\"#000000\" stroke-opacity=\"1\" stroke-width=\"3.2\"/>\n",
       "<path clip-path=\"url(#clip792)\" d=\"M1363.9 1338.08 L1363.55 1337.88 L1363.55 1337.48 L1363.9 1337.28 L1364.24 1337.48 L1364.24 1337.88 Z\" fill=\"#009af9\" fill-rule=\"evenodd\" fill-opacity=\"1\" stroke=\"#000000\" stroke-opacity=\"1\" stroke-width=\"3.2\"/>\n",
       "<path clip-path=\"url(#clip792)\" d=\"M1335.34 262.717 L1335 262.517 L1335 262.117 L1335.34 261.917 L1335.69 262.117 L1335.69 262.517 Z\" fill=\"#009af9\" fill-rule=\"evenodd\" fill-opacity=\"1\" stroke=\"#000000\" stroke-opacity=\"1\" stroke-width=\"3.2\"/>\n",
       "<path clip-path=\"url(#clip790)\" d=\"M872.907 934.444 Q875.844 935.072 877.485 937.057 Q879.146 939.042 879.146 941.959 Q879.146 946.435 876.067 948.886 Q872.988 951.337 867.317 951.337 Q865.413 951.337 863.388 950.952 Q861.383 950.587 859.236 949.838 L859.236 945.888 Q860.937 946.881 862.962 947.387 Q864.988 947.893 867.196 947.893 Q871.044 947.893 873.049 946.374 Q875.075 944.855 875.075 941.959 Q875.075 939.285 873.191 937.786 Q871.328 936.267 867.986 936.267 L864.461 936.267 L864.461 932.905 L868.148 932.905 Q871.166 932.905 872.766 931.71 Q874.366 930.495 874.366 928.226 Q874.366 925.897 872.705 924.661 Q871.064 923.406 867.986 923.406 Q866.304 923.406 864.38 923.77 Q862.456 924.135 860.147 924.904 L860.147 921.259 Q862.476 920.61 864.502 920.286 Q866.547 919.962 868.35 919.962 Q873.009 919.962 875.723 922.089 Q878.437 924.196 878.437 927.801 Q878.437 930.312 876.999 932.054 Q875.561 933.776 872.907 934.444 Z\" fill=\"#000000\" fill-rule=\"evenodd\" fill-opacity=\"1\" /><path clip-path=\"url(#clip790)\" d=\"M854.067 671.456 L870.129 671.456 L870.129 674.899 L857.814 674.899 L857.814 682.313 Q858.706 682.009 859.597 681.867 Q860.488 681.705 861.379 681.705 Q866.443 681.705 869.4 684.48 Q872.357 687.255 872.357 691.994 Q872.357 696.876 869.319 699.59 Q866.281 702.283 860.751 702.283 Q858.847 702.283 856.862 701.959 Q854.898 701.635 852.791 700.987 L852.791 696.876 Q854.614 697.868 856.559 698.354 Q858.503 698.84 860.67 698.84 Q864.174 698.84 866.22 696.997 Q868.266 695.154 868.266 691.994 Q868.266 688.834 866.22 686.991 Q864.174 685.148 860.67 685.148 Q859.03 685.148 857.389 685.513 Q855.769 685.877 854.067 686.647 L854.067 671.456 Z\" fill=\"#000000\" fill-rule=\"evenodd\" fill-opacity=\"1\" /><path clip-path=\"url(#clip790)\" d=\"M675.55 1053.59 L670.001 1068.64 L681.12 1068.64 L675.55 1053.59 M673.241 1049.56 L677.88 1049.56 L689.404 1079.8 L685.151 1079.8 L682.396 1072.04 L668.765 1072.04 L666.01 1079.8 L661.696 1079.8 L673.241 1049.56 Z\" fill=\"#000000\" fill-rule=\"evenodd\" fill-opacity=\"1\" /><path clip-path=\"url(#clip790)\" d=\"M1056.2 807.257 L1056.2 818.336 L1062.76 818.336 Q1066.06 818.336 1067.64 816.979 Q1069.24 815.602 1069.24 812.787 Q1069.24 809.951 1067.64 808.614 Q1066.06 807.257 1062.76 807.257 L1056.2 807.257 M1056.2 794.821 L1056.2 803.935 L1062.25 803.935 Q1065.25 803.935 1066.71 802.821 Q1068.19 801.687 1068.19 799.378 Q1068.19 797.089 1066.71 795.955 Q1065.25 794.821 1062.25 794.821 L1056.2 794.821 M1052.11 791.459 L1062.56 791.459 Q1067.24 791.459 1069.77 793.403 Q1072.3 795.347 1072.3 798.932 Q1072.3 801.707 1071 803.348 Q1069.71 804.989 1067.2 805.394 Q1070.21 806.042 1071.87 808.108 Q1073.56 810.153 1073.56 813.232 Q1073.56 817.283 1070.8 819.491 Q1068.05 821.699 1062.96 821.699 L1052.11 821.699 L1052.11 791.459 Z\" fill=\"#000000\" fill-rule=\"evenodd\" fill-opacity=\"1\" /><path clip-path=\"url(#clip790)\" d=\"M674.51 553.783 L674.51 558.097 Q672.444 556.173 670.095 555.221 Q667.766 554.269 665.133 554.269 Q659.947 554.269 657.193 557.449 Q654.438 560.609 654.438 566.604 Q654.438 572.579 657.193 575.759 Q659.947 578.919 665.133 578.919 Q667.766 578.919 670.095 577.967 Q672.444 577.015 674.51 575.091 L674.51 579.364 Q672.363 580.823 669.953 581.552 Q667.563 582.281 664.89 582.281 Q658.023 582.281 654.074 578.088 Q650.124 573.875 650.124 566.604 Q650.124 559.312 654.074 555.12 Q658.023 550.907 664.89 550.907 Q667.604 550.907 669.994 551.636 Q672.404 552.345 674.51 553.783 Z\" fill=\"#000000\" fill-rule=\"evenodd\" fill-opacity=\"1\" /><path clip-path=\"url(#clip790)\" d=\"M1739.83 794.811 Q1735.31 794.811 1733.57 795.844 Q1731.83 796.877 1731.83 799.368 Q1731.83 801.353 1733.13 802.528 Q1734.44 803.682 1736.69 803.682 Q1739.79 803.682 1741.65 801.495 Q1743.54 799.287 1743.54 795.641 L1743.54 794.811 L1739.83 794.811 M1747.26 793.271 L1747.26 806.214 L1743.54 806.214 L1743.54 802.771 Q1742.26 804.837 1740.36 805.829 Q1738.45 806.801 1735.7 806.801 Q1732.21 806.801 1730.15 804.857 Q1728.1 802.892 1728.1 799.611 Q1728.1 795.783 1730.65 793.839 Q1733.23 791.894 1738.31 791.894 L1743.54 791.894 L1743.54 791.53 Q1743.54 788.957 1741.83 787.56 Q1740.15 786.142 1737.1 786.142 Q1735.15 786.142 1733.31 786.608 Q1731.46 787.074 1729.76 788.005 L1729.76 784.562 Q1731.81 783.772 1733.73 783.387 Q1735.66 782.982 1737.48 782.982 Q1742.4 782.982 1744.83 785.534 Q1747.26 788.086 1747.26 793.271 Z\" fill=\"#000000\" fill-rule=\"evenodd\" fill-opacity=\"1\" /><path clip-path=\"url(#clip790)\" d=\"M1370.18 1341.48 Q1370.18 1337.37 1368.47 1335.04 Q1366.79 1332.69 1363.84 1332.69 Q1360.88 1332.69 1359.18 1335.04 Q1357.5 1337.37 1357.5 1341.48 Q1357.5 1345.59 1359.18 1347.94 Q1360.88 1350.27 1363.84 1350.27 Q1366.79 1350.27 1368.47 1347.94 Q1370.18 1345.59 1370.18 1341.48 M1357.5 1333.56 Q1358.67 1331.54 1360.45 1330.56 Q1362.26 1329.57 1364.75 1329.57 Q1368.88 1329.57 1371.45 1332.85 Q1374.04 1336.13 1374.04 1341.48 Q1374.04 1346.83 1371.45 1350.11 Q1368.88 1353.39 1364.75 1353.39 Q1362.26 1353.39 1360.45 1352.42 Q1358.67 1351.43 1357.5 1349.4 L1357.5 1352.8 L1353.75 1352.8 L1353.75 1321.29 L1357.5 1321.29 L1357.5 1333.56 Z\" fill=\"#000000\" fill-rule=\"evenodd\" fill-opacity=\"1\" /><path clip-path=\"url(#clip790)\" d=\"M1344.32 255.623 L1344.32 259.107 Q1342.74 258.236 1341.14 257.811 Q1339.56 257.365 1337.94 257.365 Q1334.31 257.365 1332.3 259.674 Q1330.3 261.963 1330.3 266.115 Q1330.3 270.267 1332.3 272.576 Q1334.31 274.865 1337.94 274.865 Q1339.56 274.865 1341.14 274.44 Q1342.74 273.994 1344.32 273.123 L1344.32 276.566 Q1342.76 277.295 1341.07 277.66 Q1339.41 278.025 1337.53 278.025 Q1332.41 278.025 1329.39 274.804 Q1326.37 271.584 1326.37 266.115 Q1326.37 260.565 1329.41 257.385 Q1332.47 254.205 1337.77 254.205 Q1339.49 254.205 1341.14 254.57 Q1342.78 254.914 1344.32 255.623 Z\" fill=\"#000000\" fill-rule=\"evenodd\" fill-opacity=\"1\" /></svg>\n"
      ]
     },
     "execution_count": 100,
     "metadata": {},
     "output_type": "execute_result"
    }
   ],
   "source": [
    "f = plotWeightedGraph(g)"
   ]
  },
  {
   "cell_type": "code",
   "execution_count": 101,
   "id": "de3f7f75-5172-45a3-9069-21f0b86a2757",
   "metadata": {},
   "outputs": [
    {
     "name": "stdout",
     "output_type": "stream",
     "text": [
      "\u001b[91m\u001b[1mError During Test\u001b[22m\u001b[39m at \u001b[39m\u001b[1mIn[101]:2\u001b[22m\n",
      "  Test threw exception\n",
      "  Expression: f isa plot\n",
      "  TypeError: in isa, expected Type, got a value of type typeof(plot)\n",
      "  Stacktrace:\n",
      "    [1] \u001b[0m\u001b[1meval_test\u001b[22m\u001b[0m\u001b[1m(\u001b[22m\u001b[90mevaluated\u001b[39m::\u001b[0mExpr, \u001b[90mquoted\u001b[39m::\u001b[0mExpr, \u001b[90msource\u001b[39m::\u001b[0mLineNumberNode, \u001b[90mnegate\u001b[39m::\u001b[0mBool\u001b[0m\u001b[1m)\u001b[22m\n",
      "  \u001b[90m    @ \u001b[39m\u001b[35mTest\u001b[39m \u001b[90mC:\\Users\\Camer\\AppData\\Local\\Programs\\Julia-1.8.0\\share\\julia\\stdlib\\v1.8\\Test\\src\\\u001b[39m\u001b[90m\u001b[4mTest.jl:307\u001b[24m\u001b[39m\n",
      "    [2] top-level scope\n",
      "  \u001b[90m    @ \u001b[39m\u001b[90mC:\\Users\\Camer\\AppData\\Local\\Programs\\Julia-1.8.0\\share\\julia\\stdlib\\v1.8\\Test\\src\\\u001b[39m\u001b[90m\u001b[4mTest.jl:464\u001b[24m\u001b[39m\n",
      "    [3] \u001b[0m\u001b[1meval\u001b[22m\n",
      "  \u001b[90m    @ \u001b[39m\u001b[90m.\\\u001b[39m\u001b[90m\u001b[4mboot.jl:368\u001b[24m\u001b[39m\u001b[90m [inlined]\u001b[39m\n",
      "    [4] \u001b[0m\u001b[1minclude_string\u001b[22m\u001b[0m\u001b[1m(\u001b[22m\u001b[90mmapexpr\u001b[39m::\u001b[0mtypeof(REPL.softscope), \u001b[90mmod\u001b[39m::\u001b[0mModule, \u001b[90mcode\u001b[39m::\u001b[0mString, \u001b[90mfilename\u001b[39m::\u001b[0mString\u001b[0m\u001b[1m)\u001b[22m\n",
      "  \u001b[90m    @ \u001b[39m\u001b[90mBase\u001b[39m \u001b[90m.\\\u001b[39m\u001b[90m\u001b[4mloading.jl:1428\u001b[24m\u001b[39m\n",
      "    [5] \u001b[0m\u001b[1msoftscope_include_string\u001b[22m\u001b[0m\u001b[1m(\u001b[22m\u001b[90mm\u001b[39m::\u001b[0mModule, \u001b[90mcode\u001b[39m::\u001b[0mString, \u001b[90mfilename\u001b[39m::\u001b[0mString\u001b[0m\u001b[1m)\u001b[22m\n",
      "  \u001b[90m    @ \u001b[39m\u001b[36mSoftGlobalScope\u001b[39m \u001b[90mC:\\Users\\Camer\\.julia\\packages\\SoftGlobalScope\\u4UzH\\src\\\u001b[39m\u001b[90m\u001b[4mSoftGlobalScope.jl:65\u001b[24m\u001b[39m\n",
      "    [6] \u001b[0m\u001b[1mexecute_request\u001b[22m\u001b[0m\u001b[1m(\u001b[22m\u001b[90msocket\u001b[39m::\u001b[0mZMQ.Socket, \u001b[90mmsg\u001b[39m::\u001b[0mIJulia.Msg\u001b[0m\u001b[1m)\u001b[22m\n",
      "  \u001b[90m    @ \u001b[39m\u001b[32mIJulia\u001b[39m \u001b[90mC:\\Users\\Camer\\.julia\\packages\\IJulia\\AQu2H\\src\\\u001b[39m\u001b[90m\u001b[4mexecute_request.jl:67\u001b[24m\u001b[39m\n",
      "    [7] \u001b[0m\u001b[1m#invokelatest#2\u001b[22m\n",
      "  \u001b[90m    @ \u001b[39m\u001b[90m.\\\u001b[39m\u001b[90m\u001b[4messentials.jl:729\u001b[24m\u001b[39m\u001b[90m [inlined]\u001b[39m\n",
      "    [8] \u001b[0m\u001b[1minvokelatest\u001b[22m\n",
      "  \u001b[90m    @ \u001b[39m\u001b[90m.\\\u001b[39m\u001b[90m\u001b[4messentials.jl:726\u001b[24m\u001b[39m\u001b[90m [inlined]\u001b[39m\n",
      "    [9] \u001b[0m\u001b[1meventloop\u001b[22m\u001b[0m\u001b[1m(\u001b[22m\u001b[90msocket\u001b[39m::\u001b[0mZMQ.Socket\u001b[0m\u001b[1m)\u001b[22m\n",
      "  \u001b[90m    @ \u001b[39m\u001b[32mIJulia\u001b[39m \u001b[90mC:\\Users\\Camer\\.julia\\packages\\IJulia\\AQu2H\\src\\\u001b[39m\u001b[90m\u001b[4meventloop.jl:8\u001b[24m\u001b[39m\n",
      "   [10] \u001b[0m\u001b[1m(::IJulia.var\"#15#18\")\u001b[22m\u001b[0m\u001b[1m(\u001b[22m\u001b[0m\u001b[1m)\u001b[22m\n",
      "  \u001b[90m    @ \u001b[39m\u001b[32mIJulia\u001b[39m \u001b[90m.\\\u001b[39m\u001b[90m\u001b[4mtask.jl:484\u001b[24m\u001b[39m\n"
     ]
    },
    {
     "ename": "LoadError",
     "evalue": "\u001b[91mThere was an error during testing\u001b[39m",
     "output_type": "error",
     "traceback": [
      "\u001b[91mThere was an error during testing\u001b[39m",
      "",
      "Stacktrace:",
      " [1] record(ts::Test.FallbackTestSet, t::Union{Test.Error, Test.Fail})",
      "   @ Test C:\\Users\\Camer\\AppData\\Local\\Programs\\Julia-1.8.0\\share\\julia\\stdlib\\v1.8\\Test\\src\\Test.jl:943",
      " [2] do_test(result::Test.ExecutionResult, orig_expr::Any)",
      "   @ Test C:\\Users\\Camer\\AppData\\Local\\Programs\\Julia-1.8.0\\share\\julia\\stdlib\\v1.8\\Test\\src\\Test.jl:656",
      " [3] top-level scope",
      "   @ C:\\Users\\Camer\\AppData\\Local\\Programs\\Julia-1.8.0\\share\\julia\\stdlib\\v1.8\\Test\\src\\Test.jl:464",
      " [4] eval",
      "   @ .\\boot.jl:368 [inlined]",
      " [5] include_string(mapexpr::typeof(REPL.softscope), mod::Module, code::String, filename::String)",
      "   @ Base .\\loading.jl:1428"
     ]
    }
   ],
   "source": [
    "using Test\n",
    "@test isa(f, plot)"
   ]
  },
  {
   "cell_type": "code",
   "execution_count": 103,
   "id": "7169bd4c-fb99-4e0b-89de-97c9ede80479",
   "metadata": {},
   "outputs": [
    {
     "data": {},
     "execution_count": 103,
     "metadata": {},
     "output_type": "execute_result"
    }
   ],
   "source": [
    "typeof(plotWeightedGraph(g))"
   ]
  },
  {
   "cell_type": "code",
   "execution_count": 104,
   "id": "699c2b71-0457-47c8-b8b7-b8f780f891c8",
   "metadata": {},
   "outputs": [
    {
     "data": {
      "text/plain": [
       "\u001b[32m\u001b[1mTest Passed\u001b[22m\u001b[39m"
      ]
     },
     "execution_count": 104,
     "metadata": {},
     "output_type": "execute_result"
    }
   ],
   "source": [
    "@test isa(f, typeof(plotWeightedGraph(g)))"
   ]
  },
  {
   "cell_type": "code",
   "execution_count": 122,
   "id": "68ad6096-346a-4a98-921d-0897d66575d0",
   "metadata": {},
   "outputs": [],
   "source": [
    "g2 = WeightedGraph()\n",
    "addVertices!(g2,v1,v2)\n",
    "addEdges!(g2,e1)"
   ]
  },
  {
   "cell_type": "code",
   "execution_count": 120,
   "id": "2a507e68-8cda-4573-85b1-1a3fe4a8d454",
   "metadata": {},
   "outputs": [
    {
     "data": {
      "text/plain": [
       "Vertex[A, B]Main.WeightedGraphs.Edge[(:A, :B, 3)]"
      ]
     },
     "execution_count": 120,
     "metadata": {},
     "output_type": "execute_result"
    }
   ],
   "source": [
    "g2"
   ]
  },
  {
   "cell_type": "code",
   "execution_count": 123,
   "id": "babd12d8-352a-48f3-8a0b-bec437cd9cf0",
   "metadata": {},
   "outputs": [
    {
     "data": {
      "image/svg+xml": [
       "<?xml version=\"1.0\" encoding=\"utf-8\"?>\n",
       "<svg xmlns=\"http://www.w3.org/2000/svg\" xmlns:xlink=\"http://www.w3.org/1999/xlink\" width=\"600\" height=\"400\" viewBox=\"0 0 2400 1600\">\n",
       "<defs>\n",
       "  <clipPath id=\"clip850\">\n",
       "    <rect x=\"0\" y=\"0\" width=\"2400\" height=\"1600\"/>\n",
       "  </clipPath>\n",
       "</defs>\n",
       "<path clip-path=\"url(#clip850)\" d=\"\n",
       "M0 1600 L2400 1600 L2400 0 L0 0  Z\n",
       "  \" fill=\"#ffffff\" fill-rule=\"evenodd\" fill-opacity=\"1\"/>\n",
       "<defs>\n",
       "  <clipPath id=\"clip851\">\n",
       "    <rect x=\"480\" y=\"0\" width=\"1681\" height=\"1600\"/>\n",
       "  </clipPath>\n",
       "</defs>\n",
       "<path clip-path=\"url(#clip850)\" d=\"\n",
       "M447.244 1552.76 L1952.76 1552.76 L1952.76 47.2441 L447.244 47.2441  Z\n",
       "  \" fill=\"#ffffff\" fill-rule=\"evenodd\" fill-opacity=\"1\"/>\n",
       "<defs>\n",
       "  <clipPath id=\"clip852\">\n",
       "    <rect x=\"447\" y=\"47\" width=\"1507\" height=\"1507\"/>\n",
       "  </clipPath>\n",
       "</defs>\n",
       "<polyline clip-path=\"url(#clip852)\" style=\"stroke:#000000; stroke-linecap:round; stroke-linejoin:round; stroke-width:4; stroke-opacity:1; fill:none\" points=\"\n",
       "  1737.68,262.317 662.317,1337.68 \n",
       "  \"/>\n",
       "<path clip-path=\"url(#clip852)\" d=\"\n",
       "M1177.42 836.132 L1222.58 836.132 L1222.58 763.868 L1177.42 763.868 L1177.42 836.132 L1177.42 836.132  Z\n",
       "  \" fill=\"#ffffff\" fill-rule=\"evenodd\" fill-opacity=\"1\"/>\n",
       "<polyline clip-path=\"url(#clip852)\" style=\"stroke:#000000; stroke-linecap:round; stroke-linejoin:round; stroke-width:0; stroke-opacity:0; fill:none\" points=\"\n",
       "  1177.42,836.132 1222.58,836.132 1222.58,763.868 1177.42,763.868 1177.42,836.132 \n",
       "  \"/>\n",
       "<path clip-path=\"url(#clip852)\" d=\"\n",
       "M1791.88 262.317 L1764.78 215.38 L1710.58 215.38 L1683.48 262.317 L1710.58 309.254 L1764.78 309.254 L1791.88 262.317 L1791.88 262.317  Z\n",
       "  \" fill=\"#009af9\" fill-rule=\"evenodd\" fill-opacity=\"1\"/>\n",
       "<polyline clip-path=\"url(#clip852)\" style=\"stroke:#000000; stroke-linecap:round; stroke-linejoin:round; stroke-width:4; stroke-opacity:1; fill:none\" points=\"\n",
       "  1791.88,262.317 1764.78,215.38 1710.58,215.38 1683.48,262.317 1710.58,309.254 1764.78,309.254 1791.88,262.317 \n",
       "  \"/>\n",
       "<path clip-path=\"url(#clip852)\" d=\"\n",
       "M716.516 1337.68 L689.416 1290.75 L635.218 1290.75 L608.119 1337.68 L635.218 1384.62 L689.416 1384.62 L716.516 1337.68 L716.516 1337.68  Z\n",
       "  \" fill=\"#009af9\" fill-rule=\"evenodd\" fill-opacity=\"1\"/>\n",
       "<polyline clip-path=\"url(#clip852)\" style=\"stroke:#000000; stroke-linecap:round; stroke-linejoin:round; stroke-width:4; stroke-opacity:1; fill:none\" points=\"\n",
       "  716.516,1337.68 689.416,1290.75 635.218,1290.75 608.119,1337.68 635.218,1384.62 689.416,1384.62 716.516,1337.68 \n",
       "  \"/>\n",
       "<path clip-path=\"url(#clip852)\" d=\"M1737.68 262.717 L1737.34 262.517 L1737.34 262.117 L1737.68 261.917 L1738.03 262.117 L1738.03 262.517 Z\" fill=\"#009af9\" fill-rule=\"evenodd\" fill-opacity=\"1\" stroke=\"#000000\" stroke-opacity=\"1\" stroke-width=\"3.2\"/>\n",
       "<path clip-path=\"url(#clip852)\" d=\"M662.317 1338.08 L661.971 1337.88 L661.971 1337.48 L662.317 1337.28 L662.664 1337.48 L662.664 1337.88 Z\" fill=\"#009af9\" fill-rule=\"evenodd\" fill-opacity=\"1\" stroke=\"#000000\" stroke-opacity=\"1\" stroke-width=\"3.2\"/>\n",
       "<path clip-path=\"url(#clip850)\" d=\"M1203.72 798.815 Q1206.65 799.443 1208.29 801.428 Q1209.96 803.413 1209.96 806.33 Q1209.96 810.806 1206.88 813.257 Q1203.8 815.707 1198.13 815.707 Q1196.22 815.707 1194.2 815.323 Q1192.19 814.958 1190.04 814.209 L1190.04 810.259 Q1191.75 811.251 1193.77 811.758 Q1195.8 812.264 1198 812.264 Q1201.85 812.264 1203.86 810.745 Q1205.88 809.226 1205.88 806.33 Q1205.88 803.656 1204 802.157 Q1202.14 800.638 1198.79 800.638 L1195.27 800.638 L1195.27 797.276 L1198.96 797.276 Q1201.97 797.276 1203.57 796.081 Q1205.18 794.865 1205.18 792.597 Q1205.18 790.268 1203.51 789.032 Q1201.87 787.776 1198.79 787.776 Q1197.11 787.776 1195.19 788.141 Q1193.27 788.506 1190.96 789.275 L1190.96 785.629 Q1193.29 784.981 1195.31 784.657 Q1197.36 784.333 1199.16 784.333 Q1203.82 784.333 1206.53 786.46 Q1209.25 788.566 1209.25 792.172 Q1209.25 794.683 1207.81 796.425 Q1206.37 798.147 1203.72 798.815 Z\" fill=\"#000000\" fill-rule=\"evenodd\" fill-opacity=\"1\" /><path clip-path=\"url(#clip850)\" d=\"M1737.68 251.228 L1732.13 266.277 L1743.25 266.277 L1737.68 251.228 M1735.37 247.197 L1740.01 247.197 L1751.54 277.437 L1747.28 277.437 L1744.53 269.68 L1730.9 269.68 L1728.14 277.437 L1723.83 277.437 L1735.37 247.197 Z\" fill=\"#000000\" fill-rule=\"evenodd\" fill-opacity=\"1\" /><path clip-path=\"url(#clip850)\" d=\"M655.684 1338.36 L655.684 1349.44 L662.246 1349.44 Q665.548 1349.44 667.128 1348.08 Q668.728 1346.71 668.728 1343.89 Q668.728 1341.06 667.128 1339.72 Q665.548 1338.36 662.246 1338.36 L655.684 1338.36 M655.684 1325.93 L655.684 1335.04 L661.74 1335.04 Q664.738 1335.04 666.196 1333.93 Q667.675 1332.79 667.675 1330.48 Q667.675 1328.19 666.196 1327.06 Q664.738 1325.93 661.74 1325.93 L655.684 1325.93 M651.592 1322.56 L662.044 1322.56 Q666.723 1322.56 669.254 1324.51 Q671.786 1326.45 671.786 1330.04 Q671.786 1332.81 670.49 1334.45 Q669.194 1336.09 666.682 1336.5 Q669.7 1337.15 671.361 1339.21 Q673.042 1341.26 673.042 1344.34 Q673.042 1348.39 670.287 1350.6 Q667.533 1352.8 662.449 1352.8 L651.592 1352.8 L651.592 1322.56 Z\" fill=\"#000000\" fill-rule=\"evenodd\" fill-opacity=\"1\" /></svg>\n"
      ]
     },
     "execution_count": 123,
     "metadata": {},
     "output_type": "execute_result"
    }
   ],
   "source": [
    "plotWeightedGraph(g2)"
   ]
  }
 ],
 "metadata": {
  "kernelspec": {
   "display_name": "Julia 1.8.0",
   "language": "julia",
   "name": "julia-1.8"
  },
  "language_info": {
   "file_extension": ".jl",
   "mimetype": "application/julia",
   "name": "julia",
   "version": "1.8.0"
  }
 },
 "nbformat": 4,
 "nbformat_minor": 5
}
